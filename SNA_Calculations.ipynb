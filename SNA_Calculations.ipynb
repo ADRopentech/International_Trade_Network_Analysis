{
  "nbformat": 4,
  "nbformat_minor": 0,
  "metadata": {
    "colab": {
      "provenance": [],
      "authorship_tag": "ABX9TyPqMOaqDtsNsGnZ63/EajBL",
      "include_colab_link": true
    },
    "kernelspec": {
      "name": "python3",
      "display_name": "Python 3"
    },
    "language_info": {
      "name": "python"
    }
  },
  "cells": [
    {
      "cell_type": "markdown",
      "metadata": {
        "id": "view-in-github",
        "colab_type": "text"
      },
      "source": [
        "<a href=\"https://colab.research.google.com/github/ADRopentech/International_Trade_Network_Analysis/blob/main/SNA_Calculations.ipynb\" target=\"_parent\"><img src=\"https://colab.research.google.com/assets/colab-badge.svg\" alt=\"Open In Colab\"/></a>"
      ]
    },
    {
      "cell_type": "markdown",
      "source": [
        "# Network"
      ],
      "metadata": {
        "id": "TxkBHwNhi80r"
      }
    },
    {
      "cell_type": "code",
      "execution_count": 1,
      "metadata": {
        "id": "_xmVBSvvdcJm"
      },
      "outputs": [],
      "source": [
        "import pandas as pd\n",
        "import numpy as np\n",
        "import matplotlib.pyplot as plt\n",
        "import seaborn as sns\n",
        "import networkx as nx\n",
        "from statsmodels.distributions.empirical_distribution import ECDF\n",
        "import networkx.algorithms.community as nx_comm\n",
        "import plotly.express as px\n",
        "#import community as louvain\n",
        "from sklearn.metrics import confusion_matrix\n",
        "\n",
        "#Plotting parameters\n",
        "sns.set(rc={\"figure.dpi\":300, \"savefig.dpi\":300})\n",
        "sns.set_context('notebook')\n",
        "sns.set_style(\"ticks\")"
      ]
    },
    {
      "cell_type": "code",
      "source": [
        "#import file\n",
        "dta = pd.read_csv('rice_trade_network.csv')\n",
        "nodes_tab = pd.read_csv('nodes_table.csv')\n",
        "\n",
        "nodes_tab['country_code'] = [\n",
        "    '00' + str(x) if len(str(x)) == 1\n",
        "    else '0' +  str(x) if len(str(x)) == 2\n",
        "    else str(x)\n",
        "    for x in nodes_tab['country_code'].tolist()\n",
        "]\n",
        "\n",
        "for col in ['exporter','importer']:\n",
        "  dta[col] = [\n",
        "      '00' + str(x) if len(str(x)) == 1\n",
        "      else '0' +  str(x) if len(str(x)) == 2\n",
        "      else str(x)\n",
        "      for x in dta[col].tolist()\n",
        "  ]\n",
        "\n",
        "#create list of nodes\n",
        "nodes = nodes_tab.country_code.values\n",
        "\n",
        "#create list of (weighted) edges\n",
        "edges = list(zip(dta.exporter.values,dta.importer.values, dta.final_trade_quantity.values))"
      ],
      "metadata": {
        "id": "jrgnztWXdswF"
      },
      "execution_count": 2,
      "outputs": []
    },
    {
      "cell_type": "code",
      "source": [
        "#initialize the (weighted and directed) graph\n",
        "G = nx.DiGraph()\n",
        "\n",
        "#insert nodes\n",
        "G.add_nodes_from(nodes)\n",
        "#and their 'Zone' attribute\n",
        "for i in range(len(nodes)):\n",
        "    G.nodes[nodes[i]]['Zone'] = nodes_tab.Zone.values[i]\n",
        "\n",
        "#insert weighted edges\n",
        "G.add_weighted_edges_from(edges)"
      ],
      "metadata": {
        "id": "MR_u0I5WdumC"
      },
      "execution_count": 3,
      "outputs": []
    },
    {
      "cell_type": "code",
      "source": [
        "#Create list of nodes for each zone\n",
        "zones = [z for z in nodes_tab.Zone.unique()]\n",
        "d = {}\n",
        "for z in zones:\n",
        "    d[z] = nodes_tab.country_code[nodes_tab.Zone == z].values"
      ],
      "metadata": {
        "id": "SuwsgOHQd92s"
      },
      "execution_count": 4,
      "outputs": []
    },
    {
      "cell_type": "code",
      "source": [
        "ISO_map = pd.read_csv('ISO_Mapping.csv')"
      ],
      "metadata": {
        "id": "6llHvtxvcdqf"
      },
      "execution_count": 58,
      "outputs": []
    },
    {
      "cell_type": "code",
      "source": [
        "display(ISO_map)"
      ],
      "metadata": {
        "colab": {
          "base_uri": "https://localhost:8080/",
          "height": 424
        },
        "id": "_4-QxkPOfRG1",
        "outputId": "772512e3-e27d-4187-ff0c-547694f3d4e2"
      },
      "execution_count": 64,
      "outputs": [
        {
          "output_type": "display_data",
          "data": {
            "text/plain": [
              "     Unnamed: 0  index Ccode  ISO\n",
              "0             0      0   000  W00\n",
              "1             1      1   180  COD\n",
              "2             2      2   192  CUB\n",
              "3             3      3   196  CYP\n",
              "4             4      4   470  MLT\n",
              "..          ...    ...   ...  ...\n",
              "225         225   2279   064  BTN\n",
              "226         226   2587   010  ATA\n",
              "227         227   2615   654  SHN\n",
              "228         228   3351   086  IOT\n",
              "229         229   3416   500  MSR\n",
              "\n",
              "[230 rows x 4 columns]"
            ],
            "text/html": [
              "\n",
              "  <div id=\"df-913b2648-30f5-426b-9ff1-f1c3dccd8544\" class=\"colab-df-container\">\n",
              "    <div>\n",
              "<style scoped>\n",
              "    .dataframe tbody tr th:only-of-type {\n",
              "        vertical-align: middle;\n",
              "    }\n",
              "\n",
              "    .dataframe tbody tr th {\n",
              "        vertical-align: top;\n",
              "    }\n",
              "\n",
              "    .dataframe thead th {\n",
              "        text-align: right;\n",
              "    }\n",
              "</style>\n",
              "<table border=\"1\" class=\"dataframe\">\n",
              "  <thead>\n",
              "    <tr style=\"text-align: right;\">\n",
              "      <th></th>\n",
              "      <th>Unnamed: 0</th>\n",
              "      <th>index</th>\n",
              "      <th>Ccode</th>\n",
              "      <th>ISO</th>\n",
              "    </tr>\n",
              "  </thead>\n",
              "  <tbody>\n",
              "    <tr>\n",
              "      <th>0</th>\n",
              "      <td>0</td>\n",
              "      <td>0</td>\n",
              "      <td>000</td>\n",
              "      <td>W00</td>\n",
              "    </tr>\n",
              "    <tr>\n",
              "      <th>1</th>\n",
              "      <td>1</td>\n",
              "      <td>1</td>\n",
              "      <td>180</td>\n",
              "      <td>COD</td>\n",
              "    </tr>\n",
              "    <tr>\n",
              "      <th>2</th>\n",
              "      <td>2</td>\n",
              "      <td>2</td>\n",
              "      <td>192</td>\n",
              "      <td>CUB</td>\n",
              "    </tr>\n",
              "    <tr>\n",
              "      <th>3</th>\n",
              "      <td>3</td>\n",
              "      <td>3</td>\n",
              "      <td>196</td>\n",
              "      <td>CYP</td>\n",
              "    </tr>\n",
              "    <tr>\n",
              "      <th>4</th>\n",
              "      <td>4</td>\n",
              "      <td>4</td>\n",
              "      <td>470</td>\n",
              "      <td>MLT</td>\n",
              "    </tr>\n",
              "    <tr>\n",
              "      <th>...</th>\n",
              "      <td>...</td>\n",
              "      <td>...</td>\n",
              "      <td>...</td>\n",
              "      <td>...</td>\n",
              "    </tr>\n",
              "    <tr>\n",
              "      <th>225</th>\n",
              "      <td>225</td>\n",
              "      <td>2279</td>\n",
              "      <td>064</td>\n",
              "      <td>BTN</td>\n",
              "    </tr>\n",
              "    <tr>\n",
              "      <th>226</th>\n",
              "      <td>226</td>\n",
              "      <td>2587</td>\n",
              "      <td>010</td>\n",
              "      <td>ATA</td>\n",
              "    </tr>\n",
              "    <tr>\n",
              "      <th>227</th>\n",
              "      <td>227</td>\n",
              "      <td>2615</td>\n",
              "      <td>654</td>\n",
              "      <td>SHN</td>\n",
              "    </tr>\n",
              "    <tr>\n",
              "      <th>228</th>\n",
              "      <td>228</td>\n",
              "      <td>3351</td>\n",
              "      <td>086</td>\n",
              "      <td>IOT</td>\n",
              "    </tr>\n",
              "    <tr>\n",
              "      <th>229</th>\n",
              "      <td>229</td>\n",
              "      <td>3416</td>\n",
              "      <td>500</td>\n",
              "      <td>MSR</td>\n",
              "    </tr>\n",
              "  </tbody>\n",
              "</table>\n",
              "<p>230 rows × 4 columns</p>\n",
              "</div>\n",
              "    <div class=\"colab-df-buttons\">\n",
              "\n",
              "  <div class=\"colab-df-container\">\n",
              "    <button class=\"colab-df-convert\" onclick=\"convertToInteractive('df-913b2648-30f5-426b-9ff1-f1c3dccd8544')\"\n",
              "            title=\"Convert this dataframe to an interactive table.\"\n",
              "            style=\"display:none;\">\n",
              "\n",
              "  <svg xmlns=\"http://www.w3.org/2000/svg\" height=\"24px\" viewBox=\"0 -960 960 960\">\n",
              "    <path d=\"M120-120v-720h720v720H120Zm60-500h600v-160H180v160Zm220 220h160v-160H400v160Zm0 220h160v-160H400v160ZM180-400h160v-160H180v160Zm440 0h160v-160H620v160ZM180-180h160v-160H180v160Zm440 0h160v-160H620v160Z\"/>\n",
              "  </svg>\n",
              "    </button>\n",
              "\n",
              "  <style>\n",
              "    .colab-df-container {\n",
              "      display:flex;\n",
              "      gap: 12px;\n",
              "    }\n",
              "\n",
              "    .colab-df-convert {\n",
              "      background-color: #E8F0FE;\n",
              "      border: none;\n",
              "      border-radius: 50%;\n",
              "      cursor: pointer;\n",
              "      display: none;\n",
              "      fill: #1967D2;\n",
              "      height: 32px;\n",
              "      padding: 0 0 0 0;\n",
              "      width: 32px;\n",
              "    }\n",
              "\n",
              "    .colab-df-convert:hover {\n",
              "      background-color: #E2EBFA;\n",
              "      box-shadow: 0px 1px 2px rgba(60, 64, 67, 0.3), 0px 1px 3px 1px rgba(60, 64, 67, 0.15);\n",
              "      fill: #174EA6;\n",
              "    }\n",
              "\n",
              "    .colab-df-buttons div {\n",
              "      margin-bottom: 4px;\n",
              "    }\n",
              "\n",
              "    [theme=dark] .colab-df-convert {\n",
              "      background-color: #3B4455;\n",
              "      fill: #D2E3FC;\n",
              "    }\n",
              "\n",
              "    [theme=dark] .colab-df-convert:hover {\n",
              "      background-color: #434B5C;\n",
              "      box-shadow: 0px 1px 3px 1px rgba(0, 0, 0, 0.15);\n",
              "      filter: drop-shadow(0px 1px 2px rgba(0, 0, 0, 0.3));\n",
              "      fill: #FFFFFF;\n",
              "    }\n",
              "  </style>\n",
              "\n",
              "    <script>\n",
              "      const buttonEl =\n",
              "        document.querySelector('#df-913b2648-30f5-426b-9ff1-f1c3dccd8544 button.colab-df-convert');\n",
              "      buttonEl.style.display =\n",
              "        google.colab.kernel.accessAllowed ? 'block' : 'none';\n",
              "\n",
              "      async function convertToInteractive(key) {\n",
              "        const element = document.querySelector('#df-913b2648-30f5-426b-9ff1-f1c3dccd8544');\n",
              "        const dataTable =\n",
              "          await google.colab.kernel.invokeFunction('convertToInteractive',\n",
              "                                                    [key], {});\n",
              "        if (!dataTable) return;\n",
              "\n",
              "        const docLinkHtml = 'Like what you see? Visit the ' +\n",
              "          '<a target=\"_blank\" href=https://colab.research.google.com/notebooks/data_table.ipynb>data table notebook</a>'\n",
              "          + ' to learn more about interactive tables.';\n",
              "        element.innerHTML = '';\n",
              "        dataTable['output_type'] = 'display_data';\n",
              "        await google.colab.output.renderOutput(dataTable, element);\n",
              "        const docLink = document.createElement('div');\n",
              "        docLink.innerHTML = docLinkHtml;\n",
              "        element.appendChild(docLink);\n",
              "      }\n",
              "    </script>\n",
              "  </div>\n",
              "\n",
              "\n",
              "<div id=\"df-4255781d-0278-41b9-bd07-cc5d55779d72\">\n",
              "  <button class=\"colab-df-quickchart\" onclick=\"quickchart('df-4255781d-0278-41b9-bd07-cc5d55779d72')\"\n",
              "            title=\"Suggest charts\"\n",
              "            style=\"display:none;\">\n",
              "\n",
              "<svg xmlns=\"http://www.w3.org/2000/svg\" height=\"24px\"viewBox=\"0 0 24 24\"\n",
              "     width=\"24px\">\n",
              "    <g>\n",
              "        <path d=\"M19 3H5c-1.1 0-2 .9-2 2v14c0 1.1.9 2 2 2h14c1.1 0 2-.9 2-2V5c0-1.1-.9-2-2-2zM9 17H7v-7h2v7zm4 0h-2V7h2v10zm4 0h-2v-4h2v4z\"/>\n",
              "    </g>\n",
              "</svg>\n",
              "  </button>\n",
              "\n",
              "<style>\n",
              "  .colab-df-quickchart {\n",
              "      --bg-color: #E8F0FE;\n",
              "      --fill-color: #1967D2;\n",
              "      --hover-bg-color: #E2EBFA;\n",
              "      --hover-fill-color: #174EA6;\n",
              "      --disabled-fill-color: #AAA;\n",
              "      --disabled-bg-color: #DDD;\n",
              "  }\n",
              "\n",
              "  [theme=dark] .colab-df-quickchart {\n",
              "      --bg-color: #3B4455;\n",
              "      --fill-color: #D2E3FC;\n",
              "      --hover-bg-color: #434B5C;\n",
              "      --hover-fill-color: #FFFFFF;\n",
              "      --disabled-bg-color: #3B4455;\n",
              "      --disabled-fill-color: #666;\n",
              "  }\n",
              "\n",
              "  .colab-df-quickchart {\n",
              "    background-color: var(--bg-color);\n",
              "    border: none;\n",
              "    border-radius: 50%;\n",
              "    cursor: pointer;\n",
              "    display: none;\n",
              "    fill: var(--fill-color);\n",
              "    height: 32px;\n",
              "    padding: 0;\n",
              "    width: 32px;\n",
              "  }\n",
              "\n",
              "  .colab-df-quickchart:hover {\n",
              "    background-color: var(--hover-bg-color);\n",
              "    box-shadow: 0 1px 2px rgba(60, 64, 67, 0.3), 0 1px 3px 1px rgba(60, 64, 67, 0.15);\n",
              "    fill: var(--button-hover-fill-color);\n",
              "  }\n",
              "\n",
              "  .colab-df-quickchart-complete:disabled,\n",
              "  .colab-df-quickchart-complete:disabled:hover {\n",
              "    background-color: var(--disabled-bg-color);\n",
              "    fill: var(--disabled-fill-color);\n",
              "    box-shadow: none;\n",
              "  }\n",
              "\n",
              "  .colab-df-spinner {\n",
              "    border: 2px solid var(--fill-color);\n",
              "    border-color: transparent;\n",
              "    border-bottom-color: var(--fill-color);\n",
              "    animation:\n",
              "      spin 1s steps(1) infinite;\n",
              "  }\n",
              "\n",
              "  @keyframes spin {\n",
              "    0% {\n",
              "      border-color: transparent;\n",
              "      border-bottom-color: var(--fill-color);\n",
              "      border-left-color: var(--fill-color);\n",
              "    }\n",
              "    20% {\n",
              "      border-color: transparent;\n",
              "      border-left-color: var(--fill-color);\n",
              "      border-top-color: var(--fill-color);\n",
              "    }\n",
              "    30% {\n",
              "      border-color: transparent;\n",
              "      border-left-color: var(--fill-color);\n",
              "      border-top-color: var(--fill-color);\n",
              "      border-right-color: var(--fill-color);\n",
              "    }\n",
              "    40% {\n",
              "      border-color: transparent;\n",
              "      border-right-color: var(--fill-color);\n",
              "      border-top-color: var(--fill-color);\n",
              "    }\n",
              "    60% {\n",
              "      border-color: transparent;\n",
              "      border-right-color: var(--fill-color);\n",
              "    }\n",
              "    80% {\n",
              "      border-color: transparent;\n",
              "      border-right-color: var(--fill-color);\n",
              "      border-bottom-color: var(--fill-color);\n",
              "    }\n",
              "    90% {\n",
              "      border-color: transparent;\n",
              "      border-bottom-color: var(--fill-color);\n",
              "    }\n",
              "  }\n",
              "</style>\n",
              "\n",
              "  <script>\n",
              "    async function quickchart(key) {\n",
              "      const quickchartButtonEl =\n",
              "        document.querySelector('#' + key + ' button');\n",
              "      quickchartButtonEl.disabled = true;  // To prevent multiple clicks.\n",
              "      quickchartButtonEl.classList.add('colab-df-spinner');\n",
              "      try {\n",
              "        const charts = await google.colab.kernel.invokeFunction(\n",
              "            'suggestCharts', [key], {});\n",
              "      } catch (error) {\n",
              "        console.error('Error during call to suggestCharts:', error);\n",
              "      }\n",
              "      quickchartButtonEl.classList.remove('colab-df-spinner');\n",
              "      quickchartButtonEl.classList.add('colab-df-quickchart-complete');\n",
              "    }\n",
              "    (() => {\n",
              "      let quickchartButtonEl =\n",
              "        document.querySelector('#df-4255781d-0278-41b9-bd07-cc5d55779d72 button');\n",
              "      quickchartButtonEl.style.display =\n",
              "        google.colab.kernel.accessAllowed ? 'block' : 'none';\n",
              "    })();\n",
              "  </script>\n",
              "</div>\n",
              "\n",
              "  <div id=\"id_d6c27fe8-e273-4abe-9deb-4152d3680d3b\">\n",
              "    <style>\n",
              "      .colab-df-generate {\n",
              "        background-color: #E8F0FE;\n",
              "        border: none;\n",
              "        border-radius: 50%;\n",
              "        cursor: pointer;\n",
              "        display: none;\n",
              "        fill: #1967D2;\n",
              "        height: 32px;\n",
              "        padding: 0 0 0 0;\n",
              "        width: 32px;\n",
              "      }\n",
              "\n",
              "      .colab-df-generate:hover {\n",
              "        background-color: #E2EBFA;\n",
              "        box-shadow: 0px 1px 2px rgba(60, 64, 67, 0.3), 0px 1px 3px 1px rgba(60, 64, 67, 0.15);\n",
              "        fill: #174EA6;\n",
              "      }\n",
              "\n",
              "      [theme=dark] .colab-df-generate {\n",
              "        background-color: #3B4455;\n",
              "        fill: #D2E3FC;\n",
              "      }\n",
              "\n",
              "      [theme=dark] .colab-df-generate:hover {\n",
              "        background-color: #434B5C;\n",
              "        box-shadow: 0px 1px 3px 1px rgba(0, 0, 0, 0.15);\n",
              "        filter: drop-shadow(0px 1px 2px rgba(0, 0, 0, 0.3));\n",
              "        fill: #FFFFFF;\n",
              "      }\n",
              "    </style>\n",
              "    <button class=\"colab-df-generate\" onclick=\"generateWithVariable('ISO_map')\"\n",
              "            title=\"Generate code using this dataframe.\"\n",
              "            style=\"display:none;\">\n",
              "\n",
              "  <svg xmlns=\"http://www.w3.org/2000/svg\" height=\"24px\"viewBox=\"0 0 24 24\"\n",
              "       width=\"24px\">\n",
              "    <path d=\"M7,19H8.4L18.45,9,17,7.55,7,17.6ZM5,21V16.75L18.45,3.32a2,2,0,0,1,2.83,0l1.4,1.43a1.91,1.91,0,0,1,.58,1.4,1.91,1.91,0,0,1-.58,1.4L9.25,21ZM18.45,9,17,7.55Zm-12,3A5.31,5.31,0,0,0,4.9,8.1,5.31,5.31,0,0,0,1,6.5,5.31,5.31,0,0,0,4.9,4.9,5.31,5.31,0,0,0,6.5,1,5.31,5.31,0,0,0,8.1,4.9,5.31,5.31,0,0,0,12,6.5,5.46,5.46,0,0,0,6.5,12Z\"/>\n",
              "  </svg>\n",
              "    </button>\n",
              "    <script>\n",
              "      (() => {\n",
              "      const buttonEl =\n",
              "        document.querySelector('#id_d6c27fe8-e273-4abe-9deb-4152d3680d3b button.colab-df-generate');\n",
              "      buttonEl.style.display =\n",
              "        google.colab.kernel.accessAllowed ? 'block' : 'none';\n",
              "\n",
              "      buttonEl.onclick = () => {\n",
              "        google.colab.notebook.generateWithVariable('ISO_map');\n",
              "      }\n",
              "      })();\n",
              "    </script>\n",
              "  </div>\n",
              "\n",
              "    </div>\n",
              "  </div>\n"
            ],
            "application/vnd.google.colaboratory.intrinsic+json": {
              "type": "dataframe",
              "variable_name": "ISO_map",
              "summary": "{\n  \"name\": \"ISO_map\",\n  \"rows\": 230,\n  \"fields\": [\n    {\n      \"column\": \"Unnamed: 0\",\n      \"properties\": {\n        \"dtype\": \"number\",\n        \"std\": 66,\n        \"min\": 0,\n        \"max\": 229,\n        \"num_unique_values\": 230,\n        \"samples\": [\n          217,\n          66,\n          9\n        ],\n        \"semantic_type\": \"\",\n        \"description\": \"\"\n      }\n    },\n    {\n      \"column\": \"index\",\n      \"properties\": {\n        \"dtype\": \"number\",\n        \"std\": 553,\n        \"min\": 0,\n        \"max\": 3416,\n        \"num_unique_values\": 230,\n        \"samples\": [\n          1419,\n          84,\n          9\n        ],\n        \"semantic_type\": \"\",\n        \"description\": \"\"\n      }\n    },\n    {\n      \"column\": \"Ccode\",\n      \"properties\": {\n        \"dtype\": \"string\",\n        \"num_unique_values\": 230,\n        \"samples\": [\n          \"728\",\n          \"512\",\n          \"724\"\n        ],\n        \"semantic_type\": \"\",\n        \"description\": \"\"\n      }\n    },\n    {\n      \"column\": \"ISO\",\n      \"properties\": {\n        \"dtype\": \"string\",\n        \"num_unique_values\": 230,\n        \"samples\": [\n          \"SSD\",\n          \"OMN\",\n          \"ESP\"\n        ],\n        \"semantic_type\": \"\",\n        \"description\": \"\"\n      }\n    }\n  ]\n}"
            }
          },
          "metadata": {}
        }
      ]
    },
    {
      "cell_type": "code",
      "source": [
        "ISO_map['Ccode'] = [\n",
        "    '00' + str(x) if len(str(x)) == 1\n",
        "    else '0' +  str(x) if len(str(x)) == 2\n",
        "    else str(x)\n",
        "    for x in ISO_map['Ccode'].tolist()\n",
        "]"
      ],
      "metadata": {
        "id": "vSu7ZW1PdIAY"
      },
      "execution_count": 63,
      "outputs": []
    },
    {
      "cell_type": "code",
      "source": [
        "iso_map = ISO_map.set_index('Ccode')['ISO'].to_dict()"
      ],
      "metadata": {
        "id": "FzRnGnDgdgSE"
      },
      "execution_count": 65,
      "outputs": []
    },
    {
      "cell_type": "code",
      "source": [
        "print(iso_map)"
      ],
      "metadata": {
        "colab": {
          "base_uri": "https://localhost:8080/"
        },
        "id": "rUiypPkXftic",
        "outputId": "be40d6d6-451a-4f82-8eb3-d1b7208968cd"
      },
      "execution_count": 66,
      "outputs": [
        {
          "output_type": "stream",
          "name": "stdout",
          "text": [
            "{'000': 'W00', '180': 'COD', '192': 'CUB', '196': 'CYP', '470': 'MLT', '516': 'NAM', '591': 'PAN', '620': 'PRT', '699': 'IND', '724': 'ESP', '398': 'KAZ', '616': 'POL', '643': 'RUS', '804': 'UKR', '842': 'USA', '068': 'BOL', '076': 'BRA', '124': 'CAN', '152': 'CHL', '188': 'CRI', '376': 'ISR', '400': 'JOR', '484': 'MEX', '528': 'NLD', '682': 'SAU', '792': 'TUR', '826': 'GBR', '032': 'ARG', '156': 'CHN', '344': 'HKG', '554': 'NZL', '899': '_X ', '008': 'ALB', '056': 'BEL', '070': 'BIH', '100': 'BGR', '191': 'HRV', '203': 'CZE', '208': 'DNK', '233': 'EST', '246': 'FIN', '251': 'FRA', '270': 'GMB', '276': 'DEU', '300': 'GRC', '348': 'HUN', '372': 'IRL', '380': 'ITA', '428': 'LVA', '440': 'LTU', '442': 'LUX', '466': 'MLI', '579': 'NOR', '642': 'ROU', '686': 'SEN', '688': 'SRB', '703': 'SVK', '705': 'SVN', '710': 'ZAF', '752': 'SWE', '757': 'CHE', '807': 'MKD', '368': 'IRQ', '414': 'KWT', '430': 'LBR', '508': 'MOZ', '512': 'OMN', '562': 'NER', '586': 'PAK', '702': 'SGP', '784': 'ARE', '837': 'X1 ', '887': 'YEM', '136': 'CYM', '662': 'LCA', '036': 'AUS', '040': 'AUT', '048': 'BHR', '108': 'BDI', '120': 'CMR', '144': 'LKA', '148': 'TCD', '178': 'COG', '204': 'BEN', '226': 'GNQ', '231': 'ETH', '258': 'PYF', '288': 'GHA', '324': 'GIN', '352': 'ISL', '404': 'KEN', '504': 'MAR', '531': 'CUW', '540': 'NCL', '566': 'NGA', '624': 'GNB', '634': 'QAT', '646': 'RWA', '690': 'SYC', '729': 'SDN', '740': 'SUR', '768': 'TGO', '800': 'UGA', '818': 'EGY', '834': 'TZA', '499': 'MNE', '716': 'ZWE', '894': 'ZMB', '012': 'DZA', '024': 'AGO', '028': 'ATG', '044': 'BHS', '050': 'BGD', '052': 'BRB', '060': 'BMU', '084': 'BLZ', '132': 'CPV', '170': 'COL', '174': 'COM', '184': 'COK', '218': 'ECU', '222': 'SLV', '238': 'FLK', '266': 'GAB', '292': 'GIB', '320': 'GTM', '328': 'GUY', '340': 'HND', '360': 'IDN', '364': 'IRN', '392': 'JPN', '410': 'KOR', '422': 'LBN', '434': 'LBY', '458': 'MYS', '490': 'S19', '533': 'ABW', '548': 'VUT', '584': 'MHL', '585': 'PLW', '600': 'PRY', '604': 'PER', '608': 'PHL', '670': 'VCT', '678': 'STP', '694': 'SLE', '704': 'VNM', '764': 'THA', '780': 'TTO', '798': 'TUV', '858': 'URY', '862': 'VEN', '116': 'KHM', '051': 'ARM', '268': 'GEO', '498': 'MDA', '384': 'CIV', '450': 'MDG', '598': 'PNG', '854': 'BFA', '096': 'BRN', '446': 'MAC', '580': 'MNP', '092': 'VGB', '212': 'DMA', '308': 'GRD', '332': 'HTI', '388': 'JAM', '660': 'AIA', '666': 'SPM', '016': 'ASM', '072': 'BWA', '214': 'DOM', '462': 'MDV', '004': 'AFG', '090': 'SLB', '104': 'MMR', '140': 'CAF', '242': 'FJI', '262': 'DJI', '296': 'KIR', '408': 'PRK', '496': 'MNG', '524': 'NPL', '583': 'FSM', '626': 'TLS', '706': 'SOM', '760': 'SYR', '776': 'TON', '876': 'WLF', '882': 'WSM', '558': 'NIC', '568': 'E19', '234': 'FRO', '304': 'GRL', '796': 'TCA', '520': 'NRU', '570': 'NIU', '020': 'AND', '418': 'LAO', '478': 'MRT', '480': 'MUS', '534': 'SXM', '788': 'TUN', '031': 'AZE', '275': 'PSE', '659': 'KNA', '473': 'A79', '527': 'O19', '112': 'BLR', '839': 'XX ', '316': 'GUM', '417': 'KGZ', '762': 'TJK', '795': 'TKM', '860': 'UZB', '838': 'X2 ', '728': 'SSD', '454': 'MWI', '748': 'SWZ', '426': 'LSO', '232': 'ERI', '535': 'BES', '574': 'NFK', '652': 'BLM', '064': 'BTN', '010': 'ATA', '654': 'SHN', '086': 'IOT', '500': 'MSR'}\n"
          ]
        }
      ]
    },
    {
      "cell_type": "markdown",
      "source": [
        "# Density and Diameter Analysis"
      ],
      "metadata": {
        "id": "g9VT_ONcjB8x"
      }
    },
    {
      "cell_type": "code",
      "source": [
        "#Number of nodes and links\n",
        "print('Number of nodes:', G.number_of_nodes())\n",
        "print('Number of links:', G.number_of_edges())\n",
        "print('Density:', nx.density(G))"
      ],
      "metadata": {
        "colab": {
          "base_uri": "https://localhost:8080/"
        },
        "id": "MXbd4BldjH8E",
        "outputId": "a0351277-4144-4add-d495-03b62114b5cb"
      },
      "execution_count": 5,
      "outputs": [
        {
          "output_type": "stream",
          "name": "stdout",
          "text": [
            "Number of nodes: 231\n",
            "Number of links: 4806\n",
            "Density: 0.09045736871823828\n"
          ]
        }
      ]
    },
    {
      "cell_type": "code",
      "source": [
        "print('Is there any isolated node?', bool(list(nx.isolates(G))))\n",
        "print('\\n')\n",
        "print('Is the graph strongly connected?', nx.is_strongly_connected(G))\n",
        "print('Number of strongly connected components:', nx.number_strongly_connected_components(G))\n",
        "print('Strongly Connected Node: ', len(list(nx.strongly_connected_components(G))))"
      ],
      "metadata": {
        "colab": {
          "base_uri": "https://localhost:8080/"
        },
        "id": "faAyK5CNKQI7",
        "outputId": "9482f2fc-209a-4998-b3ef-4520351431b3"
      },
      "execution_count": 82,
      "outputs": [
        {
          "output_type": "stream",
          "name": "stdout",
          "text": [
            "Is there any isolated node? False\n",
            "\n",
            "\n",
            "Is the graph strongly connected? False\n",
            "Number of strongly connected components: 51\n",
            "Strongly Connected Node:  51\n"
          ]
        }
      ]
    },
    {
      "cell_type": "code",
      "source": [
        "comp_size = pd.Series([len(c) for c in nx.strongly_connected_components(G)])\n",
        "\n",
        "comp_size.value_counts()\n",
        "#Comp size | Frequency"
      ],
      "metadata": {
        "colab": {
          "base_uri": "https://localhost:8080/"
        },
        "id": "tzKW6cUgKeuo",
        "outputId": "db5524b5-83c7-4cc9-d573-d92d72ef055b"
      },
      "execution_count": 7,
      "outputs": [
        {
          "output_type": "execute_result",
          "data": {
            "text/plain": [
              "1      50\n",
              "181     1\n",
              "Name: count, dtype: int64"
            ]
          },
          "metadata": {},
          "execution_count": 7
        }
      ]
    },
    {
      "cell_type": "code",
      "source": [
        "print('Is the graph weakly connected?', nx.is_weakly_connected(G))\n",
        "print('Number of weakly connected components:', nx.number_weakly_connected_components(G))\n",
        "print('Weakly Connected Node: ', len(list(nx.weakly_connected_components(G))))"
      ],
      "metadata": {
        "colab": {
          "base_uri": "https://localhost:8080/"
        },
        "id": "YcAk9sjxKjh0",
        "outputId": "2a3b7eea-9fb0-4beb-e031-1316850f19d1"
      },
      "execution_count": 83,
      "outputs": [
        {
          "output_type": "stream",
          "name": "stdout",
          "text": [
            "Is the graph weakly connected? True\n",
            "Number of weakly connected components: 1\n",
            "Weakly Connected Node:  1\n"
          ]
        }
      ]
    },
    {
      "cell_type": "code",
      "source": [
        "print('Is the graph semi connected?', nx.is_semiconnected(G))"
      ],
      "metadata": {
        "colab": {
          "base_uri": "https://localhost:8080/"
        },
        "id": "bseC8ApkrM-p",
        "outputId": "bf226bd2-65a9-42df-b21b-c38bc119a34b"
      },
      "execution_count": 84,
      "outputs": [
        {
          "output_type": "stream",
          "name": "stdout",
          "text": [
            "Is the graph semi connected? False\n"
          ]
        }
      ]
    },
    {
      "cell_type": "code",
      "source": [
        "#heaviest edges\n",
        "#weight is to be understood as thousand Kgs\n",
        "dta.sort_values('final_trade_quantity', ascending=False).head()"
      ],
      "metadata": {
        "colab": {
          "base_uri": "https://localhost:8080/",
          "height": 206
        },
        "id": "mJ6wIh9GKwoO",
        "outputId": "edf17a3a-beaa-4882-c831-9e114686ce21"
      },
      "execution_count": 9,
      "outputs": [
        {
          "output_type": "execute_result",
          "data": {
            "text/plain": [
              "      Unnamed: 0 exporter importer  final_trade_quantity exporter_country  \\\n",
              "3553        2963      704      608          3.215154e+09         Viet Nam   \n",
              "3256        1007      699      156          2.180495e+09            India   \n",
              "3266        1252      699      204          1.630420e+09            India   \n",
              "3926        1990      764      368          1.600163e+09         Thailand   \n",
              "3358        3102      699      686          1.355147e+09            India   \n",
              "\n",
              "     importer_country SourceZone TargetZone  \n",
              "3553      Philippines       Asia       Asia  \n",
              "3256            China       Asia       Asia  \n",
              "3266            Benin       Asia     Africa  \n",
              "3926             Iraq       Asia       Asia  \n",
              "3358          Senegal       Asia     Africa  "
            ],
            "text/html": [
              "\n",
              "  <div id=\"df-43c56ecd-00a0-4508-98e8-a8621379ebc8\" class=\"colab-df-container\">\n",
              "    <div>\n",
              "<style scoped>\n",
              "    .dataframe tbody tr th:only-of-type {\n",
              "        vertical-align: middle;\n",
              "    }\n",
              "\n",
              "    .dataframe tbody tr th {\n",
              "        vertical-align: top;\n",
              "    }\n",
              "\n",
              "    .dataframe thead th {\n",
              "        text-align: right;\n",
              "    }\n",
              "</style>\n",
              "<table border=\"1\" class=\"dataframe\">\n",
              "  <thead>\n",
              "    <tr style=\"text-align: right;\">\n",
              "      <th></th>\n",
              "      <th>Unnamed: 0</th>\n",
              "      <th>exporter</th>\n",
              "      <th>importer</th>\n",
              "      <th>final_trade_quantity</th>\n",
              "      <th>exporter_country</th>\n",
              "      <th>importer_country</th>\n",
              "      <th>SourceZone</th>\n",
              "      <th>TargetZone</th>\n",
              "    </tr>\n",
              "  </thead>\n",
              "  <tbody>\n",
              "    <tr>\n",
              "      <th>3553</th>\n",
              "      <td>2963</td>\n",
              "      <td>704</td>\n",
              "      <td>608</td>\n",
              "      <td>3.215154e+09</td>\n",
              "      <td>Viet Nam</td>\n",
              "      <td>Philippines</td>\n",
              "      <td>Asia</td>\n",
              "      <td>Asia</td>\n",
              "    </tr>\n",
              "    <tr>\n",
              "      <th>3256</th>\n",
              "      <td>1007</td>\n",
              "      <td>699</td>\n",
              "      <td>156</td>\n",
              "      <td>2.180495e+09</td>\n",
              "      <td>India</td>\n",
              "      <td>China</td>\n",
              "      <td>Asia</td>\n",
              "      <td>Asia</td>\n",
              "    </tr>\n",
              "    <tr>\n",
              "      <th>3266</th>\n",
              "      <td>1252</td>\n",
              "      <td>699</td>\n",
              "      <td>204</td>\n",
              "      <td>1.630420e+09</td>\n",
              "      <td>India</td>\n",
              "      <td>Benin</td>\n",
              "      <td>Asia</td>\n",
              "      <td>Africa</td>\n",
              "    </tr>\n",
              "    <tr>\n",
              "      <th>3926</th>\n",
              "      <td>1990</td>\n",
              "      <td>764</td>\n",
              "      <td>368</td>\n",
              "      <td>1.600163e+09</td>\n",
              "      <td>Thailand</td>\n",
              "      <td>Iraq</td>\n",
              "      <td>Asia</td>\n",
              "      <td>Asia</td>\n",
              "    </tr>\n",
              "    <tr>\n",
              "      <th>3358</th>\n",
              "      <td>3102</td>\n",
              "      <td>699</td>\n",
              "      <td>686</td>\n",
              "      <td>1.355147e+09</td>\n",
              "      <td>India</td>\n",
              "      <td>Senegal</td>\n",
              "      <td>Asia</td>\n",
              "      <td>Africa</td>\n",
              "    </tr>\n",
              "  </tbody>\n",
              "</table>\n",
              "</div>\n",
              "    <div class=\"colab-df-buttons\">\n",
              "\n",
              "  <div class=\"colab-df-container\">\n",
              "    <button class=\"colab-df-convert\" onclick=\"convertToInteractive('df-43c56ecd-00a0-4508-98e8-a8621379ebc8')\"\n",
              "            title=\"Convert this dataframe to an interactive table.\"\n",
              "            style=\"display:none;\">\n",
              "\n",
              "  <svg xmlns=\"http://www.w3.org/2000/svg\" height=\"24px\" viewBox=\"0 -960 960 960\">\n",
              "    <path d=\"M120-120v-720h720v720H120Zm60-500h600v-160H180v160Zm220 220h160v-160H400v160Zm0 220h160v-160H400v160ZM180-400h160v-160H180v160Zm440 0h160v-160H620v160ZM180-180h160v-160H180v160Zm440 0h160v-160H620v160Z\"/>\n",
              "  </svg>\n",
              "    </button>\n",
              "\n",
              "  <style>\n",
              "    .colab-df-container {\n",
              "      display:flex;\n",
              "      gap: 12px;\n",
              "    }\n",
              "\n",
              "    .colab-df-convert {\n",
              "      background-color: #E8F0FE;\n",
              "      border: none;\n",
              "      border-radius: 50%;\n",
              "      cursor: pointer;\n",
              "      display: none;\n",
              "      fill: #1967D2;\n",
              "      height: 32px;\n",
              "      padding: 0 0 0 0;\n",
              "      width: 32px;\n",
              "    }\n",
              "\n",
              "    .colab-df-convert:hover {\n",
              "      background-color: #E2EBFA;\n",
              "      box-shadow: 0px 1px 2px rgba(60, 64, 67, 0.3), 0px 1px 3px 1px rgba(60, 64, 67, 0.15);\n",
              "      fill: #174EA6;\n",
              "    }\n",
              "\n",
              "    .colab-df-buttons div {\n",
              "      margin-bottom: 4px;\n",
              "    }\n",
              "\n",
              "    [theme=dark] .colab-df-convert {\n",
              "      background-color: #3B4455;\n",
              "      fill: #D2E3FC;\n",
              "    }\n",
              "\n",
              "    [theme=dark] .colab-df-convert:hover {\n",
              "      background-color: #434B5C;\n",
              "      box-shadow: 0px 1px 3px 1px rgba(0, 0, 0, 0.15);\n",
              "      filter: drop-shadow(0px 1px 2px rgba(0, 0, 0, 0.3));\n",
              "      fill: #FFFFFF;\n",
              "    }\n",
              "  </style>\n",
              "\n",
              "    <script>\n",
              "      const buttonEl =\n",
              "        document.querySelector('#df-43c56ecd-00a0-4508-98e8-a8621379ebc8 button.colab-df-convert');\n",
              "      buttonEl.style.display =\n",
              "        google.colab.kernel.accessAllowed ? 'block' : 'none';\n",
              "\n",
              "      async function convertToInteractive(key) {\n",
              "        const element = document.querySelector('#df-43c56ecd-00a0-4508-98e8-a8621379ebc8');\n",
              "        const dataTable =\n",
              "          await google.colab.kernel.invokeFunction('convertToInteractive',\n",
              "                                                    [key], {});\n",
              "        if (!dataTable) return;\n",
              "\n",
              "        const docLinkHtml = 'Like what you see? Visit the ' +\n",
              "          '<a target=\"_blank\" href=https://colab.research.google.com/notebooks/data_table.ipynb>data table notebook</a>'\n",
              "          + ' to learn more about interactive tables.';\n",
              "        element.innerHTML = '';\n",
              "        dataTable['output_type'] = 'display_data';\n",
              "        await google.colab.output.renderOutput(dataTable, element);\n",
              "        const docLink = document.createElement('div');\n",
              "        docLink.innerHTML = docLinkHtml;\n",
              "        element.appendChild(docLink);\n",
              "      }\n",
              "    </script>\n",
              "  </div>\n",
              "\n",
              "\n",
              "<div id=\"df-79d7f709-fb6e-400d-b91a-cb8d8867bd07\">\n",
              "  <button class=\"colab-df-quickchart\" onclick=\"quickchart('df-79d7f709-fb6e-400d-b91a-cb8d8867bd07')\"\n",
              "            title=\"Suggest charts\"\n",
              "            style=\"display:none;\">\n",
              "\n",
              "<svg xmlns=\"http://www.w3.org/2000/svg\" height=\"24px\"viewBox=\"0 0 24 24\"\n",
              "     width=\"24px\">\n",
              "    <g>\n",
              "        <path d=\"M19 3H5c-1.1 0-2 .9-2 2v14c0 1.1.9 2 2 2h14c1.1 0 2-.9 2-2V5c0-1.1-.9-2-2-2zM9 17H7v-7h2v7zm4 0h-2V7h2v10zm4 0h-2v-4h2v4z\"/>\n",
              "    </g>\n",
              "</svg>\n",
              "  </button>\n",
              "\n",
              "<style>\n",
              "  .colab-df-quickchart {\n",
              "      --bg-color: #E8F0FE;\n",
              "      --fill-color: #1967D2;\n",
              "      --hover-bg-color: #E2EBFA;\n",
              "      --hover-fill-color: #174EA6;\n",
              "      --disabled-fill-color: #AAA;\n",
              "      --disabled-bg-color: #DDD;\n",
              "  }\n",
              "\n",
              "  [theme=dark] .colab-df-quickchart {\n",
              "      --bg-color: #3B4455;\n",
              "      --fill-color: #D2E3FC;\n",
              "      --hover-bg-color: #434B5C;\n",
              "      --hover-fill-color: #FFFFFF;\n",
              "      --disabled-bg-color: #3B4455;\n",
              "      --disabled-fill-color: #666;\n",
              "  }\n",
              "\n",
              "  .colab-df-quickchart {\n",
              "    background-color: var(--bg-color);\n",
              "    border: none;\n",
              "    border-radius: 50%;\n",
              "    cursor: pointer;\n",
              "    display: none;\n",
              "    fill: var(--fill-color);\n",
              "    height: 32px;\n",
              "    padding: 0;\n",
              "    width: 32px;\n",
              "  }\n",
              "\n",
              "  .colab-df-quickchart:hover {\n",
              "    background-color: var(--hover-bg-color);\n",
              "    box-shadow: 0 1px 2px rgba(60, 64, 67, 0.3), 0 1px 3px 1px rgba(60, 64, 67, 0.15);\n",
              "    fill: var(--button-hover-fill-color);\n",
              "  }\n",
              "\n",
              "  .colab-df-quickchart-complete:disabled,\n",
              "  .colab-df-quickchart-complete:disabled:hover {\n",
              "    background-color: var(--disabled-bg-color);\n",
              "    fill: var(--disabled-fill-color);\n",
              "    box-shadow: none;\n",
              "  }\n",
              "\n",
              "  .colab-df-spinner {\n",
              "    border: 2px solid var(--fill-color);\n",
              "    border-color: transparent;\n",
              "    border-bottom-color: var(--fill-color);\n",
              "    animation:\n",
              "      spin 1s steps(1) infinite;\n",
              "  }\n",
              "\n",
              "  @keyframes spin {\n",
              "    0% {\n",
              "      border-color: transparent;\n",
              "      border-bottom-color: var(--fill-color);\n",
              "      border-left-color: var(--fill-color);\n",
              "    }\n",
              "    20% {\n",
              "      border-color: transparent;\n",
              "      border-left-color: var(--fill-color);\n",
              "      border-top-color: var(--fill-color);\n",
              "    }\n",
              "    30% {\n",
              "      border-color: transparent;\n",
              "      border-left-color: var(--fill-color);\n",
              "      border-top-color: var(--fill-color);\n",
              "      border-right-color: var(--fill-color);\n",
              "    }\n",
              "    40% {\n",
              "      border-color: transparent;\n",
              "      border-right-color: var(--fill-color);\n",
              "      border-top-color: var(--fill-color);\n",
              "    }\n",
              "    60% {\n",
              "      border-color: transparent;\n",
              "      border-right-color: var(--fill-color);\n",
              "    }\n",
              "    80% {\n",
              "      border-color: transparent;\n",
              "      border-right-color: var(--fill-color);\n",
              "      border-bottom-color: var(--fill-color);\n",
              "    }\n",
              "    90% {\n",
              "      border-color: transparent;\n",
              "      border-bottom-color: var(--fill-color);\n",
              "    }\n",
              "  }\n",
              "</style>\n",
              "\n",
              "  <script>\n",
              "    async function quickchart(key) {\n",
              "      const quickchartButtonEl =\n",
              "        document.querySelector('#' + key + ' button');\n",
              "      quickchartButtonEl.disabled = true;  // To prevent multiple clicks.\n",
              "      quickchartButtonEl.classList.add('colab-df-spinner');\n",
              "      try {\n",
              "        const charts = await google.colab.kernel.invokeFunction(\n",
              "            'suggestCharts', [key], {});\n",
              "      } catch (error) {\n",
              "        console.error('Error during call to suggestCharts:', error);\n",
              "      }\n",
              "      quickchartButtonEl.classList.remove('colab-df-spinner');\n",
              "      quickchartButtonEl.classList.add('colab-df-quickchart-complete');\n",
              "    }\n",
              "    (() => {\n",
              "      let quickchartButtonEl =\n",
              "        document.querySelector('#df-79d7f709-fb6e-400d-b91a-cb8d8867bd07 button');\n",
              "      quickchartButtonEl.style.display =\n",
              "        google.colab.kernel.accessAllowed ? 'block' : 'none';\n",
              "    })();\n",
              "  </script>\n",
              "</div>\n",
              "\n",
              "    </div>\n",
              "  </div>\n"
            ],
            "application/vnd.google.colaboratory.intrinsic+json": {
              "type": "dataframe",
              "summary": "{\n  \"name\": \"dta\",\n  \"rows\": 5,\n  \"fields\": [\n    {\n      \"column\": \"Unnamed: 0\",\n      \"properties\": {\n        \"dtype\": \"number\",\n        \"std\": 957,\n        \"min\": 1007,\n        \"max\": 3102,\n        \"num_unique_values\": 5,\n        \"samples\": [\n          1007,\n          3102,\n          1252\n        ],\n        \"semantic_type\": \"\",\n        \"description\": \"\"\n      }\n    },\n    {\n      \"column\": \"exporter\",\n      \"properties\": {\n        \"dtype\": \"string\",\n        \"num_unique_values\": 3,\n        \"samples\": [\n          \"704\",\n          \"699\",\n          \"764\"\n        ],\n        \"semantic_type\": \"\",\n        \"description\": \"\"\n      }\n    },\n    {\n      \"column\": \"importer\",\n      \"properties\": {\n        \"dtype\": \"string\",\n        \"num_unique_values\": 5,\n        \"samples\": [\n          \"156\",\n          \"686\",\n          \"204\"\n        ],\n        \"semantic_type\": \"\",\n        \"description\": \"\"\n      }\n    },\n    {\n      \"column\": \"final_trade_quantity\",\n      \"properties\": {\n        \"dtype\": \"number\",\n        \"std\": 745218549.7808658,\n        \"min\": 1355146775.0,\n        \"max\": 3215153615.661,\n        \"num_unique_values\": 5,\n        \"samples\": [\n          2180495355.0,\n          1355146775.0,\n          1630419535.0\n        ],\n        \"semantic_type\": \"\",\n        \"description\": \"\"\n      }\n    },\n    {\n      \"column\": \"exporter_country\",\n      \"properties\": {\n        \"dtype\": \"string\",\n        \"num_unique_values\": 3,\n        \"samples\": [\n          \"Viet Nam\",\n          \"India\",\n          \"Thailand\"\n        ],\n        \"semantic_type\": \"\",\n        \"description\": \"\"\n      }\n    },\n    {\n      \"column\": \"importer_country\",\n      \"properties\": {\n        \"dtype\": \"string\",\n        \"num_unique_values\": 5,\n        \"samples\": [\n          \"China\",\n          \"Senegal\",\n          \"Benin\"\n        ],\n        \"semantic_type\": \"\",\n        \"description\": \"\"\n      }\n    },\n    {\n      \"column\": \"SourceZone\",\n      \"properties\": {\n        \"dtype\": \"category\",\n        \"num_unique_values\": 1,\n        \"samples\": [\n          \"Asia\"\n        ],\n        \"semantic_type\": \"\",\n        \"description\": \"\"\n      }\n    },\n    {\n      \"column\": \"TargetZone\",\n      \"properties\": {\n        \"dtype\": \"category\",\n        \"num_unique_values\": 2,\n        \"samples\": [\n          \"Africa\"\n        ],\n        \"semantic_type\": \"\",\n        \"description\": \"\"\n      }\n    }\n  ]\n}"
            }
          },
          "metadata": {},
          "execution_count": 9
        }
      ]
    },
    {
      "cell_type": "code",
      "source": [
        "#does density change in different zones?\n",
        "dens = {}\n",
        "for z in zones:\n",
        "    print('Density in ', z, ' (', len(d[z]), ' countries)' ': ', nx.density(G.subgraph(d[z])), sep='')\n",
        "    dens[z] = nx.density(G.subgraph(d[z]))"
      ],
      "metadata": {
        "colab": {
          "base_uri": "https://localhost:8080/"
        },
        "id": "0T0813alK10B",
        "outputId": "3980f2a6-edf7-464c-e7c1-7f686401413a"
      },
      "execution_count": 10,
      "outputs": [
        {
          "output_type": "stream",
          "name": "stdout",
          "text": [
            "Density in Asia (51 countries): 0.25019607843137254\n",
            "Density in Europe (44 countries): 0.43023255813953487\n",
            "Density in Antarctica (1 countries): 0\n",
            "Density in Africa (56 countries): 0.059415584415584415\n",
            "Density in Oceania (25 countries): 0.058333333333333334\n",
            "Density in Americas (50 countries): 0.11755102040816326\n",
            "Density in Special categories and unspecified areas (4 countries): 0\n"
          ]
        }
      ]
    },
    {
      "cell_type": "code",
      "source": [
        "dens['Network'] = nx.density(G)\n",
        "dens = pd.Series(dens)\n",
        "'''\n",
        "#Plot\n",
        "fig, ax = plt.subplots(figsize=(12,8), dpi=300)\n",
        "sns.barplot(x=dens.index, y=dens.values, ax=ax, palette='Set2',\n",
        "            order=dens.sort_values(ascending=False).index)\n",
        "ax.bar_label(ax.containers[0], fmt='%.2f')\n",
        "sns.despine()\n",
        "#plt.show()'''"
      ],
      "metadata": {
        "colab": {
          "base_uri": "https://localhost:8080/",
          "height": 53
        },
        "id": "kJFmPgF1K8K2",
        "outputId": "e90f611e-91f3-4b86-c3b0-d3a68cc1b035"
      },
      "execution_count": 43,
      "outputs": [
        {
          "output_type": "execute_result",
          "data": {
            "text/plain": [
              "\"\\n#Plot\\nfig, ax = plt.subplots(figsize=(12,8), dpi=300)\\nsns.barplot(x=dens.index, y=dens.values, ax=ax, palette='Set2', \\n            order=dens.sort_values(ascending=False).index)\\nax.bar_label(ax.containers[0], fmt='%.2f')\\nsns.despine()\\n#plt.show()\""
            ],
            "application/vnd.google.colaboratory.intrinsic+json": {
              "type": "string"
            }
          },
          "metadata": {},
          "execution_count": 43
        }
      ]
    },
    {
      "cell_type": "code",
      "source": [
        "#Africa: nr of in/out going links\n",
        "africa_in = dta.SourceZone[dta.TargetZone=='Africa'].value_counts(ascending=False).reset_index()\n",
        "africa_out = dta.TargetZone[dta.SourceZone=='Africa'].value_counts(ascending=False).reset_index()\n",
        "w_africa_in = dta[['SourceZone', 'final_trade_quantity']][dta.TargetZone=='Africa'].groupby('SourceZone').sum().sort_values('final_trade_quantity', ascending=False).reset_index()\n",
        "w_africa_out = dta[['TargetZone', 'final_trade_quantity']][dta.SourceZone=='Africa'].groupby('TargetZone').sum().sort_values('final_trade_quantity', ascending=False).reset_index()\n",
        "\n",
        "#Asia: nr of in/out going links\n",
        "asia_in = dta.SourceZone[dta.TargetZone=='Asia'].value_counts(ascending=False).reset_index()\n",
        "asia_out = dta.TargetZone[dta.SourceZone=='Asia'].value_counts(ascending=False).reset_index()\n",
        "w_asia_in = dta[['SourceZone', 'final_trade_quantity']][dta.TargetZone=='Asia'].groupby('SourceZone').sum().sort_values('final_trade_quantity', ascending=False).reset_index()\n",
        "w_asia_out = dta[['TargetZone', 'final_trade_quantity']][dta.SourceZone=='Asia'].groupby('TargetZone').sum().sort_values('final_trade_quantity', ascending=False).reset_index()\n",
        "\n",
        "#Europe: nr of in/out going links\n",
        "europe_in = dta.SourceZone[dta.TargetZone=='Europe'].value_counts(ascending=False).reset_index()\n",
        "europe_out = dta.TargetZone[dta.SourceZone=='Europe'].value_counts(ascending=False).reset_index()\n",
        "w_europe_in = dta[['SourceZone', 'final_trade_quantity']][dta.TargetZone=='Europe'].groupby('SourceZone').sum().sort_values('final_trade_quantity', ascending=False).reset_index()\n",
        "w_europe_out = dta[['TargetZone', 'final_trade_quantity']][dta.SourceZone=='Europe'].groupby('TargetZone').sum().sort_values('final_trade_quantity', ascending=False).reset_index()\n",
        "\n",
        "#Americas: nr of in/out going links\n",
        "na_in = dta.SourceZone[dta.TargetZone=='Americas'].value_counts(ascending=False).reset_index()\n",
        "na_out = dta.TargetZone[dta.SourceZone=='Americas'].value_counts(ascending=False).reset_index()\n",
        "w_na_in = dta[['SourceZone', 'final_trade_quantity']][dta.TargetZone=='Americas'].groupby('SourceZone').sum().sort_values('final_trade_quantity', ascending=False).reset_index()\n",
        "w_na_out = dta[['TargetZone', 'final_trade_quantity']][dta.SourceZone=='Americas'].groupby('TargetZone').sum().sort_values('final_trade_quantity', ascending=False).reset_index()\n",
        "\n",
        "#Oceania: nr of in/out going links\n",
        "oceania_in = dta.SourceZone[dta.TargetZone=='Oceania'].value_counts(ascending=False).reset_index()\n",
        "oceania_out = dta.TargetZone[dta.SourceZone=='Oceania'].value_counts(ascending=False).reset_index()\n",
        "w_oceania_in = dta[['SourceZone', 'final_trade_quantity']][dta.TargetZone=='Oceania'].groupby('SourceZone').sum().sort_values('final_trade_quantity', ascending=False).reset_index()\n",
        "w_oceania_out = dta[['TargetZone', 'final_trade_quantity']][dta.SourceZone=='Oceania'].groupby('TargetZone').sum().sort_values('final_trade_quantity', ascending=False).reset_index()\n",
        "\n",
        "#Antarctica: nr of in/out going links\n",
        "sa_in = dta.SourceZone[dta.TargetZone=='Antarctica'].value_counts(ascending=False).reset_index()\n",
        "sa_out = dta.TargetZone[dta.SourceZone=='Antarctica'].value_counts(ascending=False).reset_index()\n",
        "w_sa_in = dta[['SourceZone', 'final_trade_quantity']][dta.TargetZone=='Antarctica'].groupby('SourceZone').sum().sort_values('final_trade_quantity', ascending=False).reset_index()\n",
        "w_sa_out = dta[['TargetZone', 'final_trade_quantity']][dta.SourceZone=='Antarctica'].groupby('TargetZone').sum().sort_values('final_trade_quantity', ascending=False).reset_index()\n",
        "\n",
        "#Special Categories: nr of in/out going links\n",
        "scua_in = dta.SourceZone[dta.TargetZone=='Special categories and unspecified areas'].value_counts(ascending=False).reset_index()\n",
        "scua_out = dta.TargetZone[dta.SourceZone=='Special categories and unspecified areas'].value_counts(ascending=False).reset_index()\n",
        "w_scua_in = dta[['SourceZone', 'final_trade_quantity']][dta.TargetZone=='Special categories and unspecified areas'].groupby('SourceZone').sum().sort_values('final_trade_quantity', ascending=False).reset_index()\n",
        "w_scua_out = dta[['TargetZone', 'final_trade_quantity']][dta.SourceZone=='Special categories and unspecified areas'].groupby('TargetZone').sum().sort_values('final_trade_quantity', ascending=False).reset_index()"
      ],
      "metadata": {
        "id": "SiliR96tLBua"
      },
      "execution_count": 12,
      "outputs": []
    },
    {
      "cell_type": "code",
      "source": [
        "#Africa: nr of in/out going links\n",
        "africa_in = dta.SourceZone[dta.TargetZone=='Africa'].value_counts(ascending=False).reset_index()\n",
        "africa_out = dta.TargetZone[dta.SourceZone=='Africa'].value_counts(ascending=False).reset_index()\n",
        "w_africa_in = dta[['SourceZone', 'final_trade_quantity']][dta.TargetZone=='Africa'].groupby('SourceZone').sum().sort_values('final_trade_quantity', ascending=False).reset_index()\n",
        "w_africa_out = dta[['TargetZone', 'final_trade_quantity']][dta.SourceZone=='Africa'].groupby('TargetZone').sum().sort_values('final_trade_quantity', ascending=False).reset_index()\n",
        "\n",
        "#Asia: nr of in/out going links\n",
        "asia_in = dta.SourceZone[dta.TargetZone=='Asia'].value_counts(ascending=False).reset_index()\n",
        "asia_out = dta.TargetZone[dta.SourceZone=='Asia'].value_counts(ascending=False).reset_index()\n",
        "w_asia_in = dta[['SourceZone', 'final_trade_quantity']][dta.TargetZone=='Asia'].groupby('SourceZone').sum().sort_values('final_trade_quantity', ascending=False).reset_index()\n",
        "w_asia_out = dta[['TargetZone', 'final_trade_quantity']][dta.SourceZone=='Asia'].groupby('TargetZone').sum().sort_values('final_trade_quantity', ascending=False).reset_index()\n",
        "\n",
        "#Europe: nr of in/out going links\n",
        "europe_in = dta.SourceZone[dta.TargetZone=='Europe'].value_counts(ascending=False).reset_index()\n",
        "europe_out = dta.TargetZone[dta.SourceZone=='Europe'].value_counts(ascending=False).reset_index()\n",
        "w_europe_in = dta[['SourceZone', 'final_trade_quantity']][dta.TargetZone=='Europe'].groupby('SourceZone').sum().sort_values('final_trade_quantity', ascending=False).reset_index()\n",
        "w_europe_out = dta[['TargetZone', 'final_trade_quantity']][dta.SourceZone=='Europe'].groupby('TargetZone').sum().sort_values('final_trade_quantity', ascending=False).reset_index()\n",
        "\n",
        "#Americas: nr of in/out going links\n",
        "na_in = dta.SourceZone[dta.TargetZone=='Americas'].value_counts(ascending=False).reset_index()\n",
        "na_out = dta.TargetZone[dta.SourceZone=='Americas'].value_counts(ascending=False).reset_index()\n",
        "w_na_in = dta[['SourceZone', 'final_trade_quantity']][dta.TargetZone=='Americas'].groupby('SourceZone').sum().sort_values('final_trade_quantity', ascending=False).reset_index()\n",
        "w_na_out = dta[['TargetZone', 'final_trade_quantity']][dta.SourceZone=='Americas'].groupby('TargetZone').sum().sort_values('final_trade_quantity', ascending=False).reset_index()\n",
        "\n",
        "#Oceania: nr of in/out going links\n",
        "oceania_in = dta.SourceZone[dta.TargetZone=='Oceania'].value_counts(ascending=False).reset_index()\n",
        "oceania_out = dta.TargetZone[dta.SourceZone=='Oceania'].value_counts(ascending=False).reset_index()\n",
        "w_oceania_in = dta[['SourceZone', 'final_trade_quantity']][dta.TargetZone=='Oceania'].groupby('SourceZone').sum().sort_values('final_trade_quantity', ascending=False).reset_index()\n",
        "w_oceania_out = dta[['TargetZone', 'final_trade_quantity']][dta.SourceZone=='Oceania'].groupby('TargetZone').sum().sort_values('final_trade_quantity', ascending=False).reset_index()\n",
        "\n",
        "#Antarctica: nr of in/out going links\n",
        "sa_in = dta.SourceZone[dta.TargetZone=='Antarctica'].value_counts(ascending=False).reset_index()\n",
        "sa_out = dta.TargetZone[dta.SourceZone=='Antarctica'].value_counts(ascending=False).reset_index()\n",
        "w_sa_in = dta[['SourceZone', 'final_trade_quantity']][dta.TargetZone=='Antarctica'].groupby('SourceZone').sum().sort_values('final_trade_quantity', ascending=False).reset_index()\n",
        "w_sa_out = dta[['TargetZone', 'final_trade_quantity']][dta.SourceZone=='Antarctica'].groupby('TargetZone').sum().sort_values('final_trade_quantity', ascending=False).reset_index()\n",
        "\n",
        "#Special Categories: nr of in/out going links\n",
        "scua_in = dta.SourceZone[dta.TargetZone=='Special categories and unspecified areas'].value_counts(ascending=False).reset_index()\n",
        "scua_out = dta.TargetZone[dta.SourceZone=='Special categories and unspecified areas'].value_counts(ascending=False).reset_index()\n",
        "w_scua_in = dta[['SourceZone', 'final_trade_quantity']][dta.TargetZone=='Special categories and unspecified areas'].groupby('SourceZone').sum().sort_values('final_trade_quantity', ascending=False).reset_index()\n",
        "w_scua_out = dta[['TargetZone', 'final_trade_quantity']][dta.SourceZone=='Special categories and unspecified areas'].groupby('TargetZone').sum().sort_values('final_trade_quantity', ascending=False).reset_index()"
      ],
      "metadata": {
        "id": "t0SGmw_7NAaA"
      },
      "execution_count": 13,
      "outputs": []
    },
    {
      "cell_type": "code",
      "source": [
        "#indegree\n",
        "asia_in['TargetZone'] = 'Asia'\n",
        "africa_in['TargetZone'] = 'Africa'\n",
        "sa_in['TargetZone'] = 'Antarctica'\n",
        "oceania_in['TargetZone'] = 'Oceania'\n",
        "europe_in['TargetZone'] = 'Europe'\n",
        "na_in['TargetZone'] = 'Americas'\n",
        "scua_in['TargetZone'] = 'Special categories and unspecified areas'\n",
        "\n",
        "#outdegree\n",
        "asia_out['SourceZone'] = 'Asia'\n",
        "africa_out['SourceZone'] = 'Africa'\n",
        "sa_out['SourceZone'] = 'Antarctica'\n",
        "oceania_out['SourceZone'] = 'Oceania'\n",
        "europe_out['SourceZone'] = 'Europe'\n",
        "na_out['SourceZone'] = 'Americas'\n",
        "scua_out['SourceZone'] = 'Special categories and unspecified areas'\n",
        "\n",
        "#weighted indegree\n",
        "w_asia_in['TargetZone'] = 'Asia'\n",
        "w_africa_in['TargetZone'] = 'Africa'\n",
        "w_sa_in['TargetZone'] = 'Antarctica'\n",
        "w_oceania_in['TargetZone'] = 'Oceania'\n",
        "w_europe_in['TargetZone'] = 'Europe'\n",
        "w_na_in['TargetZone'] = 'Americas'\n",
        "w_scua_in['TargetZone'] = 'Special categories and unspecified areas'\n",
        "\n",
        "#weighted outdegree\n",
        "w_asia_out['SourceZone'] = 'Asia'\n",
        "w_africa_out['SourceZone'] = 'Africa'\n",
        "w_sa_out['SourceZone'] = 'Antarctica'\n",
        "w_oceania_out['SourceZone'] = 'Oceania'\n",
        "w_europe_out['SourceZone'] = 'Europe'\n",
        "w_na_out['SourceZone'] = 'Americas'\n",
        "w_scua_out['SourceZone'] = 'Special categories and unspecified areas'"
      ],
      "metadata": {
        "id": "EFTt52H3NBbe"
      },
      "execution_count": 14,
      "outputs": []
    },
    {
      "cell_type": "code",
      "source": [
        "#Concatenate\n",
        "zone_indegree = pd.concat([asia_in, africa_in, sa_in, oceania_in, europe_in, na_in, scua_in])\n",
        "zone_indegree.rename(columns={ 'count' : 'Nr of connections'}, inplace=True)\n",
        "\n",
        "zone_outdegree = pd.concat([asia_out, africa_out, sa_out, oceania_out, europe_out, na_out, scua_out])\n",
        "zone_outdegree.rename(columns={ 'count' : 'Nr of connections'}, inplace=True)\n",
        "\n",
        "zone_w_indegree = pd.concat([w_asia_in, w_africa_in, w_sa_in, w_oceania_in, w_europe_in, w_na_in, w_scua_in])\n",
        "\n",
        "zone_w_outdegree = pd.concat([w_asia_out, w_africa_out, w_sa_out, w_oceania_out, w_europe_out, w_na_out, w_scua_out])"
      ],
      "metadata": {
        "id": "kqIO23blNDdr"
      },
      "execution_count": 15,
      "outputs": []
    },
    {
      "cell_type": "code",
      "source": [
        "#How much each zone exports\n",
        "zone_w_indegree[zone_w_indegree['SourceZone'] != zone_w_indegree['TargetZone']].groupby('SourceZone').sum().reset_index().sort_values(by='final_trade_quantity', ascending=False)"
      ],
      "metadata": {
        "colab": {
          "base_uri": "https://localhost:8080/",
          "height": 238
        },
        "id": "l5K2j9t9NIoS",
        "outputId": "552b1aad-0b1f-4ecc-b1af-43cb43704449"
      },
      "execution_count": 16,
      "outputs": [
        {
          "output_type": "execute_result",
          "data": {
            "text/plain": [
              "                                 SourceZone  final_trade_quantity  \\\n",
              "2                                      Asia          2.584866e+10   \n",
              "1                                  Americas          2.370862e+09   \n",
              "4                                   Oceania          3.733468e+08   \n",
              "3                                    Europe          2.333296e+08   \n",
              "0                                    Africa          9.478241e+06   \n",
              "5  Special categories and unspecified areas          3.695768e+06   \n",
              "\n",
              "                                          TargetZone  \n",
              "2  AfricaOceaniaEuropeAmericasSpecial categories ...  \n",
              "1  AsiaAfricaOceaniaEuropeSpecial categories and ...  \n",
              "4  AsiaAfricaEuropeAmericasSpecial categories and...  \n",
              "3  AsiaAfricaAntarcticaOceaniaAmericasSpecial cat...  \n",
              "0  AsiaAntarcticaOceaniaEuropeAmericasSpecial cat...  \n",
              "5                           AsiaAfricaEuropeAmericas  "
            ],
            "text/html": [
              "\n",
              "  <div id=\"df-fd656eeb-6e49-424b-927a-1883841a5075\" class=\"colab-df-container\">\n",
              "    <div>\n",
              "<style scoped>\n",
              "    .dataframe tbody tr th:only-of-type {\n",
              "        vertical-align: middle;\n",
              "    }\n",
              "\n",
              "    .dataframe tbody tr th {\n",
              "        vertical-align: top;\n",
              "    }\n",
              "\n",
              "    .dataframe thead th {\n",
              "        text-align: right;\n",
              "    }\n",
              "</style>\n",
              "<table border=\"1\" class=\"dataframe\">\n",
              "  <thead>\n",
              "    <tr style=\"text-align: right;\">\n",
              "      <th></th>\n",
              "      <th>SourceZone</th>\n",
              "      <th>final_trade_quantity</th>\n",
              "      <th>TargetZone</th>\n",
              "    </tr>\n",
              "  </thead>\n",
              "  <tbody>\n",
              "    <tr>\n",
              "      <th>2</th>\n",
              "      <td>Asia</td>\n",
              "      <td>2.584866e+10</td>\n",
              "      <td>AfricaOceaniaEuropeAmericasSpecial categories ...</td>\n",
              "    </tr>\n",
              "    <tr>\n",
              "      <th>1</th>\n",
              "      <td>Americas</td>\n",
              "      <td>2.370862e+09</td>\n",
              "      <td>AsiaAfricaOceaniaEuropeSpecial categories and ...</td>\n",
              "    </tr>\n",
              "    <tr>\n",
              "      <th>4</th>\n",
              "      <td>Oceania</td>\n",
              "      <td>3.733468e+08</td>\n",
              "      <td>AsiaAfricaEuropeAmericasSpecial categories and...</td>\n",
              "    </tr>\n",
              "    <tr>\n",
              "      <th>3</th>\n",
              "      <td>Europe</td>\n",
              "      <td>2.333296e+08</td>\n",
              "      <td>AsiaAfricaAntarcticaOceaniaAmericasSpecial cat...</td>\n",
              "    </tr>\n",
              "    <tr>\n",
              "      <th>0</th>\n",
              "      <td>Africa</td>\n",
              "      <td>9.478241e+06</td>\n",
              "      <td>AsiaAntarcticaOceaniaEuropeAmericasSpecial cat...</td>\n",
              "    </tr>\n",
              "    <tr>\n",
              "      <th>5</th>\n",
              "      <td>Special categories and unspecified areas</td>\n",
              "      <td>3.695768e+06</td>\n",
              "      <td>AsiaAfricaEuropeAmericas</td>\n",
              "    </tr>\n",
              "  </tbody>\n",
              "</table>\n",
              "</div>\n",
              "    <div class=\"colab-df-buttons\">\n",
              "\n",
              "  <div class=\"colab-df-container\">\n",
              "    <button class=\"colab-df-convert\" onclick=\"convertToInteractive('df-fd656eeb-6e49-424b-927a-1883841a5075')\"\n",
              "            title=\"Convert this dataframe to an interactive table.\"\n",
              "            style=\"display:none;\">\n",
              "\n",
              "  <svg xmlns=\"http://www.w3.org/2000/svg\" height=\"24px\" viewBox=\"0 -960 960 960\">\n",
              "    <path d=\"M120-120v-720h720v720H120Zm60-500h600v-160H180v160Zm220 220h160v-160H400v160Zm0 220h160v-160H400v160ZM180-400h160v-160H180v160Zm440 0h160v-160H620v160ZM180-180h160v-160H180v160Zm440 0h160v-160H620v160Z\"/>\n",
              "  </svg>\n",
              "    </button>\n",
              "\n",
              "  <style>\n",
              "    .colab-df-container {\n",
              "      display:flex;\n",
              "      gap: 12px;\n",
              "    }\n",
              "\n",
              "    .colab-df-convert {\n",
              "      background-color: #E8F0FE;\n",
              "      border: none;\n",
              "      border-radius: 50%;\n",
              "      cursor: pointer;\n",
              "      display: none;\n",
              "      fill: #1967D2;\n",
              "      height: 32px;\n",
              "      padding: 0 0 0 0;\n",
              "      width: 32px;\n",
              "    }\n",
              "\n",
              "    .colab-df-convert:hover {\n",
              "      background-color: #E2EBFA;\n",
              "      box-shadow: 0px 1px 2px rgba(60, 64, 67, 0.3), 0px 1px 3px 1px rgba(60, 64, 67, 0.15);\n",
              "      fill: #174EA6;\n",
              "    }\n",
              "\n",
              "    .colab-df-buttons div {\n",
              "      margin-bottom: 4px;\n",
              "    }\n",
              "\n",
              "    [theme=dark] .colab-df-convert {\n",
              "      background-color: #3B4455;\n",
              "      fill: #D2E3FC;\n",
              "    }\n",
              "\n",
              "    [theme=dark] .colab-df-convert:hover {\n",
              "      background-color: #434B5C;\n",
              "      box-shadow: 0px 1px 3px 1px rgba(0, 0, 0, 0.15);\n",
              "      filter: drop-shadow(0px 1px 2px rgba(0, 0, 0, 0.3));\n",
              "      fill: #FFFFFF;\n",
              "    }\n",
              "  </style>\n",
              "\n",
              "    <script>\n",
              "      const buttonEl =\n",
              "        document.querySelector('#df-fd656eeb-6e49-424b-927a-1883841a5075 button.colab-df-convert');\n",
              "      buttonEl.style.display =\n",
              "        google.colab.kernel.accessAllowed ? 'block' : 'none';\n",
              "\n",
              "      async function convertToInteractive(key) {\n",
              "        const element = document.querySelector('#df-fd656eeb-6e49-424b-927a-1883841a5075');\n",
              "        const dataTable =\n",
              "          await google.colab.kernel.invokeFunction('convertToInteractive',\n",
              "                                                    [key], {});\n",
              "        if (!dataTable) return;\n",
              "\n",
              "        const docLinkHtml = 'Like what you see? Visit the ' +\n",
              "          '<a target=\"_blank\" href=https://colab.research.google.com/notebooks/data_table.ipynb>data table notebook</a>'\n",
              "          + ' to learn more about interactive tables.';\n",
              "        element.innerHTML = '';\n",
              "        dataTable['output_type'] = 'display_data';\n",
              "        await google.colab.output.renderOutput(dataTable, element);\n",
              "        const docLink = document.createElement('div');\n",
              "        docLink.innerHTML = docLinkHtml;\n",
              "        element.appendChild(docLink);\n",
              "      }\n",
              "    </script>\n",
              "  </div>\n",
              "\n",
              "\n",
              "<div id=\"df-9b96a0f2-bd01-44c1-8628-1ef7ad2b8d1e\">\n",
              "  <button class=\"colab-df-quickchart\" onclick=\"quickchart('df-9b96a0f2-bd01-44c1-8628-1ef7ad2b8d1e')\"\n",
              "            title=\"Suggest charts\"\n",
              "            style=\"display:none;\">\n",
              "\n",
              "<svg xmlns=\"http://www.w3.org/2000/svg\" height=\"24px\"viewBox=\"0 0 24 24\"\n",
              "     width=\"24px\">\n",
              "    <g>\n",
              "        <path d=\"M19 3H5c-1.1 0-2 .9-2 2v14c0 1.1.9 2 2 2h14c1.1 0 2-.9 2-2V5c0-1.1-.9-2-2-2zM9 17H7v-7h2v7zm4 0h-2V7h2v10zm4 0h-2v-4h2v4z\"/>\n",
              "    </g>\n",
              "</svg>\n",
              "  </button>\n",
              "\n",
              "<style>\n",
              "  .colab-df-quickchart {\n",
              "      --bg-color: #E8F0FE;\n",
              "      --fill-color: #1967D2;\n",
              "      --hover-bg-color: #E2EBFA;\n",
              "      --hover-fill-color: #174EA6;\n",
              "      --disabled-fill-color: #AAA;\n",
              "      --disabled-bg-color: #DDD;\n",
              "  }\n",
              "\n",
              "  [theme=dark] .colab-df-quickchart {\n",
              "      --bg-color: #3B4455;\n",
              "      --fill-color: #D2E3FC;\n",
              "      --hover-bg-color: #434B5C;\n",
              "      --hover-fill-color: #FFFFFF;\n",
              "      --disabled-bg-color: #3B4455;\n",
              "      --disabled-fill-color: #666;\n",
              "  }\n",
              "\n",
              "  .colab-df-quickchart {\n",
              "    background-color: var(--bg-color);\n",
              "    border: none;\n",
              "    border-radius: 50%;\n",
              "    cursor: pointer;\n",
              "    display: none;\n",
              "    fill: var(--fill-color);\n",
              "    height: 32px;\n",
              "    padding: 0;\n",
              "    width: 32px;\n",
              "  }\n",
              "\n",
              "  .colab-df-quickchart:hover {\n",
              "    background-color: var(--hover-bg-color);\n",
              "    box-shadow: 0 1px 2px rgba(60, 64, 67, 0.3), 0 1px 3px 1px rgba(60, 64, 67, 0.15);\n",
              "    fill: var(--button-hover-fill-color);\n",
              "  }\n",
              "\n",
              "  .colab-df-quickchart-complete:disabled,\n",
              "  .colab-df-quickchart-complete:disabled:hover {\n",
              "    background-color: var(--disabled-bg-color);\n",
              "    fill: var(--disabled-fill-color);\n",
              "    box-shadow: none;\n",
              "  }\n",
              "\n",
              "  .colab-df-spinner {\n",
              "    border: 2px solid var(--fill-color);\n",
              "    border-color: transparent;\n",
              "    border-bottom-color: var(--fill-color);\n",
              "    animation:\n",
              "      spin 1s steps(1) infinite;\n",
              "  }\n",
              "\n",
              "  @keyframes spin {\n",
              "    0% {\n",
              "      border-color: transparent;\n",
              "      border-bottom-color: var(--fill-color);\n",
              "      border-left-color: var(--fill-color);\n",
              "    }\n",
              "    20% {\n",
              "      border-color: transparent;\n",
              "      border-left-color: var(--fill-color);\n",
              "      border-top-color: var(--fill-color);\n",
              "    }\n",
              "    30% {\n",
              "      border-color: transparent;\n",
              "      border-left-color: var(--fill-color);\n",
              "      border-top-color: var(--fill-color);\n",
              "      border-right-color: var(--fill-color);\n",
              "    }\n",
              "    40% {\n",
              "      border-color: transparent;\n",
              "      border-right-color: var(--fill-color);\n",
              "      border-top-color: var(--fill-color);\n",
              "    }\n",
              "    60% {\n",
              "      border-color: transparent;\n",
              "      border-right-color: var(--fill-color);\n",
              "    }\n",
              "    80% {\n",
              "      border-color: transparent;\n",
              "      border-right-color: var(--fill-color);\n",
              "      border-bottom-color: var(--fill-color);\n",
              "    }\n",
              "    90% {\n",
              "      border-color: transparent;\n",
              "      border-bottom-color: var(--fill-color);\n",
              "    }\n",
              "  }\n",
              "</style>\n",
              "\n",
              "  <script>\n",
              "    async function quickchart(key) {\n",
              "      const quickchartButtonEl =\n",
              "        document.querySelector('#' + key + ' button');\n",
              "      quickchartButtonEl.disabled = true;  // To prevent multiple clicks.\n",
              "      quickchartButtonEl.classList.add('colab-df-spinner');\n",
              "      try {\n",
              "        const charts = await google.colab.kernel.invokeFunction(\n",
              "            'suggestCharts', [key], {});\n",
              "      } catch (error) {\n",
              "        console.error('Error during call to suggestCharts:', error);\n",
              "      }\n",
              "      quickchartButtonEl.classList.remove('colab-df-spinner');\n",
              "      quickchartButtonEl.classList.add('colab-df-quickchart-complete');\n",
              "    }\n",
              "    (() => {\n",
              "      let quickchartButtonEl =\n",
              "        document.querySelector('#df-9b96a0f2-bd01-44c1-8628-1ef7ad2b8d1e button');\n",
              "      quickchartButtonEl.style.display =\n",
              "        google.colab.kernel.accessAllowed ? 'block' : 'none';\n",
              "    })();\n",
              "  </script>\n",
              "</div>\n",
              "\n",
              "    </div>\n",
              "  </div>\n"
            ],
            "application/vnd.google.colaboratory.intrinsic+json": {
              "type": "dataframe",
              "summary": "{\n  \"name\": \"zone_w_indegree[zone_w_indegree['SourceZone'] != zone_w_indegree['TargetZone']]\",\n  \"rows\": 6,\n  \"fields\": [\n    {\n      \"column\": \"SourceZone\",\n      \"properties\": {\n        \"dtype\": \"string\",\n        \"num_unique_values\": 6,\n        \"samples\": [\n          \"Asia\",\n          \"Americas\",\n          \"Special categories and unspecified areas\"\n        ],\n        \"semantic_type\": \"\",\n        \"description\": \"\"\n      }\n    },\n    {\n      \"column\": \"final_trade_quantity\",\n      \"properties\": {\n        \"dtype\": \"number\",\n        \"std\": 10347461814.506903,\n        \"min\": 3695767.5259999996,\n        \"max\": 25848658126.138,\n        \"num_unique_values\": 6,\n        \"samples\": [\n          25848658126.138,\n          2370862421.71,\n          3695767.5259999996\n        ],\n        \"semantic_type\": \"\",\n        \"description\": \"\"\n      }\n    },\n    {\n      \"column\": \"TargetZone\",\n      \"properties\": {\n        \"dtype\": \"string\",\n        \"num_unique_values\": 6,\n        \"samples\": [\n          \"AfricaOceaniaEuropeAmericasSpecial categories and unspecified areas\",\n          \"AsiaAfricaOceaniaEuropeSpecial categories and unspecified areas\",\n          \"AsiaAfricaEuropeAmericas\"\n        ],\n        \"semantic_type\": \"\",\n        \"description\": \"\"\n      }\n    }\n  ]\n}"
            }
          },
          "metadata": {},
          "execution_count": 16
        }
      ]
    },
    {
      "cell_type": "code",
      "source": [
        "#How much each zone imports\n",
        "zone_w_outdegree[zone_w_outdegree['SourceZone'] != zone_w_outdegree['TargetZone']].groupby('TargetZone').sum().reset_index().sort_values(by='final_trade_quantity', ascending=False)"
      ],
      "metadata": {
        "colab": {
          "base_uri": "https://localhost:8080/",
          "height": 269
        },
        "id": "_d10m5hlNFe4",
        "outputId": "41bfaeb8-3657-4d69-8677-0abb528a309a"
      },
      "execution_count": 17,
      "outputs": [
        {
          "output_type": "execute_result",
          "data": {
            "text/plain": [
              "                                 TargetZone  final_trade_quantity  \\\n",
              "0                                    Africa          2.094815e+10   \n",
              "4                                    Europe          4.218653e+09   \n",
              "1                                  Americas          1.641243e+09   \n",
              "3                                      Asia          1.096838e+09   \n",
              "5                                   Oceania          7.160562e+08   \n",
              "6  Special categories and unspecified areas          2.184114e+08   \n",
              "2                                Antarctica          1.418380e+04   \n",
              "\n",
              "                                          SourceZone  \n",
              "0  AsiaOceaniaEuropeAmericasSpecial categories an...  \n",
              "4  AsiaAfricaOceaniaAmericasSpecial categories an...  \n",
              "1  AsiaAfricaOceaniaEuropeSpecial categories and ...  \n",
              "3  AfricaOceaniaEuropeAmericasSpecial categories ...  \n",
              "5                           AsiaAfricaEuropeAmericas  \n",
              "6                    AsiaAfricaOceaniaEuropeAmericas  \n",
              "2                                       AfricaEurope  "
            ],
            "text/html": [
              "\n",
              "  <div id=\"df-bf5d9c81-adeb-4a64-a0a1-bd60cfe90ff9\" class=\"colab-df-container\">\n",
              "    <div>\n",
              "<style scoped>\n",
              "    .dataframe tbody tr th:only-of-type {\n",
              "        vertical-align: middle;\n",
              "    }\n",
              "\n",
              "    .dataframe tbody tr th {\n",
              "        vertical-align: top;\n",
              "    }\n",
              "\n",
              "    .dataframe thead th {\n",
              "        text-align: right;\n",
              "    }\n",
              "</style>\n",
              "<table border=\"1\" class=\"dataframe\">\n",
              "  <thead>\n",
              "    <tr style=\"text-align: right;\">\n",
              "      <th></th>\n",
              "      <th>TargetZone</th>\n",
              "      <th>final_trade_quantity</th>\n",
              "      <th>SourceZone</th>\n",
              "    </tr>\n",
              "  </thead>\n",
              "  <tbody>\n",
              "    <tr>\n",
              "      <th>0</th>\n",
              "      <td>Africa</td>\n",
              "      <td>2.094815e+10</td>\n",
              "      <td>AsiaOceaniaEuropeAmericasSpecial categories an...</td>\n",
              "    </tr>\n",
              "    <tr>\n",
              "      <th>4</th>\n",
              "      <td>Europe</td>\n",
              "      <td>4.218653e+09</td>\n",
              "      <td>AsiaAfricaOceaniaAmericasSpecial categories an...</td>\n",
              "    </tr>\n",
              "    <tr>\n",
              "      <th>1</th>\n",
              "      <td>Americas</td>\n",
              "      <td>1.641243e+09</td>\n",
              "      <td>AsiaAfricaOceaniaEuropeSpecial categories and ...</td>\n",
              "    </tr>\n",
              "    <tr>\n",
              "      <th>3</th>\n",
              "      <td>Asia</td>\n",
              "      <td>1.096838e+09</td>\n",
              "      <td>AfricaOceaniaEuropeAmericasSpecial categories ...</td>\n",
              "    </tr>\n",
              "    <tr>\n",
              "      <th>5</th>\n",
              "      <td>Oceania</td>\n",
              "      <td>7.160562e+08</td>\n",
              "      <td>AsiaAfricaEuropeAmericas</td>\n",
              "    </tr>\n",
              "    <tr>\n",
              "      <th>6</th>\n",
              "      <td>Special categories and unspecified areas</td>\n",
              "      <td>2.184114e+08</td>\n",
              "      <td>AsiaAfricaOceaniaEuropeAmericas</td>\n",
              "    </tr>\n",
              "    <tr>\n",
              "      <th>2</th>\n",
              "      <td>Antarctica</td>\n",
              "      <td>1.418380e+04</td>\n",
              "      <td>AfricaEurope</td>\n",
              "    </tr>\n",
              "  </tbody>\n",
              "</table>\n",
              "</div>\n",
              "    <div class=\"colab-df-buttons\">\n",
              "\n",
              "  <div class=\"colab-df-container\">\n",
              "    <button class=\"colab-df-convert\" onclick=\"convertToInteractive('df-bf5d9c81-adeb-4a64-a0a1-bd60cfe90ff9')\"\n",
              "            title=\"Convert this dataframe to an interactive table.\"\n",
              "            style=\"display:none;\">\n",
              "\n",
              "  <svg xmlns=\"http://www.w3.org/2000/svg\" height=\"24px\" viewBox=\"0 -960 960 960\">\n",
              "    <path d=\"M120-120v-720h720v720H120Zm60-500h600v-160H180v160Zm220 220h160v-160H400v160Zm0 220h160v-160H400v160ZM180-400h160v-160H180v160Zm440 0h160v-160H620v160ZM180-180h160v-160H180v160Zm440 0h160v-160H620v160Z\"/>\n",
              "  </svg>\n",
              "    </button>\n",
              "\n",
              "  <style>\n",
              "    .colab-df-container {\n",
              "      display:flex;\n",
              "      gap: 12px;\n",
              "    }\n",
              "\n",
              "    .colab-df-convert {\n",
              "      background-color: #E8F0FE;\n",
              "      border: none;\n",
              "      border-radius: 50%;\n",
              "      cursor: pointer;\n",
              "      display: none;\n",
              "      fill: #1967D2;\n",
              "      height: 32px;\n",
              "      padding: 0 0 0 0;\n",
              "      width: 32px;\n",
              "    }\n",
              "\n",
              "    .colab-df-convert:hover {\n",
              "      background-color: #E2EBFA;\n",
              "      box-shadow: 0px 1px 2px rgba(60, 64, 67, 0.3), 0px 1px 3px 1px rgba(60, 64, 67, 0.15);\n",
              "      fill: #174EA6;\n",
              "    }\n",
              "\n",
              "    .colab-df-buttons div {\n",
              "      margin-bottom: 4px;\n",
              "    }\n",
              "\n",
              "    [theme=dark] .colab-df-convert {\n",
              "      background-color: #3B4455;\n",
              "      fill: #D2E3FC;\n",
              "    }\n",
              "\n",
              "    [theme=dark] .colab-df-convert:hover {\n",
              "      background-color: #434B5C;\n",
              "      box-shadow: 0px 1px 3px 1px rgba(0, 0, 0, 0.15);\n",
              "      filter: drop-shadow(0px 1px 2px rgba(0, 0, 0, 0.3));\n",
              "      fill: #FFFFFF;\n",
              "    }\n",
              "  </style>\n",
              "\n",
              "    <script>\n",
              "      const buttonEl =\n",
              "        document.querySelector('#df-bf5d9c81-adeb-4a64-a0a1-bd60cfe90ff9 button.colab-df-convert');\n",
              "      buttonEl.style.display =\n",
              "        google.colab.kernel.accessAllowed ? 'block' : 'none';\n",
              "\n",
              "      async function convertToInteractive(key) {\n",
              "        const element = document.querySelector('#df-bf5d9c81-adeb-4a64-a0a1-bd60cfe90ff9');\n",
              "        const dataTable =\n",
              "          await google.colab.kernel.invokeFunction('convertToInteractive',\n",
              "                                                    [key], {});\n",
              "        if (!dataTable) return;\n",
              "\n",
              "        const docLinkHtml = 'Like what you see? Visit the ' +\n",
              "          '<a target=\"_blank\" href=https://colab.research.google.com/notebooks/data_table.ipynb>data table notebook</a>'\n",
              "          + ' to learn more about interactive tables.';\n",
              "        element.innerHTML = '';\n",
              "        dataTable['output_type'] = 'display_data';\n",
              "        await google.colab.output.renderOutput(dataTable, element);\n",
              "        const docLink = document.createElement('div');\n",
              "        docLink.innerHTML = docLinkHtml;\n",
              "        element.appendChild(docLink);\n",
              "      }\n",
              "    </script>\n",
              "  </div>\n",
              "\n",
              "\n",
              "<div id=\"df-f314da24-84b4-41f7-a66a-fd9f83473e97\">\n",
              "  <button class=\"colab-df-quickchart\" onclick=\"quickchart('df-f314da24-84b4-41f7-a66a-fd9f83473e97')\"\n",
              "            title=\"Suggest charts\"\n",
              "            style=\"display:none;\">\n",
              "\n",
              "<svg xmlns=\"http://www.w3.org/2000/svg\" height=\"24px\"viewBox=\"0 0 24 24\"\n",
              "     width=\"24px\">\n",
              "    <g>\n",
              "        <path d=\"M19 3H5c-1.1 0-2 .9-2 2v14c0 1.1.9 2 2 2h14c1.1 0 2-.9 2-2V5c0-1.1-.9-2-2-2zM9 17H7v-7h2v7zm4 0h-2V7h2v10zm4 0h-2v-4h2v4z\"/>\n",
              "    </g>\n",
              "</svg>\n",
              "  </button>\n",
              "\n",
              "<style>\n",
              "  .colab-df-quickchart {\n",
              "      --bg-color: #E8F0FE;\n",
              "      --fill-color: #1967D2;\n",
              "      --hover-bg-color: #E2EBFA;\n",
              "      --hover-fill-color: #174EA6;\n",
              "      --disabled-fill-color: #AAA;\n",
              "      --disabled-bg-color: #DDD;\n",
              "  }\n",
              "\n",
              "  [theme=dark] .colab-df-quickchart {\n",
              "      --bg-color: #3B4455;\n",
              "      --fill-color: #D2E3FC;\n",
              "      --hover-bg-color: #434B5C;\n",
              "      --hover-fill-color: #FFFFFF;\n",
              "      --disabled-bg-color: #3B4455;\n",
              "      --disabled-fill-color: #666;\n",
              "  }\n",
              "\n",
              "  .colab-df-quickchart {\n",
              "    background-color: var(--bg-color);\n",
              "    border: none;\n",
              "    border-radius: 50%;\n",
              "    cursor: pointer;\n",
              "    display: none;\n",
              "    fill: var(--fill-color);\n",
              "    height: 32px;\n",
              "    padding: 0;\n",
              "    width: 32px;\n",
              "  }\n",
              "\n",
              "  .colab-df-quickchart:hover {\n",
              "    background-color: var(--hover-bg-color);\n",
              "    box-shadow: 0 1px 2px rgba(60, 64, 67, 0.3), 0 1px 3px 1px rgba(60, 64, 67, 0.15);\n",
              "    fill: var(--button-hover-fill-color);\n",
              "  }\n",
              "\n",
              "  .colab-df-quickchart-complete:disabled,\n",
              "  .colab-df-quickchart-complete:disabled:hover {\n",
              "    background-color: var(--disabled-bg-color);\n",
              "    fill: var(--disabled-fill-color);\n",
              "    box-shadow: none;\n",
              "  }\n",
              "\n",
              "  .colab-df-spinner {\n",
              "    border: 2px solid var(--fill-color);\n",
              "    border-color: transparent;\n",
              "    border-bottom-color: var(--fill-color);\n",
              "    animation:\n",
              "      spin 1s steps(1) infinite;\n",
              "  }\n",
              "\n",
              "  @keyframes spin {\n",
              "    0% {\n",
              "      border-color: transparent;\n",
              "      border-bottom-color: var(--fill-color);\n",
              "      border-left-color: var(--fill-color);\n",
              "    }\n",
              "    20% {\n",
              "      border-color: transparent;\n",
              "      border-left-color: var(--fill-color);\n",
              "      border-top-color: var(--fill-color);\n",
              "    }\n",
              "    30% {\n",
              "      border-color: transparent;\n",
              "      border-left-color: var(--fill-color);\n",
              "      border-top-color: var(--fill-color);\n",
              "      border-right-color: var(--fill-color);\n",
              "    }\n",
              "    40% {\n",
              "      border-color: transparent;\n",
              "      border-right-color: var(--fill-color);\n",
              "      border-top-color: var(--fill-color);\n",
              "    }\n",
              "    60% {\n",
              "      border-color: transparent;\n",
              "      border-right-color: var(--fill-color);\n",
              "    }\n",
              "    80% {\n",
              "      border-color: transparent;\n",
              "      border-right-color: var(--fill-color);\n",
              "      border-bottom-color: var(--fill-color);\n",
              "    }\n",
              "    90% {\n",
              "      border-color: transparent;\n",
              "      border-bottom-color: var(--fill-color);\n",
              "    }\n",
              "  }\n",
              "</style>\n",
              "\n",
              "  <script>\n",
              "    async function quickchart(key) {\n",
              "      const quickchartButtonEl =\n",
              "        document.querySelector('#' + key + ' button');\n",
              "      quickchartButtonEl.disabled = true;  // To prevent multiple clicks.\n",
              "      quickchartButtonEl.classList.add('colab-df-spinner');\n",
              "      try {\n",
              "        const charts = await google.colab.kernel.invokeFunction(\n",
              "            'suggestCharts', [key], {});\n",
              "      } catch (error) {\n",
              "        console.error('Error during call to suggestCharts:', error);\n",
              "      }\n",
              "      quickchartButtonEl.classList.remove('colab-df-spinner');\n",
              "      quickchartButtonEl.classList.add('colab-df-quickchart-complete');\n",
              "    }\n",
              "    (() => {\n",
              "      let quickchartButtonEl =\n",
              "        document.querySelector('#df-f314da24-84b4-41f7-a66a-fd9f83473e97 button');\n",
              "      quickchartButtonEl.style.display =\n",
              "        google.colab.kernel.accessAllowed ? 'block' : 'none';\n",
              "    })();\n",
              "  </script>\n",
              "</div>\n",
              "\n",
              "    </div>\n",
              "  </div>\n"
            ],
            "application/vnd.google.colaboratory.intrinsic+json": {
              "type": "dataframe",
              "summary": "{\n  \"name\": \"zone_w_outdegree[zone_w_outdegree['SourceZone'] != zone_w_outdegree['TargetZone']]\",\n  \"rows\": 7,\n  \"fields\": [\n    {\n      \"column\": \"TargetZone\",\n      \"properties\": {\n        \"dtype\": \"string\",\n        \"num_unique_values\": 7,\n        \"samples\": [\n          \"Africa\",\n          \"Europe\",\n          \"Special categories and unspecified areas\"\n        ],\n        \"semantic_type\": \"\",\n        \"description\": \"\"\n      }\n    },\n    {\n      \"column\": \"final_trade_quantity\",\n      \"properties\": {\n        \"dtype\": \"number\",\n        \"std\": 7552745364.56778,\n        \"min\": 14183.8,\n        \"max\": 20948154706.988,\n        \"num_unique_values\": 7,\n        \"samples\": [\n          20948154706.988,\n          4218652949.695,\n          218411435.4\n        ],\n        \"semantic_type\": \"\",\n        \"description\": \"\"\n      }\n    },\n    {\n      \"column\": \"SourceZone\",\n      \"properties\": {\n        \"dtype\": \"string\",\n        \"num_unique_values\": 7,\n        \"samples\": [\n          \"AsiaOceaniaEuropeAmericasSpecial categories and unspecified areas\",\n          \"AsiaAfricaOceaniaAmericasSpecial categories and unspecified areas\",\n          \"AsiaAfricaOceaniaEuropeAmericas\"\n        ],\n        \"semantic_type\": \"\",\n        \"description\": \"\"\n      }\n    }\n  ]\n}"
            }
          },
          "metadata": {},
          "execution_count": 17
        }
      ]
    },
    {
      "cell_type": "code",
      "source": [
        "#Most important edges\n",
        "zone_w_indegree.sort_values('final_trade_quantity', ascending = False).head()"
      ],
      "metadata": {
        "colab": {
          "base_uri": "https://localhost:8080/",
          "height": 206
        },
        "id": "jE0vH-MANLgD",
        "outputId": "04d5153c-9f25-46b2-cd10-2dab5390b924"
      },
      "execution_count": 18,
      "outputs": [
        {
          "output_type": "execute_result",
          "data": {
            "text/plain": [
              "  SourceZone  final_trade_quantity TargetZone\n",
              "0       Asia          2.684039e+10       Asia\n",
              "0       Asia          2.041072e+10     Africa\n",
              "0   Americas          5.446218e+09   Americas\n",
              "0       Asia          3.161531e+09     Europe\n",
              "1     Europe          2.481669e+09     Europe"
            ],
            "text/html": [
              "\n",
              "  <div id=\"df-904384ca-11b4-40ff-a474-09ddf136b1ae\" class=\"colab-df-container\">\n",
              "    <div>\n",
              "<style scoped>\n",
              "    .dataframe tbody tr th:only-of-type {\n",
              "        vertical-align: middle;\n",
              "    }\n",
              "\n",
              "    .dataframe tbody tr th {\n",
              "        vertical-align: top;\n",
              "    }\n",
              "\n",
              "    .dataframe thead th {\n",
              "        text-align: right;\n",
              "    }\n",
              "</style>\n",
              "<table border=\"1\" class=\"dataframe\">\n",
              "  <thead>\n",
              "    <tr style=\"text-align: right;\">\n",
              "      <th></th>\n",
              "      <th>SourceZone</th>\n",
              "      <th>final_trade_quantity</th>\n",
              "      <th>TargetZone</th>\n",
              "    </tr>\n",
              "  </thead>\n",
              "  <tbody>\n",
              "    <tr>\n",
              "      <th>0</th>\n",
              "      <td>Asia</td>\n",
              "      <td>2.684039e+10</td>\n",
              "      <td>Asia</td>\n",
              "    </tr>\n",
              "    <tr>\n",
              "      <th>0</th>\n",
              "      <td>Asia</td>\n",
              "      <td>2.041072e+10</td>\n",
              "      <td>Africa</td>\n",
              "    </tr>\n",
              "    <tr>\n",
              "      <th>0</th>\n",
              "      <td>Americas</td>\n",
              "      <td>5.446218e+09</td>\n",
              "      <td>Americas</td>\n",
              "    </tr>\n",
              "    <tr>\n",
              "      <th>0</th>\n",
              "      <td>Asia</td>\n",
              "      <td>3.161531e+09</td>\n",
              "      <td>Europe</td>\n",
              "    </tr>\n",
              "    <tr>\n",
              "      <th>1</th>\n",
              "      <td>Europe</td>\n",
              "      <td>2.481669e+09</td>\n",
              "      <td>Europe</td>\n",
              "    </tr>\n",
              "  </tbody>\n",
              "</table>\n",
              "</div>\n",
              "    <div class=\"colab-df-buttons\">\n",
              "\n",
              "  <div class=\"colab-df-container\">\n",
              "    <button class=\"colab-df-convert\" onclick=\"convertToInteractive('df-904384ca-11b4-40ff-a474-09ddf136b1ae')\"\n",
              "            title=\"Convert this dataframe to an interactive table.\"\n",
              "            style=\"display:none;\">\n",
              "\n",
              "  <svg xmlns=\"http://www.w3.org/2000/svg\" height=\"24px\" viewBox=\"0 -960 960 960\">\n",
              "    <path d=\"M120-120v-720h720v720H120Zm60-500h600v-160H180v160Zm220 220h160v-160H400v160Zm0 220h160v-160H400v160ZM180-400h160v-160H180v160Zm440 0h160v-160H620v160ZM180-180h160v-160H180v160Zm440 0h160v-160H620v160Z\"/>\n",
              "  </svg>\n",
              "    </button>\n",
              "\n",
              "  <style>\n",
              "    .colab-df-container {\n",
              "      display:flex;\n",
              "      gap: 12px;\n",
              "    }\n",
              "\n",
              "    .colab-df-convert {\n",
              "      background-color: #E8F0FE;\n",
              "      border: none;\n",
              "      border-radius: 50%;\n",
              "      cursor: pointer;\n",
              "      display: none;\n",
              "      fill: #1967D2;\n",
              "      height: 32px;\n",
              "      padding: 0 0 0 0;\n",
              "      width: 32px;\n",
              "    }\n",
              "\n",
              "    .colab-df-convert:hover {\n",
              "      background-color: #E2EBFA;\n",
              "      box-shadow: 0px 1px 2px rgba(60, 64, 67, 0.3), 0px 1px 3px 1px rgba(60, 64, 67, 0.15);\n",
              "      fill: #174EA6;\n",
              "    }\n",
              "\n",
              "    .colab-df-buttons div {\n",
              "      margin-bottom: 4px;\n",
              "    }\n",
              "\n",
              "    [theme=dark] .colab-df-convert {\n",
              "      background-color: #3B4455;\n",
              "      fill: #D2E3FC;\n",
              "    }\n",
              "\n",
              "    [theme=dark] .colab-df-convert:hover {\n",
              "      background-color: #434B5C;\n",
              "      box-shadow: 0px 1px 3px 1px rgba(0, 0, 0, 0.15);\n",
              "      filter: drop-shadow(0px 1px 2px rgba(0, 0, 0, 0.3));\n",
              "      fill: #FFFFFF;\n",
              "    }\n",
              "  </style>\n",
              "\n",
              "    <script>\n",
              "      const buttonEl =\n",
              "        document.querySelector('#df-904384ca-11b4-40ff-a474-09ddf136b1ae button.colab-df-convert');\n",
              "      buttonEl.style.display =\n",
              "        google.colab.kernel.accessAllowed ? 'block' : 'none';\n",
              "\n",
              "      async function convertToInteractive(key) {\n",
              "        const element = document.querySelector('#df-904384ca-11b4-40ff-a474-09ddf136b1ae');\n",
              "        const dataTable =\n",
              "          await google.colab.kernel.invokeFunction('convertToInteractive',\n",
              "                                                    [key], {});\n",
              "        if (!dataTable) return;\n",
              "\n",
              "        const docLinkHtml = 'Like what you see? Visit the ' +\n",
              "          '<a target=\"_blank\" href=https://colab.research.google.com/notebooks/data_table.ipynb>data table notebook</a>'\n",
              "          + ' to learn more about interactive tables.';\n",
              "        element.innerHTML = '';\n",
              "        dataTable['output_type'] = 'display_data';\n",
              "        await google.colab.output.renderOutput(dataTable, element);\n",
              "        const docLink = document.createElement('div');\n",
              "        docLink.innerHTML = docLinkHtml;\n",
              "        element.appendChild(docLink);\n",
              "      }\n",
              "    </script>\n",
              "  </div>\n",
              "\n",
              "\n",
              "<div id=\"df-30a0a8ca-cbcc-4228-b417-dcd959db79f4\">\n",
              "  <button class=\"colab-df-quickchart\" onclick=\"quickchart('df-30a0a8ca-cbcc-4228-b417-dcd959db79f4')\"\n",
              "            title=\"Suggest charts\"\n",
              "            style=\"display:none;\">\n",
              "\n",
              "<svg xmlns=\"http://www.w3.org/2000/svg\" height=\"24px\"viewBox=\"0 0 24 24\"\n",
              "     width=\"24px\">\n",
              "    <g>\n",
              "        <path d=\"M19 3H5c-1.1 0-2 .9-2 2v14c0 1.1.9 2 2 2h14c1.1 0 2-.9 2-2V5c0-1.1-.9-2-2-2zM9 17H7v-7h2v7zm4 0h-2V7h2v10zm4 0h-2v-4h2v4z\"/>\n",
              "    </g>\n",
              "</svg>\n",
              "  </button>\n",
              "\n",
              "<style>\n",
              "  .colab-df-quickchart {\n",
              "      --bg-color: #E8F0FE;\n",
              "      --fill-color: #1967D2;\n",
              "      --hover-bg-color: #E2EBFA;\n",
              "      --hover-fill-color: #174EA6;\n",
              "      --disabled-fill-color: #AAA;\n",
              "      --disabled-bg-color: #DDD;\n",
              "  }\n",
              "\n",
              "  [theme=dark] .colab-df-quickchart {\n",
              "      --bg-color: #3B4455;\n",
              "      --fill-color: #D2E3FC;\n",
              "      --hover-bg-color: #434B5C;\n",
              "      --hover-fill-color: #FFFFFF;\n",
              "      --disabled-bg-color: #3B4455;\n",
              "      --disabled-fill-color: #666;\n",
              "  }\n",
              "\n",
              "  .colab-df-quickchart {\n",
              "    background-color: var(--bg-color);\n",
              "    border: none;\n",
              "    border-radius: 50%;\n",
              "    cursor: pointer;\n",
              "    display: none;\n",
              "    fill: var(--fill-color);\n",
              "    height: 32px;\n",
              "    padding: 0;\n",
              "    width: 32px;\n",
              "  }\n",
              "\n",
              "  .colab-df-quickchart:hover {\n",
              "    background-color: var(--hover-bg-color);\n",
              "    box-shadow: 0 1px 2px rgba(60, 64, 67, 0.3), 0 1px 3px 1px rgba(60, 64, 67, 0.15);\n",
              "    fill: var(--button-hover-fill-color);\n",
              "  }\n",
              "\n",
              "  .colab-df-quickchart-complete:disabled,\n",
              "  .colab-df-quickchart-complete:disabled:hover {\n",
              "    background-color: var(--disabled-bg-color);\n",
              "    fill: var(--disabled-fill-color);\n",
              "    box-shadow: none;\n",
              "  }\n",
              "\n",
              "  .colab-df-spinner {\n",
              "    border: 2px solid var(--fill-color);\n",
              "    border-color: transparent;\n",
              "    border-bottom-color: var(--fill-color);\n",
              "    animation:\n",
              "      spin 1s steps(1) infinite;\n",
              "  }\n",
              "\n",
              "  @keyframes spin {\n",
              "    0% {\n",
              "      border-color: transparent;\n",
              "      border-bottom-color: var(--fill-color);\n",
              "      border-left-color: var(--fill-color);\n",
              "    }\n",
              "    20% {\n",
              "      border-color: transparent;\n",
              "      border-left-color: var(--fill-color);\n",
              "      border-top-color: var(--fill-color);\n",
              "    }\n",
              "    30% {\n",
              "      border-color: transparent;\n",
              "      border-left-color: var(--fill-color);\n",
              "      border-top-color: var(--fill-color);\n",
              "      border-right-color: var(--fill-color);\n",
              "    }\n",
              "    40% {\n",
              "      border-color: transparent;\n",
              "      border-right-color: var(--fill-color);\n",
              "      border-top-color: var(--fill-color);\n",
              "    }\n",
              "    60% {\n",
              "      border-color: transparent;\n",
              "      border-right-color: var(--fill-color);\n",
              "    }\n",
              "    80% {\n",
              "      border-color: transparent;\n",
              "      border-right-color: var(--fill-color);\n",
              "      border-bottom-color: var(--fill-color);\n",
              "    }\n",
              "    90% {\n",
              "      border-color: transparent;\n",
              "      border-bottom-color: var(--fill-color);\n",
              "    }\n",
              "  }\n",
              "</style>\n",
              "\n",
              "  <script>\n",
              "    async function quickchart(key) {\n",
              "      const quickchartButtonEl =\n",
              "        document.querySelector('#' + key + ' button');\n",
              "      quickchartButtonEl.disabled = true;  // To prevent multiple clicks.\n",
              "      quickchartButtonEl.classList.add('colab-df-spinner');\n",
              "      try {\n",
              "        const charts = await google.colab.kernel.invokeFunction(\n",
              "            'suggestCharts', [key], {});\n",
              "      } catch (error) {\n",
              "        console.error('Error during call to suggestCharts:', error);\n",
              "      }\n",
              "      quickchartButtonEl.classList.remove('colab-df-spinner');\n",
              "      quickchartButtonEl.classList.add('colab-df-quickchart-complete');\n",
              "    }\n",
              "    (() => {\n",
              "      let quickchartButtonEl =\n",
              "        document.querySelector('#df-30a0a8ca-cbcc-4228-b417-dcd959db79f4 button');\n",
              "      quickchartButtonEl.style.display =\n",
              "        google.colab.kernel.accessAllowed ? 'block' : 'none';\n",
              "    })();\n",
              "  </script>\n",
              "</div>\n",
              "\n",
              "    </div>\n",
              "  </div>\n"
            ],
            "application/vnd.google.colaboratory.intrinsic+json": {
              "type": "dataframe",
              "summary": "{\n  \"name\": \"zone_w_indegree\",\n  \"rows\": 5,\n  \"fields\": [\n    {\n      \"column\": \"SourceZone\",\n      \"properties\": {\n        \"dtype\": \"string\",\n        \"num_unique_values\": 3,\n        \"samples\": [\n          \"Asia\",\n          \"Americas\",\n          \"Europe\"\n        ],\n        \"semantic_type\": \"\",\n        \"description\": \"\"\n      }\n    },\n    {\n      \"column\": \"final_trade_quantity\",\n      \"properties\": {\n        \"dtype\": \"number\",\n        \"std\": 11203746747.804415,\n        \"min\": 2481669461.84,\n        \"max\": 26840386169.782,\n        \"num_unique_values\": 5,\n        \"samples\": [\n          20410723124.985,\n          2481669461.84,\n          5446218095.314\n        ],\n        \"semantic_type\": \"\",\n        \"description\": \"\"\n      }\n    },\n    {\n      \"column\": \"TargetZone\",\n      \"properties\": {\n        \"dtype\": \"string\",\n        \"num_unique_values\": 4,\n        \"samples\": [\n          \"Africa\",\n          \"Europe\",\n          \"Asia\"\n        ],\n        \"semantic_type\": \"\",\n        \"description\": \"\"\n      }\n    }\n  ]\n}"
            }
          },
          "metadata": {},
          "execution_count": 18
        }
      ]
    },
    {
      "cell_type": "code",
      "source": [
        "'''#From where each zone (horiz axis) imports rice (in terms of number of connections)\n",
        "fig, ax = plt.subplots(figsize=(10,8))\n",
        "sns.barplot(x='TargetZone', y='Nr of connections', hue='SourceZone', data=zone_indegree, palette='Set2', ax=ax)\n",
        "ax.tick_params(axis='x', labelsize=10)\n",
        "ax.set_xlabel('')\n",
        "ax.set_ylabel('Number of connections')\n",
        "#plt.show()'''"
      ],
      "metadata": {
        "colab": {
          "base_uri": "https://localhost:8080/",
          "height": 53
        },
        "id": "u9iXvI1ONOrI",
        "outputId": "fd9b2ca0-3808-47d4-e01d-e67fcb603b4a"
      },
      "execution_count": 42,
      "outputs": [
        {
          "output_type": "execute_result",
          "data": {
            "text/plain": [
              "\"#From where each zone (horiz axis) imports rice (in terms of number of connections)\\nfig, ax = plt.subplots(figsize=(10,8))\\nsns.barplot(x='TargetZone', y='Nr of connections', hue='SourceZone', data=zone_indegree, palette='Set2', ax=ax)\\nax.tick_params(axis='x', labelsize=10)\\nax.set_xlabel('')\\nax.set_ylabel('Number of connections')\\n#plt.show()\""
            ],
            "application/vnd.google.colaboratory.intrinsic+json": {
              "type": "string"
            }
          },
          "metadata": {},
          "execution_count": 42
        }
      ]
    },
    {
      "cell_type": "code",
      "source": [
        "'''#To which zone each zone (horiz axis) exports rice (in terms of connections)\n",
        "fig, ax = plt.subplots(figsize=(10,8))\n",
        "sns.barplot(x='SourceZone', y='Nr of connections', hue='TargetZone', data=zone_outdegree, palette='Set2', ax=ax)\n",
        "ax.tick_params(axis='x', labelsize=8)\n",
        "ax.set_xlabel('')\n",
        "ax.set_ylabel('Number of connections')\n",
        "plt.legend(loc = 'upper right')\n",
        "#plt.show()'''"
      ],
      "metadata": {
        "colab": {
          "base_uri": "https://localhost:8080/",
          "height": 53
        },
        "id": "R_GU2tMINtb7",
        "outputId": "8ca0e967-8867-4b6b-e6ff-f48601e0382c"
      },
      "execution_count": 41,
      "outputs": [
        {
          "output_type": "execute_result",
          "data": {
            "text/plain": [
              "\"#To which zone each zone (horiz axis) exports rice (in terms of connections)\\nfig, ax = plt.subplots(figsize=(10,8))\\nsns.barplot(x='SourceZone', y='Nr of connections', hue='TargetZone', data=zone_outdegree, palette='Set2', ax=ax)\\nax.tick_params(axis='x', labelsize=8)\\nax.set_xlabel('')\\nax.set_ylabel('Number of connections')\\nplt.legend(loc = 'upper right')\\n#plt.show()\""
            ],
            "application/vnd.google.colaboratory.intrinsic+json": {
              "type": "string"
            }
          },
          "metadata": {},
          "execution_count": 41
        }
      ]
    },
    {
      "cell_type": "code",
      "source": [
        "'''##From where each zone (horiz axis) imports rice (in terms of number of quantity)\n",
        "fig, ax = plt.subplots(figsize=(10,8))\n",
        "sns.barplot(x='TargetZone', y='final_trade_quantity', hue='SourceZone', data=zone_w_indegree, palette='Set2', ax=ax)\n",
        "ax.tick_params(axis='x', labelsize=10)\n",
        "ax.set_ylabel('Trades value (kgs)')\n",
        "#plt.show()'''"
      ],
      "metadata": {
        "colab": {
          "base_uri": "https://localhost:8080/",
          "height": 53
        },
        "id": "VBrwAgjyN0GB",
        "outputId": "a1ffbaf7-2a28-4696-c4d2-ab8306625c3d"
      },
      "execution_count": 38,
      "outputs": [
        {
          "output_type": "execute_result",
          "data": {
            "text/plain": [
              "\"##From where each zone (horiz axis) imports rice (in terms of number of quantity)\\nfig, ax = plt.subplots(figsize=(10,8))\\nsns.barplot(x='TargetZone', y='final_trade_quantity', hue='SourceZone', data=zone_w_indegree, palette='Set2', ax=ax)\\nax.tick_params(axis='x', labelsize=10)\\nax.set_ylabel('Trades value (kgs)')\\n#plt.show()\""
            ],
            "application/vnd.google.colaboratory.intrinsic+json": {
              "type": "string"
            }
          },
          "metadata": {},
          "execution_count": 38
        }
      ]
    },
    {
      "cell_type": "code",
      "source": [
        "'''#To which zone each zone (horiz axis) exports rice (in terms of connections)\n",
        "fig, ax = plt.subplots(figsize=(12,8))\n",
        "sns.barplot(x='SourceZone', y='final_trade_quantity', hue='TargetZone', data=zone_w_outdegree, palette='Set2', ax=ax)\n",
        "ax.tick_params(axis='x', labelsize=10)\n",
        "sns.despine()\n",
        "ax.set_ylabel('Trades value (kilo)')\n",
        "plt.legend(title='TargetZone', loc = 'upper right')\n",
        "#plt.show()'''"
      ],
      "metadata": {
        "colab": {
          "base_uri": "https://localhost:8080/",
          "height": 53
        },
        "id": "DDLYqZcROEP_",
        "outputId": "b1de6f0c-ea6a-4a8d-8ccc-34aea895d7cd"
      },
      "execution_count": 39,
      "outputs": [
        {
          "output_type": "execute_result",
          "data": {
            "text/plain": [
              "\"#To which zone each zone (horiz axis) exports rice (in terms of connections)\\nfig, ax = plt.subplots(figsize=(12,8))\\nsns.barplot(x='SourceZone', y='final_trade_quantity', hue='TargetZone', data=zone_w_outdegree, palette='Set2', ax=ax)\\nax.tick_params(axis='x', labelsize=10)\\nsns.despine()\\nax.set_ylabel('Trades value (kilo)')\\nplt.legend(title='TargetZone', loc = 'upper right')\\n#plt.show()\""
            ],
            "application/vnd.google.colaboratory.intrinsic+json": {
              "type": "string"
            }
          },
          "metadata": {},
          "execution_count": 39
        }
      ]
    },
    {
      "cell_type": "markdown",
      "source": [
        "# Centrality Analysis"
      ],
      "metadata": {
        "id": "P7_IgzjHjGxb"
      }
    },
    {
      "cell_type": "code",
      "source": [
        "# @title out-degree\n",
        "out_degree = pd.Series(dict(G.out_degree))\n",
        "out_degree_values = list(out_degree.values)\n",
        "\n",
        "print('Mean out-degree:', np.mean(out_degree_values))\n",
        "print('Median out-degree:', np.median(out_degree_values))\n",
        "print('Out-degree std dev:', np.std(out_degree_values))\n",
        "print('Max out-degree:', np.max(out_degree_values))\n",
        "print('Min out-degree:', np.min(out_degree_values))"
      ],
      "metadata": {
        "colab": {
          "base_uri": "https://localhost:8080/"
        },
        "id": "J_k8SHR8PYt9",
        "outputId": "d0b88c23-160a-44e5-f8dc-7631e7d03ee3"
      },
      "execution_count": 23,
      "outputs": [
        {
          "output_type": "stream",
          "name": "stdout",
          "text": [
            "Mean out-degree: 20.805194805194805\n",
            "Median out-degree: 6.0\n",
            "Out-degree std dev: 34.10349880910545\n",
            "Max out-degree: 176\n",
            "Min out-degree: 0\n"
          ]
        }
      ]
    },
    {
      "cell_type": "code",
      "source": [
        "# @title out-degree\n",
        "in_degree = pd.Series(dict(G.in_degree))\n",
        "in_degree_values = list(in_degree.values)\n",
        "\n",
        "print('Mean in-degree:', np.mean(in_degree_values))\n",
        "print('Median in-degree:', np.median(in_degree_values))\n",
        "print('In-degree std dev:', np.std(in_degree_values))\n",
        "print('Max in-degree:', np.max(in_degree_values))\n",
        "print('Min in-degree:', np.min(in_degree_values))"
      ],
      "metadata": {
        "colab": {
          "base_uri": "https://localhost:8080/"
        },
        "id": "ypd0eqw7PZTC",
        "outputId": "8455d431-a0a2-46dc-e51e-9066381dd9b8"
      },
      "execution_count": 24,
      "outputs": [
        {
          "output_type": "stream",
          "name": "stdout",
          "text": [
            "Mean in-degree: 20.805194805194805\n",
            "Median in-degree: 16.0\n",
            "In-degree std dev: 17.45398821518253\n",
            "Max in-degree: 83\n",
            "Min in-degree: 0\n"
          ]
        }
      ]
    },
    {
      "cell_type": "code",
      "source": [
        "# @title total degree\n",
        "degree = pd.Series(dict(G.degree))\n",
        "degree_values = list(degree.values)\n",
        "\n",
        "print('Mean degree:', np.mean(degree_values))\n",
        "print('Median degree:', np.median(degree_values))\n",
        "print('Degree std dev:', np.std(degree_values))\n",
        "print('Max degree:', np.max(degree_values))\n",
        "print('Min degree:', np.min(degree_values))"
      ],
      "metadata": {
        "colab": {
          "base_uri": "https://localhost:8080/"
        },
        "id": "7q1j9u22Q24i",
        "outputId": "188b2a5b-cf2c-4098-d85b-848c138e8deb"
      },
      "execution_count": 25,
      "outputs": [
        {
          "output_type": "stream",
          "name": "stdout",
          "text": [
            "Mean degree: 41.61038961038961\n",
            "Median degree: 24.0\n",
            "Degree std dev: 46.6964469789112\n",
            "Max degree: 248\n",
            "Min degree: 1\n"
          ]
        }
      ]
    },
    {
      "cell_type": "code",
      "source": [
        "#higher in-degree, out-degree, total-degree\n",
        "print('Countries with higher import (in-degree):')\n",
        "print(in_degree.sort_values(ascending=False).head())\n",
        "print('\\n')\n",
        "print('Countries with higher export (out-degree):')\n",
        "print(out_degree.sort_values(ascending=False).head())\n",
        "print('\\n')\n",
        "print('Countries with larger number of connections (degree):')\n",
        "print(degree.sort_values(ascending=False).head())"
      ],
      "metadata": {
        "colab": {
          "base_uri": "https://localhost:8080/"
        },
        "id": "6HXtB_-UjNWZ",
        "outputId": "84967ae8-feae-454d-ddf0-3ec8dd6823d4"
      },
      "execution_count": 26,
      "outputs": [
        {
          "output_type": "stream",
          "name": "stdout",
          "text": [
            "Countries with higher import (in-degree):\n",
            "528    83\n",
            "124    82\n",
            "842    81\n",
            "251    74\n",
            "276    72\n",
            "dtype: int64\n",
            "\n",
            "\n",
            "Countries with higher export (out-degree):\n",
            "699    176\n",
            "842    167\n",
            "764    163\n",
            "380    144\n",
            "156    143\n",
            "dtype: int64\n",
            "\n",
            "\n",
            "Countries with larger number of connections (degree):\n",
            "842    248\n",
            "699    214\n",
            "764    200\n",
            "380    198\n",
            "792    192\n",
            "dtype: int64\n"
          ]
        }
      ]
    },
    {
      "cell_type": "code",
      "source": [
        "# @title degree centrality\n",
        "degree_centrality = nx.degree_centrality(G)\n",
        "print('Degree Centrality of graph:\\n')\n",
        "print(degree_centrality)\n",
        "print(len(degree_centrality))\n",
        "print('\\n')\n",
        "in_degree_centrality = nx.in_degree_centrality(G)\n",
        "print('In-Degree Centrality of graph:\\n')\n",
        "print(in_degree_centrality)\n",
        "print(len(in_degree_centrality))\n",
        "print('\\n')\n",
        "out_degree_centrality = nx.out_degree_centrality(G)\n",
        "print('Out-Degree Centrality of graph:\\n')\n",
        "print(out_degree_centrality)\n",
        "print(len(out_degree_centrality))"
      ],
      "metadata": {
        "colab": {
          "base_uri": "https://localhost:8080/"
        },
        "id": "Fm5X1AViPNN6",
        "outputId": "a1d417ba-0e97-4598-9078-1c45376b099e"
      },
      "execution_count": 27,
      "outputs": [
        {
          "output_type": "stream",
          "name": "stdout",
          "text": [
            "Degree Centrality of graph:\n",
            "\n",
            "{'004': 0.043478260869565216, '008': 0.08695652173913043, '010': 0.008695652173913044, '012': 0.052173913043478265, '016': 0.021739130434782608, '020': 0.0391304347826087, '024': 0.15217391304347827, '028': 0.09565217391304348, '031': 0.13478260869565217, '032': 0.2565217391304348, '036': 0.4043478260869565, '040': 0.4217391304347826, '044': 0.11739130434782609, '048': 0.26956521739130435, '050': 0.21739130434782608, '051': 0.09565217391304348, '052': 0.0782608695652174, '056': 0.6652173913043479, '060': 0.043478260869565216, '064': 0.021739130434782608, '068': 0.09565217391304348, '070': 0.11739130434782609, '072': 0.07391304347826087, '076': 0.5521739130434783, '084': 0.052173913043478265, '086': 0.004347826086956522, '090': 0.008695652173913044, '092': 0.034782608695652174, '096': 0.10434782608695653, '100': 0.3739130434782609, '104': 0.3173913043478261, '108': 0.0782608695652174, '112': 0.030434782608695653, '116': 0.3782608695652174, '120': 0.08695652173913043, '124': 0.6260869565217392, '132': 0.08695652173913043, '136': 0.04782608695652174, '140': 0.052173913043478265, '144': 0.3173913043478261, '148': 0.013043478260869566, '152': 0.16086956521739132, '156': 0.7347826086956522, '170': 0.17391304347826086, '174': 0.043478260869565216, '178': 0.08260869565217391, '180': 0.16086956521739132, '184': 0.026086956521739132, '188': 0.12173913043478261, '191': 0.1826086956521739, '192': 0.0782608695652174, '196': 0.21304347826086956, '203': 0.34782608695652173, '204': 0.16956521739130434, '208': 0.39565217391304347, '212': 0.021739130434782608, '214': 0.10434782608695653, '218': 0.10434782608695653, '222': 0.1, '226': 0.06086956521739131, '231': 0.13478260869565217, '232': 0.021739130434782608, '233': 0.21739130434782608, '234': 0.017391304347826087, '238': 0.008695652173913044, '242': 0.13043478260869565, '246': 0.30869565217391304, '251': 0.8217391304347826, '258': 0.1, '262': 0.034782608695652174, '266': 0.034782608695652174, '268': 0.11739130434782609, '270': 0.07391304347826087, '275': 0.10434782608695653, '276': 0.7130434782608696, '288': 0.36086956521739133, '292': 0.026086956521739132, '296': 0.021739130434782608, '300': 0.43043478260869567, '304': 0.021739130434782608, '308': 0.05652173913043478, '316': 0.013043478260869566, '320': 0.12608695652173912, '324': 0.06086956521739131, '328': 0.2217391304347826, '332': 0.06956521739130435, '336': 0.004347826086956522, '340': 0.06086956521739131, '344': 0.23043478260869565, '348': 0.2782608695652174, '352': 0.1782608695652174, '360': 0.26956521739130435, '364': 0.16521739130434782, '368': 0.13043478260869565, '372': 0.3652173913043478, '376': 0.2217391304347826, '380': 0.8608695652173913, '384': 0.18695652173913044, '388': 0.08695652173913043, '392': 0.5304347826086957, '398': 0.20434782608695654, '400': 0.21739130434782608, '404': 0.2739130434782609, '408': 0.004347826086956522, '410': 0.49130434782608695, '414': 0.20434782608695654, '417': 0.0782608695652174, '418': 0.09565217391304348, '422': 0.3869565217391304, '426': 0.017391304347826087, '428': 0.20869565217391306, '430': 0.06956521739130435, '434': 0.06521739130434782, '440': 0.24782608695652175, '442': 0.26956521739130435, '446': 0.11739130434782609, '450': 0.10434782608695653, '454': 0.13043478260869565, '458': 0.20869565217391306, '462': 0.2, '466': 0.0782608695652174, '470': 0.16956521739130434, '473': 0.004347826086956522, '478': 0.07391304347826087, '480': 0.14347826086956522, '484': 0.13043478260869565, '490': 0.30434782608695654, '496': 0.1, '498': 0.1782608695652174, '499': 0.14347826086956522, '500': 0.021739130434782608, '504': 0.1391304347826087, '508': 0.19130434782608696, '512': 0.2391304347826087, '516': 0.14782608695652175, '520': 0.008695652173913044, '524': 0.10434782608695653, '527': 0.004347826086956522, '528': 0.8, '531': 0.08260869565217391, '533': 0.05652173913043478, '534': 0.034782608695652174, '535': 0.004347826086956522, '540': 0.026086956521739132, '548': 0.034782608695652174, '554': 0.24782608695652175, '558': 0.08260869565217391, '562': 0.1, '566': 0.21304347826086956, '568': 0.052173913043478265, '570': 0.008695652173913044, '574': 0.004347826086956522, '579': 0.30434782608695654, '580': 0.021739130434782608, '583': 0.013043478260869566, '584': 0.04782608695652174, '585': 0.017391304347826087, '586': 0.6782608695652174, '591': 0.14782608695652175, '598': 0.030434782608695653, '600': 0.20869565217391306, '604': 0.18695652173913044, '608': 0.25217391304347825, '612': 0.004347826086956522, '616': 0.45217391304347826, '620': 0.5347826086956522, '624': 0.043478260869565216, '626': 0.05652173913043478, '634': 0.1826086956521739, '642': 0.3, '643': 0.2782608695652174, '646': 0.13043478260869565, '652': 0.004347826086956522, '654': 0.004347826086956522, '659': 0.013043478260869566, '660': 0.008695652173913044, '662': 0.030434782608695653, '666': 0.013043478260869566, '670': 0.030434782608695653, '678': 0.06086956521739131, '682': 0.21304347826086956, '686': 0.1782608695652174, '688': 0.1826086956521739, '690': 0.1391304347826087, '694': 0.08695652173913043, '699': 0.9304347826086956, '702': 0.3739130434782609, '703': 0.29130434782608694, '704': 0.6130434782608696, '705': 0.29130434782608694, '706': 0.043478260869565216, '710': 0.43478260869565216, '716': 0.1, '724': 0.7260869565217392, '728': 0.017391304347826087, '729': 0.05652173913043478, '740': 0.1, '748': 0.013043478260869566, '752': 0.3130434782608696, '757': 0.4043478260869565, '760': 0.06086956521739131, '762': 0.06521739130434782, '764': 0.8695652173913043, '768': 0.13043478260869565, '776': 0.013043478260869566, '780': 0.12608695652173912, '784': 0.6956521739130435, '788': 0.09130434782608696, '792': 0.8347826086956522, '795': 0.021739130434782608, '796': 0.013043478260869566, '798': 0.021739130434782608, '800': 0.11739130434782609, '804': 0.3347826086956522, '807': 0.16956521739130434, '818': 0.23043478260869565, '826': 0.7347826086956522, '834': 0.24782608695652175, '837': 0.0391304347826087, '838': 0.013043478260869566, '839': 0.013043478260869566, '842': 1.0782608695652174, '854': 0.09565217391304348, '858': 0.33043478260869563, '860': 0.10434782608695653, '862': 0.08260869565217391, '876': 0.021739130434782608, '882': 0.013043478260869566, '887': 0.04782608695652174, '894': 0.13478260869565217, '899': 0.16956521739130434}\n",
            "231\n",
            "\n",
            "\n",
            "In-Degree Centrality of graph:\n",
            "\n",
            "{'004': 0.030434782608695653, '008': 0.06956521739130435, '010': 0.008695652173913044, '012': 0.043478260869565216, '016': 0.021739130434782608, '020': 0.026086956521739132, '024': 0.11304347826086956, '028': 0.09565217391304348, '031': 0.11304347826086956, '032': 0.06521739130434782, '036': 0.18695652173913044, '040': 0.2217391304347826, '044': 0.11304347826086956, '048': 0.1826086956521739, '050': 0.04782608695652174, '051': 0.08695652173913043, '052': 0.06521739130434782, '056': 0.30434782608695654, '060': 0.0391304347826087, '064': 0.004347826086956522, '068': 0.043478260869565216, '070': 0.1, '072': 0.052173913043478265, '076': 0.07391304347826087, '084': 0.04782608695652174, '086': 0.004347826086956522, '090': 0.008695652173913044, '092': 0.021739130434782608, '096': 0.08260869565217391, '100': 0.15217391304347827, '104': 0.030434782608695653, '108': 0.07391304347826087, '112': 0.026086956521739132, '116': 0.043478260869565216, '120': 0.06521739130434782, '124': 0.3565217391304348, '132': 0.08260869565217391, '136': 0.043478260869565216, '140': 0.052173913043478265, '144': 0.11739130434782609, '148': 0.013043478260869566, '152': 0.11739130434782609, '156': 0.11304347826086956, '170': 0.0782608695652174, '174': 0.043478260869565216, '178': 0.0782608695652174, '180': 0.12608695652173912, '184': 0.026086956521739132, '188': 0.07391304347826087, '191': 0.12608695652173912, '192': 0.06956521739130435, '196': 0.1782608695652174, '203': 0.21304347826086956, '204': 0.12608695652173912, '208': 0.21739130434782608, '212': 0.013043478260869566, '214': 0.04782608695652174, '218': 0.030434782608695653, '222': 0.07391304347826087, '226': 0.052173913043478265, '231': 0.11304347826086956, '232': 0.021739130434782608, '233': 0.17391304347826086, '234': 0.017391304347826087, '238': 0.008695652173913044, '242': 0.06086956521739131, '246': 0.20434782608695654, '251': 0.32173913043478264, '258': 0.1, '262': 0.034782608695652174, '266': 0.034782608695652174, '268': 0.09565217391304348, '270': 0.06956521739130435, '275': 0.09565217391304348, '276': 0.3130434782608696, '288': 0.2739130434782609, '292': 0.026086956521739132, '296': 0.021739130434782608, '300': 0.19130434782608696, '304': 0.021739130434782608, '308': 0.04782608695652174, '316': 0.008695652173913044, '320': 0.1, '324': 0.05652173913043478, '328': 0.043478260869565216, '332': 0.04782608695652174, '336': 0.0, '340': 0.043478260869565216, '344': 0.13043478260869565, '348': 0.16086956521739132, '352': 0.16086956521739132, '360': 0.0782608695652174, '364': 0.0391304347826087, '368': 0.07391304347826087, '372': 0.26521739130434785, '376': 0.15217391304347827, '380': 0.23478260869565218, '384': 0.09130434782608696, '388': 0.05652173913043478, '392': 0.12173913043478261, '398': 0.09130434782608696, '400': 0.1391304347826087, '404': 0.11304347826086956, '408': 0.004347826086956522, '410': 0.12173913043478261, '414': 0.14347826086956522, '417': 0.04782608695652174, '418': 0.026086956521739132, '422': 0.15217391304347827, '426': 0.013043478260869566, '428': 0.1391304347826087, '430': 0.06521739130434782, '434': 0.052173913043478265, '440': 0.12608695652173912, '442': 0.21739130434782608, '446': 0.11304347826086956, '450': 0.0782608695652174, '454': 0.052173913043478265, '458': 0.10869565217391304, '462': 0.1956521739130435, '466': 0.06521739130434782, '470': 0.14782608695652175, '473': 0.004347826086956522, '478': 0.06956521739130435, '480': 0.10434782608695653, '484': 0.06086956521739131, '490': 0.07391304347826087, '496': 0.09130434782608696, '498': 0.15217391304347827, '499': 0.12173913043478261, '500': 0.021739130434782608, '504': 0.10434782608695653, '508': 0.08260869565217391, '512': 0.11739130434782609, '516': 0.12173913043478261, '520': 0.008695652173913044, '524': 0.06956521739130435, '527': 0.004347826086956522, '528': 0.36086956521739133, '531': 0.06086956521739131, '533': 0.04782608695652174, '534': 0.030434782608695653, '535': 0.004347826086956522, '540': 0.021739130434782608, '548': 0.034782608695652174, '554': 0.15217391304347827, '558': 0.04782608695652174, '562': 0.08695652173913043, '566': 0.10869565217391304, '568': 0.017391304347826087, '570': 0.008695652173913044, '574': 0.004347826086956522, '579': 0.21304347826086956, '580': 0.021739130434782608, '583': 0.013043478260869566, '584': 0.043478260869565216, '585': 0.017391304347826087, '586': 0.09565217391304348, '591': 0.09565217391304348, '598': 0.030434782608695653, '600': 0.043478260869565216, '604': 0.06521739130434782, '608': 0.1, '612': 0.0, '616': 0.23043478260869565, '620': 0.19130434782608696, '624': 0.0391304347826087, '626': 0.05652173913043478, '634': 0.14782608695652175, '642': 0.13043478260869565, '643': 0.11304347826086956, '646': 0.10434782608695653, '652': 0.004347826086956522, '654': 0.004347826086956522, '659': 0.013043478260869566, '660': 0.008695652173913044, '662': 0.026086956521739132, '666': 0.008695652173913044, '670': 0.026086956521739132, '678': 0.06086956521739131, '682': 0.13478260869565217, '686': 0.12608695652173912, '688': 0.11739130434782609, '690': 0.13043478260869565, '694': 0.08260869565217391, '699': 0.16521739130434782, '702': 0.17391304347826086, '703': 0.1956521739130435, '704': 0.08695652173913043, '705': 0.16956521739130434, '706': 0.043478260869565216, '710': 0.2217391304347826, '716': 0.09130434782608696, '724': 0.24782608695652175, '728': 0.017391304347826087, '729': 0.05652173913043478, '740': 0.0391304347826087, '748': 0.008695652173913044, '752': 0.2, '757': 0.24782608695652175, '760': 0.04782608695652174, '762': 0.04782608695652174, '764': 0.16086956521739132, '768': 0.09130434782608696, '776': 0.013043478260869566, '780': 0.06086956521739131, '784': 0.25217391304347825, '788': 0.06086956521739131, '792': 0.22608695652173913, '795': 0.017391304347826087, '796': 0.013043478260869566, '798': 0.021739130434782608, '800': 0.06086956521739131, '804': 0.19130434782608696, '807': 0.06956521739130435, '818': 0.1, '826': 0.3130434782608696, '834': 0.09130434782608696, '837': 0.0391304347826087, '838': 0.008695652173913044, '839': 0.008695652173913044, '842': 0.3521739130434783, '854': 0.07391304347826087, '858': 0.06086956521739131, '860': 0.06086956521739131, '862': 0.06086956521739131, '876': 0.021739130434782608, '882': 0.013043478260869566, '887': 0.0391304347826087, '894': 0.11304347826086956, '899': 0.08695652173913043}\n",
            "231\n",
            "\n",
            "\n",
            "Out-Degree Centrality of graph:\n",
            "\n",
            "{'004': 0.013043478260869566, '008': 0.017391304347826087, '010': 0.0, '012': 0.008695652173913044, '016': 0.0, '020': 0.013043478260869566, '024': 0.0391304347826087, '028': 0.0, '031': 0.021739130434782608, '032': 0.19130434782608696, '036': 0.21739130434782608, '040': 0.2, '044': 0.004347826086956522, '048': 0.08695652173913043, '050': 0.16956521739130434, '051': 0.008695652173913044, '052': 0.013043478260869566, '056': 0.36086956521739133, '060': 0.004347826086956522, '064': 0.017391304347826087, '068': 0.052173913043478265, '070': 0.017391304347826087, '072': 0.021739130434782608, '076': 0.4782608695652174, '084': 0.004347826086956522, '086': 0.0, '090': 0.0, '092': 0.013043478260869566, '096': 0.021739130434782608, '100': 0.2217391304347826, '104': 0.28695652173913044, '108': 0.004347826086956522, '112': 0.004347826086956522, '116': 0.3347826086956522, '120': 0.021739130434782608, '124': 0.26956521739130435, '132': 0.004347826086956522, '136': 0.004347826086956522, '140': 0.0, '144': 0.2, '148': 0.0, '152': 0.043478260869565216, '156': 0.6217391304347826, '170': 0.09565217391304348, '174': 0.0, '178': 0.004347826086956522, '180': 0.034782608695652174, '184': 0.0, '188': 0.04782608695652174, '191': 0.05652173913043478, '192': 0.008695652173913044, '196': 0.034782608695652174, '203': 0.13478260869565217, '204': 0.043478260869565216, '208': 0.1782608695652174, '212': 0.008695652173913044, '214': 0.05652173913043478, '218': 0.07391304347826087, '222': 0.026086956521739132, '226': 0.008695652173913044, '231': 0.021739130434782608, '232': 0.0, '233': 0.043478260869565216, '234': 0.0, '238': 0.0, '242': 0.06956521739130435, '246': 0.10434782608695653, '251': 0.5, '258': 0.0, '262': 0.0, '266': 0.0, '268': 0.021739130434782608, '270': 0.004347826086956522, '275': 0.008695652173913044, '276': 0.4, '288': 0.08695652173913043, '292': 0.0, '296': 0.0, '300': 0.2391304347826087, '304': 0.0, '308': 0.008695652173913044, '316': 0.004347826086956522, '320': 0.026086956521739132, '324': 0.004347826086956522, '328': 0.1782608695652174, '332': 0.021739130434782608, '336': 0.004347826086956522, '340': 0.017391304347826087, '344': 0.1, '348': 0.11739130434782609, '352': 0.017391304347826087, '360': 0.19130434782608696, '364': 0.12608695652173912, '368': 0.05652173913043478, '372': 0.1, '376': 0.06956521739130435, '380': 0.6260869565217392, '384': 0.09565217391304348, '388': 0.030434782608695653, '392': 0.40869565217391307, '398': 0.11304347826086956, '400': 0.0782608695652174, '404': 0.16086956521739132, '408': 0.0, '410': 0.3695652173913044, '414': 0.06086956521739131, '417': 0.030434782608695653, '418': 0.06956521739130435, '422': 0.23478260869565218, '426': 0.004347826086956522, '428': 0.06956521739130435, '430': 0.004347826086956522, '434': 0.013043478260869566, '440': 0.12173913043478261, '442': 0.052173913043478265, '446': 0.004347826086956522, '450': 0.026086956521739132, '454': 0.0782608695652174, '458': 0.1, '462': 0.004347826086956522, '466': 0.013043478260869566, '470': 0.021739130434782608, '473': 0.0, '478': 0.004347826086956522, '480': 0.0391304347826087, '484': 0.06956521739130435, '490': 0.23043478260869565, '496': 0.008695652173913044, '498': 0.026086956521739132, '499': 0.021739130434782608, '500': 0.0, '504': 0.034782608695652174, '508': 0.10869565217391304, '512': 0.12173913043478261, '516': 0.026086956521739132, '520': 0.0, '524': 0.034782608695652174, '527': 0.0, '528': 0.4391304347826087, '531': 0.021739130434782608, '533': 0.008695652173913044, '534': 0.004347826086956522, '535': 0.0, '540': 0.004347826086956522, '548': 0.0, '554': 0.09565217391304348, '558': 0.034782608695652174, '562': 0.013043478260869566, '566': 0.10434782608695653, '568': 0.034782608695652174, '570': 0.0, '574': 0.0, '579': 0.09130434782608696, '580': 0.0, '583': 0.0, '584': 0.004347826086956522, '585': 0.0, '586': 0.5826086956521739, '591': 0.052173913043478265, '598': 0.0, '600': 0.16521739130434782, '604': 0.12173913043478261, '608': 0.15217391304347827, '612': 0.004347826086956522, '616': 0.2217391304347826, '620': 0.34347826086956523, '624': 0.004347826086956522, '626': 0.0, '634': 0.034782608695652174, '642': 0.16956521739130434, '643': 0.16521739130434782, '646': 0.026086956521739132, '652': 0.0, '654': 0.0, '659': 0.0, '660': 0.0, '662': 0.004347826086956522, '666': 0.004347826086956522, '670': 0.004347826086956522, '678': 0.0, '682': 0.0782608695652174, '686': 0.052173913043478265, '688': 0.06521739130434782, '690': 0.008695652173913044, '694': 0.004347826086956522, '699': 0.7652173913043478, '702': 0.2, '703': 0.09565217391304348, '704': 0.5260869565217391, '705': 0.12173913043478261, '706': 0.0, '710': 0.21304347826086956, '716': 0.008695652173913044, '724': 0.4782608695652174, '728': 0.0, '729': 0.0, '740': 0.06086956521739131, '748': 0.004347826086956522, '752': 0.11304347826086956, '757': 0.1565217391304348, '760': 0.013043478260869566, '762': 0.017391304347826087, '764': 0.7086956521739131, '768': 0.0391304347826087, '776': 0.0, '780': 0.06521739130434782, '784': 0.4434782608695652, '788': 0.030434782608695653, '792': 0.6086956521739131, '795': 0.004347826086956522, '796': 0.0, '798': 0.0, '800': 0.05652173913043478, '804': 0.14347826086956522, '807': 0.1, '818': 0.13043478260869565, '826': 0.4217391304347826, '834': 0.1565217391304348, '837': 0.0, '838': 0.004347826086956522, '839': 0.004347826086956522, '842': 0.7260869565217392, '854': 0.021739130434782608, '858': 0.26956521739130435, '860': 0.043478260869565216, '862': 0.021739130434782608, '876': 0.0, '882': 0.0, '887': 0.008695652173913044, '894': 0.021739130434782608, '899': 0.08260869565217391}\n",
            "231\n"
          ]
        }
      ]
    },
    {
      "cell_type": "code",
      "source": [
        "# @title closeness centrality\n",
        "closeness_centrality = nx.closeness_centrality(G)\n",
        "print('Closeness Centrality of graph:\\n')\n",
        "print(closeness_centrality)\n",
        "print(len(closeness_centrality))"
      ],
      "metadata": {
        "colab": {
          "base_uri": "https://localhost:8080/"
        },
        "id": "zQcYrLMvWfXe",
        "outputId": "95ef8de3-a986-4387-bdbb-3fb3b31807e4"
      },
      "execution_count": 28,
      "outputs": [
        {
          "output_type": "stream",
          "name": "stdout",
          "text": [
            "Closeness Centrality of graph:\n",
            "\n",
            "{'004': 0.3158276125095347, '008': 0.3636802810715854, '010': 0.307831602169317, '012': 0.3280578389620679, '016': 0.29415019762845845, '020': 0.3310744627686157, '024': 0.39029103334511606, '028': 0.3776760097108806, '031': 0.37504528985507246, '032': 0.35126193001060446, '036': 0.41865520728008093, '040': 0.4223383909218411, '044': 0.3881870385561936, '048': 0.4162352349836642, '050': 0.3243634939287113, '051': 0.37117884356790676, '052': 0.3683309240520405, '056': 0.460119461036255, '060': 0.35736325385694245, '064': 0.27121919266355526, '068': 0.3341470795924544, '070': 0.37022465630937745, '072': 0.35212076113532476, '076': 0.35212076113532476, '084': 0.346195652173913, '086': 0.302083709182753, '090': 0.27681434947925276, '092': 0.33648923201950426, '096': 0.3529838022165388, '100': 0.3945681953543776, '104': 0.3137633797480345, '108': 0.37799840237361637, '112': 0.3097148200093502, '116': 0.3437169243540521, '120': 0.36927536231884056, '124': 0.49321024419297205, '132': 0.37117884356790676, '136': 0.35385108428586687, '140': 0.36040680154972016, '144': 0.38200899550224887, '148': 0.3221335128895729, '152': 0.3871435250116877, '156': 0.37799840237361637, '170': 0.36460099064391854, '174': 0.3401970743600162, '178': 0.37022465630937745, '180': 0.3892361927144536, '184': 0.30979648473635524, '188': 0.3453654467730164, '191': 0.3789931350114416, '192': 0.36927536231884056, '196': 0.4150357098108006, '203': 0.41147826086956524, '204': 0.392417959957351, '208': 0.4223383909218411, '212': 0.32075142829476133, '214': 0.3529838022165388, '218': 0.3303151176705225, '222': 0.3600434782608696, '226': 0.35385108428586687, '231': 0.3789931350114416, '232': 0.33016858917480035, '233': 0.4079812784825717, '234': 0.30083542939274166, '238': 0.2977594025073353, '242': 0.3453654467730164, '246': 0.4223383909218411, '251': 0.47846309403437814, '258': 0.3841803372719972, '262': 0.33472263868065966, '266': 0.3331907272908168, '268': 0.3830249768732655, '270': 0.36460099064391854, '275': 0.3655263738689031, '276': 0.45575123830489817, '288': 0.4543135372376903, '292': 0.3286779860634017, '296': 0.2894718644653816, '300': 0.41030595813204507, '304': 0.31380247376311843, '308': 0.3564786913473956, '316': 0.27749015665577614, '320': 0.3664564664232769, '324': 0.35825221717499456, '328': 0.3478680949380382, '332': 0.3529838022165388, '336': 0.0, '340': 0.33570487483530964, '344': 0.392417959957351, '348': 0.3945681953543776, '352': 0.3945681953543776, '360': 0.36094584286803966, '364': 0.31721892357785864, '368': 0.36276420983462926, '372': 0.4586541124342287, '376': 0.3978380975258228, '380': 0.4324846585716151, '384': 0.38200899550224887, '388': 0.3547226386806597, '392': 0.3830249768732655, '398': 0.37213796202673854, '400': 0.3840463768115942, '404': 0.3892361927144536, '408': 0.258163737280296, '410': 0.37999311689801535, '414': 0.39674212480536586, '417': 0.3341470795924544, '418': 0.3326036750677779, '422': 0.39894014211730694, '426': 0.28688723367399965, '428': 0.39135160680529296, '430': 0.35825221717499456, '434': 0.3445392136467651, '440': 0.3830249768732655, '442': 0.4273513095084505, '446': 0.3789931350114416, '450': 0.37213796202673854, '454': 0.36185274197072315, '458': 0.3673913043478261, '462': 0.41384307846076956, '466': 0.36094584286803966, '470': 0.39349014017581374, '473': 0.2647351778656126, '478': 0.3673913043478261, '480': 0.38507323878167865, '484': 0.3478680949380382, '490': 0.36094584286803966, '496': 0.36927536231884056, '498': 0.39349014017581374, '499': 0.3830249768732655, '500': 0.3242858526193473, '504': 0.3789931350114416, '508': 0.37700887776007286, '512': 0.3840463768115942, '516': 0.3840463768115942, '520': 0.2706400517213512, '524': 0.36094584286803966, '527': 0.2647351778656126, '528': 0.48490704142878055, '531': 0.35736325385694245, '533': 0.35040727811276845, '534': 0.34917109790428524, '535': 0.3033423913043478, '540': 0.3243634939287113, '548': 0.3286779860634017, '554': 0.40228321593393246, '558': 0.3288068294619813, '562': 0.3683309240520405, '566': 0.392417959957351, '568': 0.3137633797480345, '570': 0.2706400517213512, '574': 0.2691392750944306, '579': 0.4260869565217391, '580': 0.29004850164559154, '583': 0.30718216840946616, '584': 0.33337359098228664, '585': 0.31653119092627596, '586': 0.37504528985507246, '591': 0.37117884356790676, '598': 0.29594379639448565, '600': 0.3349241658240647, '604': 0.35736325385694245, '608': 0.37799840237361637, '612': 0.0, '616': 0.4260869565217391, '620': 0.41987577639751555, '624': 0.3478680949380382, '626': 0.3542684861948588, '634': 0.40004830917874395, '642': 0.392417959957351, '643': 0.37117884356790676, '646': 0.38507323878167865, '652': 0.27681434947925276, '654': 0.2827268889826931, '659': 0.3124556820302295, '660': 0.32000955566172956, '662': 0.3288068294619813, '666': 0.3243634939287113, '670': 0.3309189723320158, '678': 0.3517013232514178, '682': 0.39029103334511606, '686': 0.40004830917874395, '688': 0.3840463768115942, '690': 0.39894014211730694, '694': 0.36460099064391854, '699': 0.41030595813204507, '702': 0.4150357098108006, '703': 0.4150357098108006, '704': 0.3564786913473956, '705': 0.40228321593393246, '706': 0.361301111230985, '710': 0.433787323205867, '716': 0.37799840237361637, '724': 0.433787323205867, '728': 0.3264671475921232, '729': 0.3525529003052953, '740': 0.35040727811276845, '748': 0.28518295307791647, '752': 0.412657281674349, '757': 0.4364163372859025, '760': 0.33337359098228664, '762': 0.34208406485593307, '764': 0.41030595813204507, '768': 0.37117884356790676, '776': 0.2773416149068323, '780': 0.35736325385694245, '784': 0.44449812130971555, '788': 0.34702985856469354, '792': 0.4211034833460463, '795': 0.3103823088455772, '796': 0.32720078163165606, '798': 0.2971517302573203, '800': 0.3591456142253063, '804': 0.4091403162055336, '807': 0.33727726300784033, '818': 0.3760245203768873, '826': 0.4660757000140706, '834': 0.3760245203768873, '837': 0.344218316373728, '838': 0.2681888106226216, '839': 0.3044765143855134, '842': 0.48166351606805297, '854': 0.3600434782608696, '858': 0.3478680949380382, '860': 0.35736325385694245, '862': 0.341273439109829, '876': 0.31516092603049123, '882': 0.2773416149068323, '887': 0.3310744627686157, '894': 0.37799840237361637, '899': 0.36460099064391854}\n",
            "231\n"
          ]
        }
      ]
    },
    {
      "cell_type": "code",
      "source": [
        "# @title betweenness centrality\n",
        "betweenness_centrality = nx.betweenness_centrality(G)\n",
        "print('betweenness Centrality of graph:\\n')\n",
        "print(betweenness_centrality)\n",
        "print(len(betweenness_centrality))"
      ],
      "metadata": {
        "colab": {
          "base_uri": "https://localhost:8080/"
        },
        "id": "jM3kJMOUdd0t",
        "outputId": "b49b881a-cd77-4bbb-be6c-c1b4c7fe7db3"
      },
      "execution_count": 29,
      "outputs": [
        {
          "output_type": "stream",
          "name": "stdout",
          "text": [
            "betweenness Centrality of graph:\n",
            "\n",
            "{'004': 2.5180882025385542e-05, '008': 4.488893732146653e-05, '010': 0.0, '012': 6.546944868177265e-07, '016': 0.0, '020': 1.40332291220245e-05, '024': 0.005604964716311732, '028': 0.0, '031': 0.0004234112207024667, '032': 0.00038481804551487327, '036': 0.011598158292800215, '040': 0.006940788082078035, '044': 0.004459661186267964, '048': 0.002761738207039685, '050': 0.00011247017437795606, '051': 0.00038941176583354143, '052': 0.0002713450286700709, '056': 0.0269077508752763, '060': 0.0, '064': 0.0, '068': 4.562878593129226e-05, '070': 0.00011616653853068421, '072': 0.001979864178431878, '076': 0.005701517135342231, '084': 4.7762690932344204e-05, '086': 0.0, '090': 0.0, '092': 0.00011965278700487368, '096': 6.683421625793394e-05, '100': 0.0024921202340773786, '104': 0.00034103825676124724, '108': 9.468525582197386e-06, '112': 3.1144373360762297e-06, '116': 0.0013963310791901995, '120': 0.0001890803274554301, '124': 0.04795380815230758, '132': 3.640256859217023e-05, '136': 3.788794893226228e-05, '140': 0.0, '144': 0.011973759306482012, '148': 0.0, '152': 0.0008053733742561699, '156': 0.018946392462872275, '170': 0.0011500776778432572, '174': 0.0, '178': 1.6098498446274277e-05, '180': 0.006640990665955551, '184': 0.0, '188': 0.0005846045311697921, '191': 0.0001509831256365732, '192': 6.196999140716402e-05, '196': 0.00152142828394737, '203': 0.009062790806348376, '204': 0.002622139457500033, '208': 0.005685482587457174, '212': 1.5821783431428392e-06, '214': 0.00037922049644052784, '218': 3.451617543975284e-05, '222': 0.0003453744574178161, '226': 3.808593028026359e-05, '231': 0.00035732804915558793, '232': 0.0, '233': 0.0004307343563637916, '234': 0.0, '238': 0.0, '242': 0.0035426362014343384, '246': 0.0063766562404592424, '251': 0.05469381773155672, '258': 0.0, '262': 0.0, '266': 0.0, '268': 0.000296638552647084, '270': 3.5370407378405e-05, '275': 1.5805377999005518e-05, '276': 0.024982666383177032, '288': 0.02308832448547716, '292': 0.0, '296': 0.0, '300': 0.003132567613352082, '304': 0.0, '308': 9.779018302262486e-05, '316': 0.0, '320': 0.004568243832906607, '324': 3.4559852892470087e-06, '328': 0.000988870890473552, '332': 1.519367052527845e-05, '336': 0.0, '340': 0.00016999249718686058, '344': 0.012204863771235704, '348': 0.0005891756651855108, '352': 0.0011992712345334621, '360': 0.0010885045691169024, '364': 0.00019519926335533785, '368': 0.00021602622305356062, '372': 0.00813717412890477, '376': 0.0022513644073251355, '380': 0.03614259256062122, '384': 0.0008308413013093319, '388': 0.004670391614620027, '392': 0.006377039231949479, '398': 0.0025806120474161673, '400': 0.004689592559219589, '404': 0.0041084801082088285, '408': 0.0, '410': 0.008122215177376992, '414': 0.0003159813474059339, '417': 0.00020070854176547852, '418': 1.8378856126611477e-05, '422': 0.0038169649414991126, '426': 0.0, '428': 0.0001920073126315091, '430': 4.1400333312237624e-06, '434': 1.1877101134296325e-05, '440': 0.0007325503214777989, '442': 0.0053051057063197415, '446': 6.883359956866297e-05, '450': 0.0001932610980845449, '454': 0.000998455585182064, '458': 0.0007816541076546456, '462': 0.00034784453702706847, '466': 0.00018503617802452245, '470': 0.00023733560366795092, '473': 0.0, '478': 5.207968207011704e-05, '480': 0.0008470909982739123, '484': 0.00013030703555143687, '490': 0.0022977552108290936, '496': 5.154091339877164e-05, '498': 0.0003528884736448476, '499': 0.000231577368705451, '500': 0.0, '504': 0.00031814270331194963, '508': 0.0006610257200932811, '512': 0.00480961220060719, '516': 0.0011749094610426312, '520': 0.0, '524': 0.0010382040292672397, '527': 0.0, '528': 0.04774629254909064, '531': 0.000307874335183641, '533': 8.360765475899701e-05, '534': 4.704371965016048e-06, '535': 0.0, '540': 4.724867015938931e-05, '548': 0.0, '554': 0.021266833294394983, '558': 0.00015714023241375746, '562': 6.214475435852119e-05, '566': 0.0010074627475768064, '568': 0.0, '570': 0.0, '574': 0.0, '579': 0.0024993491697282134, '580': 0.0, '583': 0.0, '584': 8.450206894326852e-05, '585': 0.0, '586': 0.011571044244862796, '591': 0.005308346884638311, '598': 0.0, '600': 0.000477588686702975, '604': 0.0005102719812968441, '608': 0.0007111293448125648, '612': 0.0, '616': 0.006471497127860454, '620': 0.018187960996319155, '624': 5.908503387629914e-05, '626': 0.0, '634': 0.00035413270122757964, '642': 0.001458924515630525, '643': 0.004423068137389233, '646': 0.00047918481840836426, '652': 0.0, '654': 0.0, '659': 0.0, '660': 0.0, '662': 7.45450105856079e-05, '666': 0.0, '670': 0.0, '678': 0.0, '682': 0.0006078212650402571, '686': 0.005024856308422725, '688': 0.0006133283212110957, '690': 7.44988463005525e-05, '694': 1.9727364896641328e-05, '699': 0.0484716861974041, '702': 0.005761787906811322, '703': 0.005299103100613238, '704': 0.003221400027042369, '705': 0.0040191198397636204, '706': 0.0, '710': 0.04395036628344226, '716': 0.004597911922978474, '724': 0.024972938828842894, '728': 0.0, '729': 0.0, '740': 0.0003275404347945637, '748': 0.0, '752': 0.0030528792306104245, '757': 0.00450521174818863, '760': 1.0440412320651561e-05, '762': 5.150240225691587e-05, '764': 0.029182424638811377, '768': 0.00043670149301825513, '776': 0.0, '780': 0.0017269690917036114, '784': 0.032832181005941465, '788': 4.0032862278327305e-05, '792': 0.040106659632443274, '795': 1.841328244174856e-06, '796': 0.0, '798': 0.0, '800': 0.0003628437695788454, '804': 0.006342081739601104, '807': 0.00010708541244317607, '818': 0.0009196658462629835, '826': 0.028370312816339983, '834': 0.002939043247063987, '837': 0.0, '838': 9.249200464613212e-06, '839': 0.0, '842': 0.1157860280881208, '854': 7.853801803921221e-05, '858': 0.001327432600873854, '860': 0.00108767704792044, '862': 6.665559954152314e-05, '876': 0.0, '882': 0.0, '887': 2.343717055468063e-05, '894': 0.00037764916722811886, '899': 0.011686015030802263}\n",
            "231\n"
          ]
        }
      ]
    },
    {
      "cell_type": "markdown",
      "source": [
        "#K-Core"
      ],
      "metadata": {
        "id": "BwuNsOU9ms7H"
      }
    },
    {
      "cell_type": "code",
      "source": [
        "k_core = nx.k_core(G)\n",
        "print(k_core)"
      ],
      "metadata": {
        "colab": {
          "base_uri": "https://localhost:8080/"
        },
        "id": "PvYWO6tFmwT3",
        "outputId": "fac93b6d-a6fe-4ba8-8bab-092319dcd2b3"
      },
      "execution_count": 30,
      "outputs": [
        {
          "output_type": "stream",
          "name": "stdout",
          "text": [
            "DiGraph with 42 nodes and 1181 edges\n"
          ]
        }
      ]
    },
    {
      "cell_type": "markdown",
      "source": [
        "# Modularity - Community Detection"
      ],
      "metadata": {
        "id": "BXtX_IuDjOBh"
      }
    },
    {
      "cell_type": "code",
      "source": [
        "#Greedy approach\n",
        "greedy_comm = list(nx_comm.greedy_modularity_communities(G, weight='final_trade_quantity'))\n",
        "print('Number of communities detected:', len(greedy_comm))"
      ],
      "metadata": {
        "colab": {
          "base_uri": "https://localhost:8080/"
        },
        "id": "L1Wd3A9GjXV4",
        "outputId": "68a47b63-8b12-4d0f-9c0b-d286de3d17d9"
      },
      "execution_count": 31,
      "outputs": [
        {
          "output_type": "stream",
          "name": "stdout",
          "text": [
            "Number of communities detected: 4\n"
          ]
        }
      ]
    },
    {
      "cell_type": "code",
      "source": [
        "print(greedy_comm[3])\n",
        "print(len(greedy_comm[3]))"
      ],
      "metadata": {
        "colab": {
          "base_uri": "https://localhost:8080/"
        },
        "id": "lM4BdziLsVBk",
        "outputId": "d44e84a1-d876-4905-e614-bac98e77bd2f"
      },
      "execution_count": 32,
      "outputs": [
        {
          "output_type": "stream",
          "name": "stdout",
          "text": [
            "frozenset({'678', '788', '148', '270', '336', '466', '686', '226', '666', '251', '020', '540', '418', '694', '132'})\n",
            "15\n"
          ]
        }
      ]
    },
    {
      "cell_type": "code",
      "source": [
        "dfs = [[] for i in range(len(greedy_comm))]\n",
        "for i in range(len(greedy_comm)):\n",
        "    dfs[i] = pd.DataFrame({'Country' : list(greedy_comm[i]), 'Greedy Comm.' : ('Comm. ' + str(i+1))})\n",
        "\n",
        "greedy_df = pd.concat(dfs)\n",
        "\n",
        "greedy_df['country'] = greedy_df.Country.map(country_codes)\n",
        "\n",
        "#print(greedy_df)\n",
        "#print(nodes_tab)"
      ],
      "metadata": {
        "id": "YoJRl67EtKx4"
      },
      "execution_count": 51,
      "outputs": []
    },
    {
      "cell_type": "code",
      "source": [
        "greedy_df.rename(columns={'Country':'CCode'}, inplace=True)"
      ],
      "metadata": {
        "id": "K4-K96S7Nbip"
      },
      "execution_count": 55,
      "outputs": []
    },
    {
      "cell_type": "code",
      "source": [
        "greedy_df['ISO'] = greedy_df.CCode.map(iso_map)"
      ],
      "metadata": {
        "id": "3iz66UP1cux4"
      },
      "execution_count": 68,
      "outputs": []
    },
    {
      "cell_type": "code",
      "source": [
        "display(greedy_df[greedy_df['ISO']=='NaN'])"
      ],
      "metadata": {
        "colab": {
          "base_uri": "https://localhost:8080/",
          "height": 53
        },
        "id": "molaBVe1gZOq",
        "outputId": "ab30b7d0-b3d6-4b8d-8ccc-0a352076ecaa"
      },
      "execution_count": 72,
      "outputs": [
        {
          "output_type": "display_data",
          "data": {
            "text/plain": [
              "Empty DataFrame\n",
              "Columns: [CCode, Greedy Comm., country, ISO]\n",
              "Index: []"
            ],
            "text/html": [
              "\n",
              "  <div id=\"df-abc7bb2b-7dba-49df-a2e5-8977768d5b55\" class=\"colab-df-container\">\n",
              "    <div>\n",
              "<style scoped>\n",
              "    .dataframe tbody tr th:only-of-type {\n",
              "        vertical-align: middle;\n",
              "    }\n",
              "\n",
              "    .dataframe tbody tr th {\n",
              "        vertical-align: top;\n",
              "    }\n",
              "\n",
              "    .dataframe thead th {\n",
              "        text-align: right;\n",
              "    }\n",
              "</style>\n",
              "<table border=\"1\" class=\"dataframe\">\n",
              "  <thead>\n",
              "    <tr style=\"text-align: right;\">\n",
              "      <th></th>\n",
              "      <th>CCode</th>\n",
              "      <th>Greedy Comm.</th>\n",
              "      <th>country</th>\n",
              "      <th>ISO</th>\n",
              "    </tr>\n",
              "  </thead>\n",
              "  <tbody>\n",
              "  </tbody>\n",
              "</table>\n",
              "</div>\n",
              "    <div class=\"colab-df-buttons\">\n",
              "\n",
              "  <div class=\"colab-df-container\">\n",
              "    <button class=\"colab-df-convert\" onclick=\"convertToInteractive('df-abc7bb2b-7dba-49df-a2e5-8977768d5b55')\"\n",
              "            title=\"Convert this dataframe to an interactive table.\"\n",
              "            style=\"display:none;\">\n",
              "\n",
              "  <svg xmlns=\"http://www.w3.org/2000/svg\" height=\"24px\" viewBox=\"0 -960 960 960\">\n",
              "    <path d=\"M120-120v-720h720v720H120Zm60-500h600v-160H180v160Zm220 220h160v-160H400v160Zm0 220h160v-160H400v160ZM180-400h160v-160H180v160Zm440 0h160v-160H620v160ZM180-180h160v-160H180v160Zm440 0h160v-160H620v160Z\"/>\n",
              "  </svg>\n",
              "    </button>\n",
              "\n",
              "  <style>\n",
              "    .colab-df-container {\n",
              "      display:flex;\n",
              "      gap: 12px;\n",
              "    }\n",
              "\n",
              "    .colab-df-convert {\n",
              "      background-color: #E8F0FE;\n",
              "      border: none;\n",
              "      border-radius: 50%;\n",
              "      cursor: pointer;\n",
              "      display: none;\n",
              "      fill: #1967D2;\n",
              "      height: 32px;\n",
              "      padding: 0 0 0 0;\n",
              "      width: 32px;\n",
              "    }\n",
              "\n",
              "    .colab-df-convert:hover {\n",
              "      background-color: #E2EBFA;\n",
              "      box-shadow: 0px 1px 2px rgba(60, 64, 67, 0.3), 0px 1px 3px 1px rgba(60, 64, 67, 0.15);\n",
              "      fill: #174EA6;\n",
              "    }\n",
              "\n",
              "    .colab-df-buttons div {\n",
              "      margin-bottom: 4px;\n",
              "    }\n",
              "\n",
              "    [theme=dark] .colab-df-convert {\n",
              "      background-color: #3B4455;\n",
              "      fill: #D2E3FC;\n",
              "    }\n",
              "\n",
              "    [theme=dark] .colab-df-convert:hover {\n",
              "      background-color: #434B5C;\n",
              "      box-shadow: 0px 1px 3px 1px rgba(0, 0, 0, 0.15);\n",
              "      filter: drop-shadow(0px 1px 2px rgba(0, 0, 0, 0.3));\n",
              "      fill: #FFFFFF;\n",
              "    }\n",
              "  </style>\n",
              "\n",
              "    <script>\n",
              "      const buttonEl =\n",
              "        document.querySelector('#df-abc7bb2b-7dba-49df-a2e5-8977768d5b55 button.colab-df-convert');\n",
              "      buttonEl.style.display =\n",
              "        google.colab.kernel.accessAllowed ? 'block' : 'none';\n",
              "\n",
              "      async function convertToInteractive(key) {\n",
              "        const element = document.querySelector('#df-abc7bb2b-7dba-49df-a2e5-8977768d5b55');\n",
              "        const dataTable =\n",
              "          await google.colab.kernel.invokeFunction('convertToInteractive',\n",
              "                                                    [key], {});\n",
              "        if (!dataTable) return;\n",
              "\n",
              "        const docLinkHtml = 'Like what you see? Visit the ' +\n",
              "          '<a target=\"_blank\" href=https://colab.research.google.com/notebooks/data_table.ipynb>data table notebook</a>'\n",
              "          + ' to learn more about interactive tables.';\n",
              "        element.innerHTML = '';\n",
              "        dataTable['output_type'] = 'display_data';\n",
              "        await google.colab.output.renderOutput(dataTable, element);\n",
              "        const docLink = document.createElement('div');\n",
              "        docLink.innerHTML = docLinkHtml;\n",
              "        element.appendChild(docLink);\n",
              "      }\n",
              "    </script>\n",
              "  </div>\n",
              "\n",
              "\n",
              "    </div>\n",
              "  </div>\n"
            ],
            "application/vnd.google.colaboratory.intrinsic+json": {
              "type": "dataframe",
              "repr_error": "Out of range float values are not JSON compliant: nan"
            }
          },
          "metadata": {}
        }
      ]
    },
    {
      "cell_type": "code",
      "source": [
        "fig = px.choropleth(greedy_df, locations=\"ISO\", color=\"Greedy Comm.\", color_discrete_sequence=px.colors.qualitative.T10)\n",
        "#fig.show()"
      ],
      "metadata": {
        "id": "UqnF2e8TLGlN"
      },
      "execution_count": 73,
      "outputs": []
    },
    {
      "cell_type": "code",
      "source": [
        "'''fig, ax = plt.subplots(figsize=(12,8), dpi=300)\n",
        "sns.countplot(x='Greedy Comm.', data=greedy_df, ax=ax)\n",
        "ax.set_xlabel('')\n",
        "ax.bar_label(ax.containers[0])\n",
        "#plt.show()'''"
      ],
      "metadata": {
        "colab": {
          "base_uri": "https://localhost:8080/",
          "height": 36
        },
        "id": "-BwK-Xe7tOuF",
        "outputId": "095f95a1-0ca8-4546-f9e8-352953ac1f24"
      },
      "execution_count": 40,
      "outputs": [
        {
          "output_type": "execute_result",
          "data": {
            "text/plain": [
              "\"fig, ax = plt.subplots(figsize=(12,8), dpi=300)\\nsns.countplot(x='Greedy Comm.', data=greedy_df, ax=ax)\\nax.set_xlabel('')\\nax.bar_label(ax.containers[0])\\n#plt.show()\""
            ],
            "application/vnd.google.colaboratory.intrinsic+json": {
              "type": "string"
            }
          },
          "metadata": {},
          "execution_count": 40
        }
      ]
    },
    {
      "cell_type": "code",
      "source": [
        "#In-degree\n",
        "w_in_degree[list(greedy_comm[3])].sort_values(ascending=False).head()"
      ],
      "metadata": {
        "colab": {
          "base_uri": "https://localhost:8080/",
          "height": 158
        },
        "id": "HZUehr8kuRUc",
        "outputId": "4c09a6dc-d0ad-4517-f24f-b1d410d59fba"
      },
      "execution_count": 35,
      "outputs": [
        {
          "output_type": "error",
          "ename": "NameError",
          "evalue": "name 'w_in_degree' is not defined",
          "traceback": [
            "\u001b[0;31m---------------------------------------------------------------------------\u001b[0m",
            "\u001b[0;31mNameError\u001b[0m                                 Traceback (most recent call last)",
            "\u001b[0;32m<ipython-input-35-b3b45f8ce87b>\u001b[0m in \u001b[0;36m<cell line: 2>\u001b[0;34m()\u001b[0m\n\u001b[1;32m      1\u001b[0m \u001b[0;31m#In-degree\u001b[0m\u001b[0;34m\u001b[0m\u001b[0;34m\u001b[0m\u001b[0m\n\u001b[0;32m----> 2\u001b[0;31m \u001b[0mw_in_degree\u001b[0m\u001b[0;34m[\u001b[0m\u001b[0mlist\u001b[0m\u001b[0;34m(\u001b[0m\u001b[0mgreedy_comm\u001b[0m\u001b[0;34m[\u001b[0m\u001b[0;36m3\u001b[0m\u001b[0;34m]\u001b[0m\u001b[0;34m)\u001b[0m\u001b[0;34m]\u001b[0m\u001b[0;34m.\u001b[0m\u001b[0msort_values\u001b[0m\u001b[0;34m(\u001b[0m\u001b[0mascending\u001b[0m\u001b[0;34m=\u001b[0m\u001b[0;32mFalse\u001b[0m\u001b[0;34m)\u001b[0m\u001b[0;34m.\u001b[0m\u001b[0mhead\u001b[0m\u001b[0;34m(\u001b[0m\u001b[0;34m)\u001b[0m\u001b[0;34m\u001b[0m\u001b[0;34m\u001b[0m\u001b[0m\n\u001b[0m",
            "\u001b[0;31mNameError\u001b[0m: name 'w_in_degree' is not defined"
          ]
        }
      ]
    },
    {
      "cell_type": "code",
      "source": [
        "#Out-degree\n",
        "w_out_degree[list(greedy_comm[3])].sort_values(ascending=False).head()"
      ],
      "metadata": {
        "id": "0Ff9GIEfubHi"
      },
      "execution_count": null,
      "outputs": []
    },
    {
      "cell_type": "markdown",
      "source": [
        "#Small World Analysis\n",
        "##Clustering Coefficient\n",
        "##Average clustering Coefficient\n",
        "##Average Path length"
      ],
      "metadata": {
        "id": "RBqyZjaqjXxA"
      }
    },
    {
      "cell_type": "code",
      "source": [
        "# @title clustering co-efficient\n",
        "\n",
        "clustering_coeff = nx.clustering(G, weight = 'final_trade_quantity')\n",
        "print(clustering_coeff)"
      ],
      "metadata": {
        "colab": {
          "base_uri": "https://localhost:8080/"
        },
        "id": "Qf2Tn3mLjdcx",
        "outputId": "e8d4df3e-5609-451d-c123-63e53536fdeb"
      },
      "execution_count": 74,
      "outputs": [
        {
          "output_type": "stream",
          "name": "stdout",
          "text": [
            "{'004': 0.5555555555555556, '008': 0.6931216931216931, '010': 1.0, '012': 0.7803030303030303, '016': 0.4, '020': 0.7428571428571429, '024': 0.4746192893401015, '028': 0.45670995670995673, '031': 0.5672451193058569, '032': 0.5129259694477086, '036': 0.4179981203007519, '040': 0.441265385445908, '044': 0.4328571428571429, '048': 0.45986177565124936, '050': 0.5594262295081968, '051': 0.665938864628821, '052': 0.5723684210526315, '056': 0.2966781708369284, '060': 0.8863636363636364, '064': 0.7, '068': 0.6347826086956522, '070': 0.670487106017192, '072': 0.6240601503759399, '076': 0.24367643375907838, '084': 0.5909090909090909, '086': 0, '090': 0.5, '092': 0.3392857142857143, '096': 0.6985294117647058, '100': 0.493942731277533, '104': 0.3953488372093023, '108': 0.7581699346405228, '112': 0.5952380952380952, '116': 0.3665952317171176, '120': 0.6904761904761905, '124': 0.2590408421873477, '132': 0.7433862433862434, '136': 0.6666666666666666, '140': 0.7575757575757576, '144': 0.45252679938744256, '148': 0.8333333333333334, '152': 0.5629742033383915, '156': 0.19753826620582635, '170': 0.4381443298969072, '174': 0.6666666666666666, '178': 0.7046783625730995, '180': 0.525, '184': 0.43333333333333335, '188': 0.45308310991957107, '191': 0.6487119437939111, '192': 0.5163398692810458, '196': 0.5879590093936806, '203': 0.5223143130379343, '204': 0.5478142076502732, '208': 0.4966830466830467, '212': 0.5, '214': 0.5091575091575091, '218': 0.5366300366300366, '222': 0.562753036437247, '226': 0.5769230769230769, '231': 0.5775862068965517, '232': 0.8, '233': 0.6155427631578947, '234': 0.5833333333333334, '238': 0.5, '242': 0.3101851851851852, '246': 0.5172064777327935, '251': 0.2517786561264822, '258': 0.6996047430830039, '262': 0.75, '266': 0.8392857142857143, '268': 0.6214285714285714, '270': 0.7407407407407407, '275': 0.6131386861313869, '276': 0.32450604762977986, '288': 0.38093832989082327, '292': 0.8666666666666667, '296': 0.65, '300': 0.46744089589382, '304': 0.75, '308': 0.42857142857142855, '316': 0.6666666666666666, '320': 0.49625935162094764, '324': 0.7444444444444445, '328': 0.3682140047206924, '332': 0.6709401709401709, '336': 0, '340': 0.6136363636363636, '344': 0.5164353542731921, '348': 0.6393483709273183, '352': 0.4902439024390244, '360': 0.4269394261424017, '364': 0.48354792560801146, '368': 0.6939252336448598, '372': 0.47521613832853027, '376': 0.6084384858044164, '380': 0.2436905679773837, '384': 0.48717948717948717, '388': 0.39037433155080214, '392': 0.34703723837999456, '398': 0.4323062558356676, '400': 0.5378600823045268, '404': 0.4330587023686921, '408': 0, '410': 0.338092971600825, '414': 0.6237161531279178, '417': 0.55, '418': 0.8013100436681223, '422': 0.3676658980271586, '426': 0.5, '428': 0.7241689128481581, '430': 0.5462184873949579, '434': 0.7961165048543689, '440': 0.6138519924098672, '442': 0.5090377458798512, '446': 0.6328571428571429, '450': 0.6996336996336996, '454': 0.5813953488372093, '458': 0.5249776984834968, '462': 0.49564796905222436, '466': 0.680921052631579, '470': 0.6417910447761194, '473': 0, '478': 0.6470588235294118, '480': 0.6206896551724138, '484': 0.5750577367205543, '490': 0.40374220374220376, '496': 0.6992031872509961, '498': 0.5672371638141809, '499': 0.5855513307984791, '500': 0.3, '504': 0.6275303643724697, '508': 0.5260638297872341, '512': 0.504418762746431, '516': 0.42190305206463197, '520': 1.0, '524': 0.5641025641025641, '527': 0, '528': 0.2630073305918112, '531': 0.47928994082840237, '533': 0.5394736842105263, '534': 0.8392857142857143, '535': 0, '540': 0.7142857142857143, '548': 0.6428571428571429, '554': 0.27997489014438165, '558': 0.536144578313253, '562': 0.5734126984126984, '566': 0.5940721649484536, '568': 0.8125, '570': 1.0, '574': 0, '579': 0.5087427144046628, '580': 0.8, '583': 1.0, '584': 0.5648148148148148, '585': 1.0, '586': 0.22866964877402254, '591': 0.3354203935599284, '598': 0.7142857142857143, '600': 0.46205357142857145, '604': 0.4849162011173184, '608': 0.5707748627211714, '612': 0, '616': 0.4523943661971831, '620': 0.3248194704466435, '624': 0.8, '626': 0.7692307692307693, '634': 0.5630105017502918, '642': 0.6133333333333333, '643': 0.43675, '646': 0.5511627906976744, '652': 0, '654': 0, '659': 0.6666666666666666, '660': 1.0, '662': 0.5238095238095238, '666': 1.0, '670': 0.6666666666666666, '678': 0.6648351648351648, '682': 0.5521813515825492, '686': 0.48592411260709917, '688': 0.6118266978922716, '690': 0.6396761133603239, '694': 0.5236842105263158, '699': 0.18850261503977497, '702': 0.4441386901485966, '703': 0.5541647701411015, '704': 0.29271139985788247, '705': 0.5788514129443938, '706': 0.8333333333333334, '710': 0.3081454397724964, '716': 0.5218253968253969, '724': 0.2850007239032865, '728': 0.9166666666666666, '729': 0.7051282051282052, '740': 0.4900398406374502, '748': 1.0, '752': 0.4602987421383648, '757': 0.42210229938995775, '760': 0.6373626373626373, '762': 0.6116504854368932, '764': 0.21000302053966977, '768': 0.548723897911833, '776': 0.6666666666666666, '780': 0.37375, '784': 0.2648079501537976, '788': 0.6698564593301436, '792': 0.23608529250956806, '795': 0.75, '796': 1.0, '798': 0.5, '800': 0.5549132947976878, '804': 0.443127147766323, '807': 0.5693877551020409, '818': 0.4846715328467153, '826': 0.3008130081300813, '834': 0.44848293299620734, '837': 0.5138888888888888, '838': 0.3333333333333333, '839': 0.5, '842': 0.17819854024154747, '854': 0.5873362445414847, '858': 0.3414290742696234, '860': 0.5641025641025641, '862': 0.5411764705882353, '876': 0.6, '882': 0.6666666666666666, '887': 0.7962962962962963, '894': 0.4287257019438445, '899': 0.28678474114441416}\n"
          ]
        }
      ]
    },
    {
      "cell_type": "code",
      "source": [
        "# @title average clustering\n",
        "\n",
        "avg_cluster = nx.average_clustering(G, weight = 'final_trade_quantity')"
      ],
      "metadata": {
        "id": "UnNaPIL9nKnm"
      },
      "execution_count": 75,
      "outputs": []
    },
    {
      "cell_type": "code",
      "source": [
        "print(avg_cluster)"
      ],
      "metadata": {
        "colab": {
          "base_uri": "https://localhost:8080/"
        },
        "id": "Nhk7z6iKnpjz",
        "outputId": "71f24b83-6491-4ba9-8ab3-3c482b7b840b"
      },
      "execution_count": 76,
      "outputs": [
        {
          "output_type": "stream",
          "name": "stdout",
          "text": [
            "0.536968021445557\n"
          ]
        }
      ]
    },
    {
      "cell_type": "code",
      "source": [
        "# @title avg path length\n",
        "#avg_path_length = nx.average_shortest_path_length(G, weight = 'final_trade_quantity') # not well connected graph"
      ],
      "metadata": {
        "id": "JYPAGRoAntaP"
      },
      "execution_count": 85,
      "outputs": []
    },
    {
      "cell_type": "code",
      "source": [],
      "metadata": {
        "id": "P-HnM5V9pZyA"
      },
      "execution_count": null,
      "outputs": []
    },
    {
      "cell_type": "markdown",
      "source": [
        "#Bonacich Power"
      ],
      "metadata": {
        "id": "TBrMKiP0lf1y"
      }
    },
    {
      "cell_type": "code",
      "source": [
        "# @title Adjacency Matrix of Graph as a numpy array\n",
        "\n",
        "A = nx.to_numpy_array(G, weight= 'final_trade_quantity')"
      ],
      "metadata": {
        "colab": {
          "base_uri": "https://localhost:8080/"
        },
        "id": "CmwoaHo3ljO2",
        "outputId": "c7252f4c-ed76-42a5-9077-42d07f7f7458"
      },
      "execution_count": 86,
      "outputs": [
        {
          "output_type": "stream",
          "name": "stdout",
          "text": [
            "[[0. 0. 0. ... 0. 0. 0.]\n",
            " [0. 0. 0. ... 0. 0. 0.]\n",
            " [0. 0. 0. ... 0. 0. 0.]\n",
            " ...\n",
            " [0. 0. 0. ... 0. 0. 0.]\n",
            " [0. 0. 0. ... 0. 0. 0.]\n",
            " [0. 0. 0. ... 0. 0. 0.]]\n"
          ]
        }
      ]
    },
    {
      "cell_type": "code",
      "source": [
        "#@title Transpose\n",
        "A_T = A.T"
      ],
      "metadata": {
        "id": "hOORHcPs_xHi"
      },
      "execution_count": 87,
      "outputs": []
    },
    {
      "cell_type": "code",
      "source": [
        "A_sym = A + A_T"
      ],
      "metadata": {
        "id": "FZDS7NTIAP7Y"
      },
      "execution_count": 88,
      "outputs": []
    },
    {
      "cell_type": "code",
      "source": [
        "col_sums = A_sym.sum(axis=0)\n",
        "col_sums[col_sums == 0] = 1\n",
        "A_norm = A_sym/col_sums\n",
        "print(A_norm)"
      ],
      "metadata": {
        "colab": {
          "base_uri": "https://localhost:8080/"
        },
        "id": "pu7atIrtAdo0",
        "outputId": "4b456e81-078c-4e74-8221-ed7348ffc3c6"
      },
      "execution_count": 91,
      "outputs": [
        {
          "output_type": "stream",
          "name": "stdout",
          "text": [
            "[[0. 0. 0. ... 0. 0. 0.]\n",
            " [0. 0. 0. ... 0. 0. 0.]\n",
            " [0. 0. 0. ... 0. 0. 0.]\n",
            " ...\n",
            " [0. 0. 0. ... 0. 0. 0.]\n",
            " [0. 0. 0. ... 0. 0. 0.]\n",
            " [0. 0. 0. ... 0. 0. 0.]]\n"
          ]
        }
      ]
    },
    {
      "cell_type": "code",
      "source": [
        "def normalise_cols(matrix):\n",
        "  matrix_t = matrix.T\n",
        "  matrix_sum = matrix+matrix_t\n",
        "  col_sum = matrix_sum.sum(axis=0)\n",
        "  matrix_norm = matrix_sum/col_sum\n",
        "\n",
        "  return matrix_norm"
      ],
      "metadata": {
        "id": "FPR6qK06dp9p"
      },
      "execution_count": 92,
      "outputs": []
    },
    {
      "cell_type": "code",
      "source": [
        "def bonacich_power_centrality(graph, beta, alpha=None):\n",
        "  A = nx.to_numpy_array(graph, weight='final_trade_quantity')\n",
        "\n",
        "  A = normalise_cols(A)\n",
        "\n",
        "  eigenvalues, _ = np.linalg.eig(A)\n",
        "  lambda_max = max(eigenvalues)\n",
        "\n",
        "  if alpha is None:\n",
        "    alpha = np.sqrt(len(graph.nodes))\n",
        "\n",
        "  I = np.eye(len(A))\n",
        "  l = np.ones(len(A))\n",
        "\n",
        "  centrality_vector = alpha * np.linalg.inv(I - beta * A) @ A @ l\n",
        "\n",
        "  return  centrality_vector"
      ],
      "metadata": {
        "id": "zq0XQKBT80Qz"
      },
      "execution_count": 93,
      "outputs": []
    },
    {
      "cell_type": "code",
      "source": [
        "beta = -0.5"
      ],
      "metadata": {
        "id": "NCb9uu10Dh_O"
      },
      "execution_count": 94,
      "outputs": []
    },
    {
      "cell_type": "code",
      "source": [
        "bonachich_power = bonacich_power_centrality(G, beta)"
      ],
      "metadata": {
        "id": "I5epze61Dn-p"
      },
      "execution_count": 95,
      "outputs": []
    },
    {
      "cell_type": "code",
      "source": [
        "for node, value in zip(G.nodes, bonachich_power):\n",
        "    print(f\"Node {node}: Bonacich power centrality = {value}\")"
      ],
      "metadata": {
        "colab": {
          "base_uri": "https://localhost:8080/"
        },
        "id": "v2LV-DIIDxOG",
        "outputId": "993527e5-fcca-40e5-ba0f-f6dc3a3cf886"
      },
      "execution_count": 97,
      "outputs": [
        {
          "output_type": "stream",
          "name": "stdout",
          "text": [
            "Node 004: Bonacich power centrality = -0.22040411617497718\n",
            "Node 008: Bonacich power centrality = 0.36591001121081596\n",
            "Node 010: Bonacich power centrality = -0.27955046767167313\n",
            "Node 012: Bonacich power centrality = -0.9078099319606929\n",
            "Node 016: Bonacich power centrality = -0.6021876668895677\n",
            "Node 020: Bonacich power centrality = -0.22538493851966962\n",
            "Node 024: Bonacich power centrality = 4.128430019910469\n",
            "Node 028: Bonacich power centrality = 7.710431681052767\n",
            "Node 031: Bonacich power centrality = 2.151677753745242\n",
            "Node 032: Bonacich power centrality = 4.76969987559925\n",
            "Node 036: Bonacich power centrality = 11.933523268256238\n",
            "Node 040: Bonacich power centrality = 16.70671261330529\n",
            "Node 044: Bonacich power centrality = 5.946785689348662\n",
            "Node 048: Bonacich power centrality = 9.258204173067256\n",
            "Node 050: Bonacich power centrality = 1.6697698684944906\n",
            "Node 051: Bonacich power centrality = 0.45764668239625705\n",
            "Node 052: Bonacich power centrality = 2.8975917215566787\n",
            "Node 056: Bonacich power centrality = 43.14915077570124\n",
            "Node 060: Bonacich power centrality = -1.1367973791613752\n",
            "Node 064: Bonacich power centrality = 0.2262955231065029\n",
            "Node 068: Bonacich power centrality = 0.6795971168345508\n",
            "Node 070: Bonacich power centrality = 1.1324414324093348\n",
            "Node 072: Bonacich power centrality = 1.058742318443318\n",
            "Node 076: Bonacich power centrality = 62.26797576341215\n",
            "Node 084: Bonacich power centrality = 0.7852689102953528\n",
            "Node 086: Bonacich power centrality = -0.22436400959620637\n",
            "Node 090: Bonacich power centrality = -0.6564265123487436\n",
            "Node 092: Bonacich power centrality = 3.5847061389653527\n",
            "Node 096: Bonacich power centrality = 0.7645630760561483\n",
            "Node 100: Bonacich power centrality = 10.921048919154064\n",
            "Node 104: Bonacich power centrality = 14.251484524294545\n",
            "Node 108: Bonacich power centrality = -0.5108603670210423\n",
            "Node 112: Bonacich power centrality = 0.17166637445232297\n",
            "Node 116: Bonacich power centrality = 19.921802034775343\n",
            "Node 120: Bonacich power centrality = -0.10285857305059737\n",
            "Node 124: Bonacich power centrality = 58.00422224774566\n",
            "Node 132: Bonacich power centrality = -1.205449132599341\n",
            "Node 136: Bonacich power centrality = 0.7124179254242625\n",
            "Node 140: Bonacich power centrality = -0.2840987851724506\n",
            "Node 144: Bonacich power centrality = 14.153006079437256\n",
            "Node 148: Bonacich power centrality = -0.2839584708249384\n",
            "Node 152: Bonacich power centrality = 2.767463405270007\n",
            "Node 156: Bonacich power centrality = 110.94319368568085\n",
            "Node 170: Bonacich power centrality = 7.89493678669683\n",
            "Node 174: Bonacich power centrality = -0.04114240976638146\n",
            "Node 178: Bonacich power centrality = -0.32715591722974924\n",
            "Node 180: Bonacich power centrality = 3.4604861505983378\n",
            "Node 184: Bonacich power centrality = -1.0642321617226251\n",
            "Node 188: Bonacich power centrality = 6.247044739233222\n",
            "Node 191: Bonacich power centrality = 3.4834102806643163\n",
            "Node 192: Bonacich power centrality = 1.484104385675724\n",
            "Node 196: Bonacich power centrality = 2.931407624517821\n",
            "Node 203: Bonacich power centrality = 26.144742334869143\n",
            "Node 204: Bonacich power centrality = 3.727476921929381\n",
            "Node 208: Bonacich power centrality = 15.469609903283299\n",
            "Node 212: Bonacich power centrality = 0.7366142010667021\n",
            "Node 214: Bonacich power centrality = 9.029056540237056\n",
            "Node 218: Bonacich power centrality = 3.5150865584501103\n",
            "Node 222: Bonacich power centrality = 4.529531608025927\n",
            "Node 226: Bonacich power centrality = 1.265791223179896\n",
            "Node 231: Bonacich power centrality = 2.5794163367305774\n",
            "Node 232: Bonacich power centrality = -0.15031577515695932\n",
            "Node 233: Bonacich power centrality = 3.4988058071652177\n",
            "Node 234: Bonacich power centrality = 0.2721000827355122\n",
            "Node 238: Bonacich power centrality = -0.2024725661988727\n",
            "Node 242: Bonacich power centrality = 44.08584706802935\n",
            "Node 246: Bonacich power centrality = 5.669239059610653\n",
            "Node 251: Bonacich power centrality = 81.50920578497046\n",
            "Node 258: Bonacich power centrality = -1.5838854897686971\n",
            "Node 262: Bonacich power centrality = -0.3440384504567779\n",
            "Node 266: Bonacich power centrality = -0.7217912780607623\n",
            "Node 268: Bonacich power centrality = 1.4792089063013811\n",
            "Node 270: Bonacich power centrality = -1.1477615610592777\n",
            "Node 275: Bonacich power centrality = 0.8111021317716641\n",
            "Node 276: Bonacich power centrality = 35.391232499078356\n",
            "Node 288: Bonacich power centrality = 19.30996706611581\n",
            "Node 292: Bonacich power centrality = -0.434620766345966\n",
            "Node 296: Bonacich power centrality = -1.139070812281297\n",
            "Node 300: Bonacich power centrality = 13.434639642963997\n",
            "Node 304: Bonacich power centrality = 0.24731590194409467\n",
            "Node 308: Bonacich power centrality = 1.0718296396503002\n",
            "Node 316: Bonacich power centrality = -0.03505057280623615\n",
            "Node 320: Bonacich power centrality = 6.456099097315501\n",
            "Node 324: Bonacich power centrality = -0.41450022599816533\n",
            "Node 328: Bonacich power centrality = 21.377041212677288\n",
            "Node 332: Bonacich power centrality = 0.33147645373737994\n",
            "Node 336: Bonacich power centrality = 0.12134549205846422\n",
            "Node 340: Bonacich power centrality = 2.910949745805018\n",
            "Node 344: Bonacich power centrality = 33.84552879369358\n",
            "Node 348: Bonacich power centrality = 4.479650818551315\n",
            "Node 352: Bonacich power centrality = 9.685709809130097\n",
            "Node 360: Bonacich power centrality = 11.053450330511929\n",
            "Node 364: Bonacich power centrality = 2.8703899285340237\n",
            "Node 368: Bonacich power centrality = 0.5114026720367707\n",
            "Node 372: Bonacich power centrality = 13.33971973144904\n",
            "Node 376: Bonacich power centrality = 2.5239377288196048\n",
            "Node 380: Bonacich power centrality = 67.86733259835601\n",
            "Node 384: Bonacich power centrality = 7.141753433886122\n",
            "Node 388: Bonacich power centrality = 9.607746528721481\n",
            "Node 392: Bonacich power centrality = 33.85539379468087\n",
            "Node 398: Bonacich power centrality = 14.81779712632147\n",
            "Node 400: Bonacich power centrality = 9.326684619158351\n",
            "Node 404: Bonacich power centrality = 18.546053232515607\n",
            "Node 408: Bonacich power centrality = -0.23830125851638922\n",
            "Node 410: Bonacich power centrality = 30.308518789667115\n",
            "Node 414: Bonacich power centrality = 2.4421213448259738\n",
            "Node 417: Bonacich power centrality = 1.9630870976224224\n",
            "Node 418: Bonacich power centrality = -1.1988847658490338\n",
            "Node 422: Bonacich power centrality = 19.824854207620206\n",
            "Node 426: Bonacich power centrality = -0.5448643071030147\n",
            "Node 428: Bonacich power centrality = 2.026874483056261\n",
            "Node 430: Bonacich power centrality = 0.9583808952518079\n",
            "Node 434: Bonacich power centrality = -1.0814348663178694\n",
            "Node 440: Bonacich power centrality = 5.926349794195108\n",
            "Node 442: Bonacich power centrality = 7.769168944454743\n",
            "Node 446: Bonacich power centrality = -0.2690232090757423\n",
            "Node 450: Bonacich power centrality = 0.8496785681032814\n",
            "Node 454: Bonacich power centrality = 5.801650392648823\n",
            "Node 458: Bonacich power centrality = 3.6654773384582486\n",
            "Node 462: Bonacich power centrality = 5.253834423023882\n",
            "Node 466: Bonacich power centrality = -0.18956231188285233\n",
            "Node 470: Bonacich power centrality = 1.0940965526116653\n",
            "Node 473: Bonacich power centrality = -0.032529815910870424\n",
            "Node 478: Bonacich power centrality = 0.38814496773897667\n",
            "Node 480: Bonacich power centrality = 1.308304086766763\n",
            "Node 484: Bonacich power centrality = 3.0246638036262956\n",
            "Node 490: Bonacich power centrality = 16.601429595483808\n",
            "Node 496: Bonacich power centrality = -0.10804954061048183\n",
            "Node 498: Bonacich power centrality = 3.056744455297368\n",
            "Node 499: Bonacich power centrality = 2.7166809163275087\n",
            "Node 500: Bonacich power centrality = 2.5570065198423806\n",
            "Node 504: Bonacich power centrality = 0.7365419736537338\n",
            "Node 508: Bonacich power centrality = 4.265502996370201\n",
            "Node 512: Bonacich power centrality = 14.539672620388586\n",
            "Node 516: Bonacich power centrality = 4.359452677623169\n",
            "Node 520: Bonacich power centrality = -0.6462665665138216\n",
            "Node 524: Bonacich power centrality = 3.863261000810972\n",
            "Node 527: Bonacich power centrality = -0.032529815910870424\n",
            "Node 528: Bonacich power centrality = 73.24374784107152\n",
            "Node 531: Bonacich power centrality = 5.209587647024822\n",
            "Node 533: Bonacich power centrality = 0.4871399629876132\n",
            "Node 534: Bonacich power centrality = -0.2694022344910516\n",
            "Node 535: Bonacich power centrality = -0.11643037916828868\n",
            "Node 540: Bonacich power centrality = -0.9684703932895858\n",
            "Node 548: Bonacich power centrality = -1.457790857272858\n",
            "Node 554: Bonacich power centrality = 78.06364724402972\n",
            "Node 558: Bonacich power centrality = 5.7197508953510985\n",
            "Node 562: Bonacich power centrality = 1.679692493539897\n",
            "Node 566: Bonacich power centrality = 3.0552654251957767\n",
            "Node 568: Bonacich power centrality = 0.3452201646137832\n",
            "Node 570: Bonacich power centrality = -0.6462665665138225\n",
            "Node 574: Bonacich power centrality = -0.4181252538323546\n",
            "Node 579: Bonacich power centrality = 8.56561915386917\n",
            "Node 580: Bonacich power centrality = -0.5329418576228467\n",
            "Node 583: Bonacich power centrality = -0.47683750371726535\n",
            "Node 584: Bonacich power centrality = -1.0488748872415845\n",
            "Node 585: Bonacich power centrality = -0.662763680032606\n",
            "Node 586: Bonacich power centrality = 59.66197247603885\n",
            "Node 591: Bonacich power centrality = 11.481886225306337\n",
            "Node 598: Bonacich power centrality = -0.27619581868184917\n",
            "Node 600: Bonacich power centrality = 8.18629645127333\n",
            "Node 604: Bonacich power centrality = 6.333818432809829\n",
            "Node 608: Bonacich power centrality = 3.320180923605862\n",
            "Node 612: Bonacich power centrality = 0.02657891232670109\n",
            "Node 616: Bonacich power centrality = 16.663487503947984\n",
            "Node 620: Bonacich power centrality = 51.608557790202255\n",
            "Node 624: Bonacich power centrality = -1.01607919602162\n",
            "Node 626: Bonacich power centrality = -0.7600220150840662\n",
            "Node 634: Bonacich power centrality = 2.3083395775829256\n",
            "Node 642: Bonacich power centrality = 5.207039049278346\n",
            "Node 643: Bonacich power centrality = 9.775529398741106\n",
            "Node 646: Bonacich power centrality = 4.12799540061058\n",
            "Node 652: Bonacich power centrality = -0.08622434749211749\n",
            "Node 654: Bonacich power centrality = -0.20255273397780385\n",
            "Node 659: Bonacich power centrality = -0.28761235666226737\n",
            "Node 660: Bonacich power centrality = -0.3202211413344158\n",
            "Node 662: Bonacich power centrality = 0.9591580699308525\n",
            "Node 666: Bonacich power centrality = -0.12954001052794903\n",
            "Node 670: Bonacich power centrality = 0.3586863692647317\n",
            "Node 678: Bonacich power centrality = 0.3971094219051178\n",
            "Node 682: Bonacich power centrality = 2.5427688048197896\n",
            "Node 686: Bonacich power centrality = 20.447037958347266\n",
            "Node 688: Bonacich power centrality = 4.367323117393449\n",
            "Node 690: Bonacich power centrality = 0.9090529966035221\n",
            "Node 694: Bonacich power centrality = 0.7782961627108121\n",
            "Node 699: Bonacich power centrality = 99.17961292660588\n",
            "Node 702: Bonacich power centrality = 12.764067756125504\n",
            "Node 703: Bonacich power centrality = 11.588649350099999\n",
            "Node 704: Bonacich power centrality = 31.696530167164596\n",
            "Node 705: Bonacich power centrality = 6.0586581228711625\n",
            "Node 706: Bonacich power centrality = -1.0913467562607528\n",
            "Node 710: Bonacich power centrality = 70.90791510270212\n",
            "Node 716: Bonacich power centrality = 4.399047784116717\n",
            "Node 724: Bonacich power centrality = 45.7799203791923\n",
            "Node 728: Bonacich power centrality = -0.3980816102993439\n",
            "Node 729: Bonacich power centrality = -0.5190236394501513\n",
            "Node 740: Bonacich power centrality = 2.994583099979436\n",
            "Node 748: Bonacich power centrality = 0.004823163952600712\n",
            "Node 752: Bonacich power centrality = 17.555281642526804\n",
            "Node 757: Bonacich power centrality = 15.89881794753131\n",
            "Node 760: Bonacich power centrality = -0.13654082238094992\n",
            "Node 762: Bonacich power centrality = 1.3369500096582012\n",
            "Node 764: Bonacich power centrality = 94.89413291027905\n",
            "Node 768: Bonacich power centrality = 4.216991981822836\n",
            "Node 776: Bonacich power centrality = -0.8845678250302115\n",
            "Node 780: Bonacich power centrality = 9.980295648022128\n",
            "Node 784: Bonacich power centrality = 64.65960121386775\n",
            "Node 788: Bonacich power centrality = 0.16303719217570678\n",
            "Node 792: Bonacich power centrality = 88.64361205378519\n",
            "Node 795: Bonacich power centrality = -0.34957559606782973\n",
            "Node 796: Bonacich power centrality = 0.08559265095020087\n",
            "Node 798: Bonacich power centrality = -1.161725583958766\n",
            "Node 800: Bonacich power centrality = 2.37656598465003\n",
            "Node 804: Bonacich power centrality = 15.383381282775728\n",
            "Node 807: Bonacich power centrality = 3.4619521436041065\n",
            "Node 818: Bonacich power centrality = 9.04412687572045\n",
            "Node 826: Bonacich power centrality = 56.42260229566917\n",
            "Node 834: Bonacich power centrality = 9.766111692142289\n",
            "Node 837: Bonacich power centrality = 0.1906810594843774\n",
            "Node 838: Bonacich power centrality = 0.6330365609040318\n",
            "Node 839: Bonacich power centrality = -0.4997265899031195\n",
            "Node 842: Bonacich power centrality = 141.68191706685977\n",
            "Node 854: Bonacich power centrality = 1.5228976005254458\n",
            "Node 858: Bonacich power centrality = 17.47347334274868\n",
            "Node 860: Bonacich power centrality = 3.662907185153408\n",
            "Node 862: Bonacich power centrality = 1.249756329753093\n",
            "Node 876: Bonacich power centrality = -1.181026237802153\n",
            "Node 882: Bonacich power centrality = -0.8845678250302115\n",
            "Node 887: Bonacich power centrality = -0.4390299666718413\n",
            "Node 894: Bonacich power centrality = 6.396131750433489\n",
            "Node 899: Bonacich power centrality = 9.760509598673128\n"
          ]
        }
      ]
    },
    {
      "cell_type": "markdown",
      "source": [],
      "metadata": {
        "id": "0QtF5NOelpTk"
      }
    }
  ]
}