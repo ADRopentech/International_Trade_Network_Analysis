{
  "nbformat": 4,
  "nbformat_minor": 0,
  "metadata": {
    "colab": {
      "provenance": [],
      "authorship_tag": "ABX9TyMcQJAX+HeO09Seioj9XcSP",
      "include_colab_link": true
    },
    "kernelspec": {
      "name": "python3",
      "display_name": "Python 3"
    },
    "language_info": {
      "name": "python"
    }
  },
  "cells": [
    {
      "cell_type": "markdown",
      "metadata": {
        "id": "view-in-github",
        "colab_type": "text"
      },
      "source": [
        "<a href=\"https://colab.research.google.com/github/ADRopentech/International_Trade_Network_Analysis/blob/main/Processing_by_quantity.ipynb\" target=\"_parent\"><img src=\"https://colab.research.google.com/assets/colab-badge.svg\" alt=\"Open In Colab\"/></a>"
      ]
    },
    {
      "cell_type": "code",
      "execution_count": null,
      "metadata": {
        "colab": {
          "base_uri": "https://localhost:8080/"
        },
        "id": "QPYITHIgf-p0",
        "outputId": "54d930bc-2286-4da5-e38c-5d81ab9caf6d"
      },
      "outputs": [
        {
          "output_type": "stream",
          "name": "stdout",
          "text": [
            "Requirement already satisfied: networkx in /usr/local/lib/python3.10/dist-packages (3.3)\n"
          ]
        }
      ],
      "source": [
        "!pip install networkx"
      ]
    },
    {
      "cell_type": "code",
      "source": [
        "import pandas as pd\n",
        "import numpy as np\n",
        "import math\n",
        "import time\n",
        "import networkx as nx"
      ],
      "metadata": {
        "id": "L9FWkiY2qBod"
      },
      "execution_count": null,
      "outputs": []
    },
    {
      "cell_type": "markdown",
      "source": [
        "# Importing data"
      ],
      "metadata": {
        "id": "UwMqPEqoIxuz"
      }
    },
    {
      "cell_type": "code",
      "source": [
        "exports = pd.read_csv('exports_2022.csv')\n",
        "imports = pd.read_csv('imports_2022.csv')"
      ],
      "metadata": {
        "id": "FtYgAyzJqG5J"
      },
      "execution_count": null,
      "outputs": []
    },
    {
      "cell_type": "code",
      "source": [
        "url_hs_codes = \"https://raw.githubusercontent.com/ADRopentech/Visualizing-Global-Trade-Networks/main/comtrade_codes/harmonized-system.csv\"\n",
        "url_partner_codes = \"https://raw.githubusercontent.com/ADRopentech/Visualizing-Global-Trade-Networks/main/comtrade_codes/partnerAreas.csv\"\n",
        "url_reporter_codes = \"https://raw.githubusercontent.com/ADRopentech/Visualizing-Global-Trade-Networks/main/comtrade_codes/reporterAreas.csv\"\n",
        "\n",
        "commodities = pd.read_csv(url_hs_codes)\n",
        "partners = pd.read_csv(url_partner_codes)\n",
        "reporters = pd.read_csv(url_reporter_codes)"
      ],
      "metadata": {
        "id": "8BjTbA3XqtOe"
      },
      "execution_count": null,
      "outputs": []
    },
    {
      "cell_type": "code",
      "source": [
        "display(reporters)"
      ],
      "metadata": {
        "colab": {
          "base_uri": "https://localhost:8080/",
          "height": 424
        },
        "id": "3sbRTK4f-nQC",
        "outputId": "d47fd8a6-325b-4444-f097-c887e9e6a607"
      },
      "execution_count": null,
      "outputs": [
        {
          "output_type": "display_data",
          "data": {
            "text/plain": [
              "      id                    text\n",
              "0    all                     All\n",
              "1      4             Afghanistan\n",
              "2      8                 Albania\n",
              "3     12                 Algeria\n",
              "4     20                 Andorra\n",
              "..   ...                     ...\n",
              "252  876  Wallis and Futuna Isds\n",
              "253  887                   Yemen\n",
              "254  894                  Zambia\n",
              "255  716                Zimbabwe\n",
              "256  975                   ASEAN\n",
              "\n",
              "[257 rows x 2 columns]"
            ],
            "text/html": [
              "\n",
              "  <div id=\"df-cce6f727-42df-46c3-ae59-0a9a1ab6e5ab\" class=\"colab-df-container\">\n",
              "    <div>\n",
              "<style scoped>\n",
              "    .dataframe tbody tr th:only-of-type {\n",
              "        vertical-align: middle;\n",
              "    }\n",
              "\n",
              "    .dataframe tbody tr th {\n",
              "        vertical-align: top;\n",
              "    }\n",
              "\n",
              "    .dataframe thead th {\n",
              "        text-align: right;\n",
              "    }\n",
              "</style>\n",
              "<table border=\"1\" class=\"dataframe\">\n",
              "  <thead>\n",
              "    <tr style=\"text-align: right;\">\n",
              "      <th></th>\n",
              "      <th>id</th>\n",
              "      <th>text</th>\n",
              "    </tr>\n",
              "  </thead>\n",
              "  <tbody>\n",
              "    <tr>\n",
              "      <th>0</th>\n",
              "      <td>all</td>\n",
              "      <td>All</td>\n",
              "    </tr>\n",
              "    <tr>\n",
              "      <th>1</th>\n",
              "      <td>4</td>\n",
              "      <td>Afghanistan</td>\n",
              "    </tr>\n",
              "    <tr>\n",
              "      <th>2</th>\n",
              "      <td>8</td>\n",
              "      <td>Albania</td>\n",
              "    </tr>\n",
              "    <tr>\n",
              "      <th>3</th>\n",
              "      <td>12</td>\n",
              "      <td>Algeria</td>\n",
              "    </tr>\n",
              "    <tr>\n",
              "      <th>4</th>\n",
              "      <td>20</td>\n",
              "      <td>Andorra</td>\n",
              "    </tr>\n",
              "    <tr>\n",
              "      <th>...</th>\n",
              "      <td>...</td>\n",
              "      <td>...</td>\n",
              "    </tr>\n",
              "    <tr>\n",
              "      <th>252</th>\n",
              "      <td>876</td>\n",
              "      <td>Wallis and Futuna Isds</td>\n",
              "    </tr>\n",
              "    <tr>\n",
              "      <th>253</th>\n",
              "      <td>887</td>\n",
              "      <td>Yemen</td>\n",
              "    </tr>\n",
              "    <tr>\n",
              "      <th>254</th>\n",
              "      <td>894</td>\n",
              "      <td>Zambia</td>\n",
              "    </tr>\n",
              "    <tr>\n",
              "      <th>255</th>\n",
              "      <td>716</td>\n",
              "      <td>Zimbabwe</td>\n",
              "    </tr>\n",
              "    <tr>\n",
              "      <th>256</th>\n",
              "      <td>975</td>\n",
              "      <td>ASEAN</td>\n",
              "    </tr>\n",
              "  </tbody>\n",
              "</table>\n",
              "<p>257 rows × 2 columns</p>\n",
              "</div>\n",
              "    <div class=\"colab-df-buttons\">\n",
              "\n",
              "  <div class=\"colab-df-container\">\n",
              "    <button class=\"colab-df-convert\" onclick=\"convertToInteractive('df-cce6f727-42df-46c3-ae59-0a9a1ab6e5ab')\"\n",
              "            title=\"Convert this dataframe to an interactive table.\"\n",
              "            style=\"display:none;\">\n",
              "\n",
              "  <svg xmlns=\"http://www.w3.org/2000/svg\" height=\"24px\" viewBox=\"0 -960 960 960\">\n",
              "    <path d=\"M120-120v-720h720v720H120Zm60-500h600v-160H180v160Zm220 220h160v-160H400v160Zm0 220h160v-160H400v160ZM180-400h160v-160H180v160Zm440 0h160v-160H620v160ZM180-180h160v-160H180v160Zm440 0h160v-160H620v160Z\"/>\n",
              "  </svg>\n",
              "    </button>\n",
              "\n",
              "  <style>\n",
              "    .colab-df-container {\n",
              "      display:flex;\n",
              "      gap: 12px;\n",
              "    }\n",
              "\n",
              "    .colab-df-convert {\n",
              "      background-color: #E8F0FE;\n",
              "      border: none;\n",
              "      border-radius: 50%;\n",
              "      cursor: pointer;\n",
              "      display: none;\n",
              "      fill: #1967D2;\n",
              "      height: 32px;\n",
              "      padding: 0 0 0 0;\n",
              "      width: 32px;\n",
              "    }\n",
              "\n",
              "    .colab-df-convert:hover {\n",
              "      background-color: #E2EBFA;\n",
              "      box-shadow: 0px 1px 2px rgba(60, 64, 67, 0.3), 0px 1px 3px 1px rgba(60, 64, 67, 0.15);\n",
              "      fill: #174EA6;\n",
              "    }\n",
              "\n",
              "    .colab-df-buttons div {\n",
              "      margin-bottom: 4px;\n",
              "    }\n",
              "\n",
              "    [theme=dark] .colab-df-convert {\n",
              "      background-color: #3B4455;\n",
              "      fill: #D2E3FC;\n",
              "    }\n",
              "\n",
              "    [theme=dark] .colab-df-convert:hover {\n",
              "      background-color: #434B5C;\n",
              "      box-shadow: 0px 1px 3px 1px rgba(0, 0, 0, 0.15);\n",
              "      filter: drop-shadow(0px 1px 2px rgba(0, 0, 0, 0.3));\n",
              "      fill: #FFFFFF;\n",
              "    }\n",
              "  </style>\n",
              "\n",
              "    <script>\n",
              "      const buttonEl =\n",
              "        document.querySelector('#df-cce6f727-42df-46c3-ae59-0a9a1ab6e5ab button.colab-df-convert');\n",
              "      buttonEl.style.display =\n",
              "        google.colab.kernel.accessAllowed ? 'block' : 'none';\n",
              "\n",
              "      async function convertToInteractive(key) {\n",
              "        const element = document.querySelector('#df-cce6f727-42df-46c3-ae59-0a9a1ab6e5ab');\n",
              "        const dataTable =\n",
              "          await google.colab.kernel.invokeFunction('convertToInteractive',\n",
              "                                                    [key], {});\n",
              "        if (!dataTable) return;\n",
              "\n",
              "        const docLinkHtml = 'Like what you see? Visit the ' +\n",
              "          '<a target=\"_blank\" href=https://colab.research.google.com/notebooks/data_table.ipynb>data table notebook</a>'\n",
              "          + ' to learn more about interactive tables.';\n",
              "        element.innerHTML = '';\n",
              "        dataTable['output_type'] = 'display_data';\n",
              "        await google.colab.output.renderOutput(dataTable, element);\n",
              "        const docLink = document.createElement('div');\n",
              "        docLink.innerHTML = docLinkHtml;\n",
              "        element.appendChild(docLink);\n",
              "      }\n",
              "    </script>\n",
              "  </div>\n",
              "\n",
              "\n",
              "<div id=\"df-fff3d1b9-e89f-477d-875b-87dc53b1b616\">\n",
              "  <button class=\"colab-df-quickchart\" onclick=\"quickchart('df-fff3d1b9-e89f-477d-875b-87dc53b1b616')\"\n",
              "            title=\"Suggest charts\"\n",
              "            style=\"display:none;\">\n",
              "\n",
              "<svg xmlns=\"http://www.w3.org/2000/svg\" height=\"24px\"viewBox=\"0 0 24 24\"\n",
              "     width=\"24px\">\n",
              "    <g>\n",
              "        <path d=\"M19 3H5c-1.1 0-2 .9-2 2v14c0 1.1.9 2 2 2h14c1.1 0 2-.9 2-2V5c0-1.1-.9-2-2-2zM9 17H7v-7h2v7zm4 0h-2V7h2v10zm4 0h-2v-4h2v4z\"/>\n",
              "    </g>\n",
              "</svg>\n",
              "  </button>\n",
              "\n",
              "<style>\n",
              "  .colab-df-quickchart {\n",
              "      --bg-color: #E8F0FE;\n",
              "      --fill-color: #1967D2;\n",
              "      --hover-bg-color: #E2EBFA;\n",
              "      --hover-fill-color: #174EA6;\n",
              "      --disabled-fill-color: #AAA;\n",
              "      --disabled-bg-color: #DDD;\n",
              "  }\n",
              "\n",
              "  [theme=dark] .colab-df-quickchart {\n",
              "      --bg-color: #3B4455;\n",
              "      --fill-color: #D2E3FC;\n",
              "      --hover-bg-color: #434B5C;\n",
              "      --hover-fill-color: #FFFFFF;\n",
              "      --disabled-bg-color: #3B4455;\n",
              "      --disabled-fill-color: #666;\n",
              "  }\n",
              "\n",
              "  .colab-df-quickchart {\n",
              "    background-color: var(--bg-color);\n",
              "    border: none;\n",
              "    border-radius: 50%;\n",
              "    cursor: pointer;\n",
              "    display: none;\n",
              "    fill: var(--fill-color);\n",
              "    height: 32px;\n",
              "    padding: 0;\n",
              "    width: 32px;\n",
              "  }\n",
              "\n",
              "  .colab-df-quickchart:hover {\n",
              "    background-color: var(--hover-bg-color);\n",
              "    box-shadow: 0 1px 2px rgba(60, 64, 67, 0.3), 0 1px 3px 1px rgba(60, 64, 67, 0.15);\n",
              "    fill: var(--button-hover-fill-color);\n",
              "  }\n",
              "\n",
              "  .colab-df-quickchart-complete:disabled,\n",
              "  .colab-df-quickchart-complete:disabled:hover {\n",
              "    background-color: var(--disabled-bg-color);\n",
              "    fill: var(--disabled-fill-color);\n",
              "    box-shadow: none;\n",
              "  }\n",
              "\n",
              "  .colab-df-spinner {\n",
              "    border: 2px solid var(--fill-color);\n",
              "    border-color: transparent;\n",
              "    border-bottom-color: var(--fill-color);\n",
              "    animation:\n",
              "      spin 1s steps(1) infinite;\n",
              "  }\n",
              "\n",
              "  @keyframes spin {\n",
              "    0% {\n",
              "      border-color: transparent;\n",
              "      border-bottom-color: var(--fill-color);\n",
              "      border-left-color: var(--fill-color);\n",
              "    }\n",
              "    20% {\n",
              "      border-color: transparent;\n",
              "      border-left-color: var(--fill-color);\n",
              "      border-top-color: var(--fill-color);\n",
              "    }\n",
              "    30% {\n",
              "      border-color: transparent;\n",
              "      border-left-color: var(--fill-color);\n",
              "      border-top-color: var(--fill-color);\n",
              "      border-right-color: var(--fill-color);\n",
              "    }\n",
              "    40% {\n",
              "      border-color: transparent;\n",
              "      border-right-color: var(--fill-color);\n",
              "      border-top-color: var(--fill-color);\n",
              "    }\n",
              "    60% {\n",
              "      border-color: transparent;\n",
              "      border-right-color: var(--fill-color);\n",
              "    }\n",
              "    80% {\n",
              "      border-color: transparent;\n",
              "      border-right-color: var(--fill-color);\n",
              "      border-bottom-color: var(--fill-color);\n",
              "    }\n",
              "    90% {\n",
              "      border-color: transparent;\n",
              "      border-bottom-color: var(--fill-color);\n",
              "    }\n",
              "  }\n",
              "</style>\n",
              "\n",
              "  <script>\n",
              "    async function quickchart(key) {\n",
              "      const quickchartButtonEl =\n",
              "        document.querySelector('#' + key + ' button');\n",
              "      quickchartButtonEl.disabled = true;  // To prevent multiple clicks.\n",
              "      quickchartButtonEl.classList.add('colab-df-spinner');\n",
              "      try {\n",
              "        const charts = await google.colab.kernel.invokeFunction(\n",
              "            'suggestCharts', [key], {});\n",
              "      } catch (error) {\n",
              "        console.error('Error during call to suggestCharts:', error);\n",
              "      }\n",
              "      quickchartButtonEl.classList.remove('colab-df-spinner');\n",
              "      quickchartButtonEl.classList.add('colab-df-quickchart-complete');\n",
              "    }\n",
              "    (() => {\n",
              "      let quickchartButtonEl =\n",
              "        document.querySelector('#df-fff3d1b9-e89f-477d-875b-87dc53b1b616 button');\n",
              "      quickchartButtonEl.style.display =\n",
              "        google.colab.kernel.accessAllowed ? 'block' : 'none';\n",
              "    })();\n",
              "  </script>\n",
              "</div>\n",
              "\n",
              "  <div id=\"id_9100c961-f98c-45f4-a787-7ba5053ae6c4\">\n",
              "    <style>\n",
              "      .colab-df-generate {\n",
              "        background-color: #E8F0FE;\n",
              "        border: none;\n",
              "        border-radius: 50%;\n",
              "        cursor: pointer;\n",
              "        display: none;\n",
              "        fill: #1967D2;\n",
              "        height: 32px;\n",
              "        padding: 0 0 0 0;\n",
              "        width: 32px;\n",
              "      }\n",
              "\n",
              "      .colab-df-generate:hover {\n",
              "        background-color: #E2EBFA;\n",
              "        box-shadow: 0px 1px 2px rgba(60, 64, 67, 0.3), 0px 1px 3px 1px rgba(60, 64, 67, 0.15);\n",
              "        fill: #174EA6;\n",
              "      }\n",
              "\n",
              "      [theme=dark] .colab-df-generate {\n",
              "        background-color: #3B4455;\n",
              "        fill: #D2E3FC;\n",
              "      }\n",
              "\n",
              "      [theme=dark] .colab-df-generate:hover {\n",
              "        background-color: #434B5C;\n",
              "        box-shadow: 0px 1px 3px 1px rgba(0, 0, 0, 0.15);\n",
              "        filter: drop-shadow(0px 1px 2px rgba(0, 0, 0, 0.3));\n",
              "        fill: #FFFFFF;\n",
              "      }\n",
              "    </style>\n",
              "    <button class=\"colab-df-generate\" onclick=\"generateWithVariable('reporters')\"\n",
              "            title=\"Generate code using this dataframe.\"\n",
              "            style=\"display:none;\">\n",
              "\n",
              "  <svg xmlns=\"http://www.w3.org/2000/svg\" height=\"24px\"viewBox=\"0 0 24 24\"\n",
              "       width=\"24px\">\n",
              "    <path d=\"M7,19H8.4L18.45,9,17,7.55,7,17.6ZM5,21V16.75L18.45,3.32a2,2,0,0,1,2.83,0l1.4,1.43a1.91,1.91,0,0,1,.58,1.4,1.91,1.91,0,0,1-.58,1.4L9.25,21ZM18.45,9,17,7.55Zm-12,3A5.31,5.31,0,0,0,4.9,8.1,5.31,5.31,0,0,0,1,6.5,5.31,5.31,0,0,0,4.9,4.9,5.31,5.31,0,0,0,6.5,1,5.31,5.31,0,0,0,8.1,4.9,5.31,5.31,0,0,0,12,6.5,5.46,5.46,0,0,0,6.5,12Z\"/>\n",
              "  </svg>\n",
              "    </button>\n",
              "    <script>\n",
              "      (() => {\n",
              "      const buttonEl =\n",
              "        document.querySelector('#id_9100c961-f98c-45f4-a787-7ba5053ae6c4 button.colab-df-generate');\n",
              "      buttonEl.style.display =\n",
              "        google.colab.kernel.accessAllowed ? 'block' : 'none';\n",
              "\n",
              "      buttonEl.onclick = () => {\n",
              "        google.colab.notebook.generateWithVariable('reporters');\n",
              "      }\n",
              "      })();\n",
              "    </script>\n",
              "  </div>\n",
              "\n",
              "    </div>\n",
              "  </div>\n"
            ],
            "application/vnd.google.colaboratory.intrinsic+json": {
              "type": "dataframe",
              "variable_name": "reporters",
              "summary": "{\n  \"name\": \"reporters\",\n  \"rows\": 257,\n  \"fields\": [\n    {\n      \"column\": \"id\",\n      \"properties\": {\n        \"dtype\": \"string\",\n        \"num_unique_values\": 257,\n        \"samples\": [\n          \"554\",\n          \"642\",\n          \"280\"\n        ],\n        \"semantic_type\": \"\",\n        \"description\": \"\"\n      }\n    },\n    {\n      \"column\": \"text\",\n      \"properties\": {\n        \"dtype\": \"string\",\n        \"num_unique_values\": 257,\n        \"samples\": [\n          \"New Zealand\",\n          \"Romania\",\n          \"Fmr Fed. Rep. of Germany\"\n        ],\n        \"semantic_type\": \"\",\n        \"description\": \"\"\n      }\n    }\n  ]\n}"
            }
          },
          "metadata": {}
        }
      ]
    },
    {
      "cell_type": "markdown",
      "source": [
        "# Segregating and processing data and creating nodes."
      ],
      "metadata": {
        "id": "qj_j5oWfJK39"
      }
    },
    {
      "cell_type": "code",
      "source": [
        "# @title total exports and imports\n",
        "total_exports = exports[exports['partnerCode'] == 0][['reporterCode', 'partnerCode', 'netWgt']].groupby(['reporterCode', 'partnerCode']).agg('sum').reset_index()\n",
        "total_imports = imports[imports['partnerCode'] == 0][['reporterCode', 'partnerCode', 'netWgt']].groupby(['reporterCode', 'partnerCode']).agg('sum').reset_index()"
      ],
      "metadata": {
        "id": "P0xaDiTftdEZ"
      },
      "execution_count": null,
      "outputs": []
    },
    {
      "cell_type": "code",
      "source": [
        "# @title exports and imports by country\n",
        "exports_by_country = exports[exports['partnerCode'] != 0][['reporterCode', 'partnerCode', 'netWgt']].groupby(['reporterCode', 'partnerCode']).agg('sum').reset_index()\n",
        "imports_by_country = imports[imports['partnerCode'] != 0][['reporterCode', 'partnerCode', 'netWgt']].groupby(['reporterCode', 'partnerCode']).agg('sum').reset_index()"
      ],
      "metadata": {
        "id": "tKiSt4BQwYv1"
      },
      "execution_count": null,
      "outputs": []
    },
    {
      "cell_type": "code",
      "source": [
        "# @title data cleaning and formatting\n",
        "for dataset in [total_exports, total_imports, exports_by_country, imports_by_country]:\n",
        "    for col in ['reporterCode', 'partnerCode']:\n",
        "        dataset[col] = [\n",
        "            '00' + str(x) if len(str(x)) == 1\n",
        "            else '0' +  str(x) if len(str(x)) == 2\n",
        "            else str(x)\n",
        "            for x in dataset[col].tolist()\n",
        "        ]\n",
        "\n",
        "exports_by_country.columns = ['exporter', 'importer', 'quantity']\n",
        "imports_by_country.columns = ['importer', 'exporter', 'quantity']\n",
        "total_exports.columns = ['reporterCode', 'partnerCode', 'export_quantity']\n",
        "total_imports.columns = ['reporterCode', 'partnerCode', 'import_quantity']"
      ],
      "metadata": {
        "id": "tortnhMlwvKq"
      },
      "execution_count": null,
      "outputs": []
    },
    {
      "cell_type": "code",
      "source": [
        "# @title official exports and imports reported by a country\n",
        "total_trade = total_exports[['reporterCode','export_quantity']].set_index('reporterCode').join(\n",
        "    total_imports[['reporterCode', 'import_quantity']].set_index('reporterCode'),how='outer').reset_index().rename(\n",
        "        columns={'reporterCode': 'country_code'}).set_index('country_code')"
      ],
      "metadata": {
        "id": "gt6HDY4M7cTC"
      },
      "execution_count": null,
      "outputs": []
    },
    {
      "cell_type": "code",
      "source": [
        "for col in ['export_quantity', 'import_quantity']:\n",
        "    total_trade[col + '_note'] = [1 if math.isnan(x) else 0 for x in total_trade[col].tolist()]"
      ],
      "metadata": {
        "id": "5RIexLp883aU"
      },
      "execution_count": null,
      "outputs": []
    },
    {
      "cell_type": "code",
      "source": [
        "# @title countries exports according to its importers\n",
        "imports_to_add = exports_by_country[['exporter', 'importer', 'quantity']].groupby('importer').agg('sum')"
      ],
      "metadata": {
        "id": "VSbIBwkB9IZk"
      },
      "execution_count": null,
      "outputs": []
    },
    {
      "cell_type": "code",
      "source": [
        "# @title countries imports according to its exporters\n",
        "exports_to_add = imports_by_country[['importer', 'exporter', 'quantity']].groupby('exporter').agg('sum')"
      ],
      "metadata": {
        "id": "sXIAKLzkNkD1"
      },
      "execution_count": null,
      "outputs": []
    },
    {
      "cell_type": "code",
      "source": [
        "# @title total trade as reported by importers and exporters\n",
        "trade_to_add = exports_to_add.rename(columns = {'quantity':'export_by_partners'}).join(imports_to_add.rename(columns = {'quantity':'import_by_partners'}),how = 'outer')"
      ],
      "metadata": {
        "id": "jMrap8QGUvUG"
      },
      "execution_count": null,
      "outputs": []
    },
    {
      "cell_type": "code",
      "source": [
        "# @title total trade as officially and unofficially reported\n",
        "df_nodes = total_trade.join(trade_to_add, how='outer')[['export_quantity', 'import_quantity', 'export_by_partners', 'import_by_partners']]\n",
        "df_nodes[['export_quantity', 'import_quantity', 'export_by_partners','import_by_partners']] = df_nodes[['export_quantity', 'import_quantity', 'export_by_partners', 'import_by_partners']].fillna(0)"
      ],
      "metadata": {
        "id": "ZliSKi8JU78-"
      },
      "execution_count": null,
      "outputs": []
    },
    {
      "cell_type": "code",
      "source": [
        "# @title correcting actual trade values\n",
        "df_nodes['trade_exports'] = [\n",
        "    ex if ex>=exp\n",
        "    else exp for ex, im, exp, imp in zip(df_nodes['export_quantity'], df_nodes['import_quantity'], df_nodes['export_by_partners'], df_nodes['import_by_partners'])\n",
        "]\n",
        "\n",
        "df_nodes['trade_imports'] = [\n",
        "    im if im>=imp\n",
        "    else imp for ex, im, exp, imp in zip(df_nodes['export_quantity'], df_nodes['import_quantity'], df_nodes['export_by_partners'], df_nodes['import_by_partners'])\n",
        "]"
      ],
      "metadata": {
        "id": "tGLRo0Q3l9h2"
      },
      "execution_count": null,
      "outputs": []
    },
    {
      "cell_type": "code",
      "source": [
        "# @title actual total trade\n",
        "df_nodes['trade'] = df_nodes['trade_exports'] + df_nodes['trade_imports']\n",
        "df_nodes = df_nodes[df_nodes['trade']>0] # removing trades less than 0"
      ],
      "metadata": {
        "id": "k4ikVVu0mviR"
      },
      "execution_count": null,
      "outputs": []
    },
    {
      "cell_type": "code",
      "source": [
        "# @title rescaling nodes\n",
        "df_nodes['trade_rescaled'] = df_nodes['trade'] / df_nodes['trade'].max() * 60                            # Rescaling the sizes: max = 60 and min = 0.15\n",
        "df_nodes['trade_rescaled'] = [ 0.15 if x <= 0.15 else x for x in df_nodes['trade_rescaled'].tolist()]"
      ],
      "metadata": {
        "id": "P8f90pnOnp8w"
      },
      "execution_count": null,
      "outputs": []
    },
    {
      "cell_type": "code",
      "source": [
        "# @title creating nodes for network\n",
        "nodes = df_nodes.index.values"
      ],
      "metadata": {
        "id": "CUfu9V9kLoVc"
      },
      "execution_count": null,
      "outputs": []
    },
    {
      "cell_type": "markdown",
      "source": [
        "# Creating Links"
      ],
      "metadata": {
        "id": "qENcNXFbL3B7"
      }
    },
    {
      "cell_type": "code",
      "source": [
        "# @title Keep only countries with non-zero trade\n",
        "export_by_country = exports_by_country[(exports_by_country['exporter'].isin(df_nodes.index.tolist())) & (exports_by_country['importer'].isin(df_nodes.index.tolist()))]\n",
        "import_by_country = imports_by_country[(imports_by_country['exporter'].isin(df_nodes.index.tolist())) & (imports_by_country['importer'].isin(df_nodes.index.tolist()))]"
      ],
      "metadata": {
        "id": "WMRKcXw4mjxT"
      },
      "execution_count": null,
      "outputs": []
    },
    {
      "cell_type": "code",
      "source": [
        "df_list = []\n",
        "\n",
        "for dataset in [export_by_country, import_by_country]:\n",
        "  dataset['source_target'] = ['_'.join(sorted([exporter, importer]))\n",
        "  for exporter, importer in zip(dataset['exporter'], dataset['importer'])\n",
        "  ]\n",
        "\n",
        "  dataset['order'] = dataset.groupby('source_target').cumcount()\n",
        "\n",
        "  df = dataset[dataset['order']==0].set_index('source_target')[[\n",
        "      'exporter', 'importer', 'quantity'\n",
        "  ]].rename(columns = {\n",
        "      'quantity' : 'to'\n",
        "  }).join(dataset[dataset['order']==1].set_index('source_target')[['quantity']].rename(columns={'quantity':'back'}))\n",
        "\n",
        "  df_list.append(df)"
      ],
      "metadata": {
        "id": "izV2BFK1SDSh"
      },
      "execution_count": null,
      "outputs": []
    },
    {
      "cell_type": "code",
      "source": [
        "df_exp = export_by_country.sort_values(by = 'source_target')\n",
        "df_imp = import_by_country.sort_values(by = 'source_target')"
      ],
      "metadata": {
        "id": "rIlaYnMyOYhS"
      },
      "execution_count": null,
      "outputs": []
    },
    {
      "cell_type": "code",
      "source": [
        "# @title creating final dataframe for link information\n",
        "source_target_df = pd.merge(df_exp, df_imp, on=['exporter','importer','source_target'], how='outer', suffixes=('_exporter', '_importer')).fillna(0)"
      ],
      "metadata": {
        "id": "R6I3VP3oRC80"
      },
      "execution_count": null,
      "outputs": []
    },
    {
      "cell_type": "code",
      "source": [
        "# @title highest trade as weights for each link\n",
        "source_target_df['final_trade_quantity'] = [\n",
        "    quantity_exporter if (quantity_exporter != 0) and (quantity_importer != 0) and (quantity_exporter>quantity_importer)\n",
        "    else quantity_importer if (quantity_exporter != 0) and (quantity_importer != 0) and (quantity_exporter<quantity_importer)\n",
        "    else quantity_exporter if (quantity_exporter != 0) and (quantity_importer == 0)\n",
        "    else quantity_importer if (quantity_exporter == 0) and (quantity_importer != 0)\n",
        "    else quantity_exporter\n",
        "    for quantity_exporter, quantity_importer in zip(source_target_df['quantity_exporter'], source_target_df['quantity_importer'])\n",
        "]"
      ],
      "metadata": {
        "id": "_yuNXvosKaey"
      },
      "execution_count": null,
      "outputs": []
    },
    {
      "cell_type": "code",
      "source": [
        "# @title removeing 0 trades\n",
        "source_target_df = source_target_df[source_target_df['final_trade_quantity']>0]"
      ],
      "metadata": {
        "id": "UHgGbdTmPaWq"
      },
      "execution_count": null,
      "outputs": []
    },
    {
      "cell_type": "code",
      "source": [
        "# @title final links table\n",
        "links_final = source_target_df[['exporter', 'importer', 'final_trade_quantity']].sort_values(by = ['exporter','importer'])"
      ],
      "metadata": {
        "id": "GQsaRL8oR3dE"
      },
      "execution_count": null,
      "outputs": []
    },
    {
      "cell_type": "code",
      "source": [
        "# @title Edges\n",
        "edges = list(zip(links_final.exporter.values, links_final.importer.values, links_final.final_trade_quantity.values))"
      ],
      "metadata": {
        "id": "h6Goq4Pgw2Jz"
      },
      "execution_count": null,
      "outputs": []
    },
    {
      "cell_type": "markdown",
      "source": [
        "# Creating the network"
      ],
      "metadata": {
        "id": "rH8PiJTtRlsl"
      }
    },
    {
      "cell_type": "code",
      "source": [
        "G = nx.DiGraph()"
      ],
      "metadata": {
        "id": "_C88aG1-vCfH"
      },
      "execution_count": null,
      "outputs": []
    },
    {
      "cell_type": "code",
      "source": [
        "G.add_nodes_from(nodes)"
      ],
      "metadata": {
        "id": "PpRpVUQPvXI7"
      },
      "execution_count": null,
      "outputs": []
    },
    {
      "cell_type": "code",
      "source": [
        "G.add_weighted_edges_from(edges)"
      ],
      "metadata": {
        "id": "TxLVV7BXxw91"
      },
      "execution_count": null,
      "outputs": []
    },
    {
      "cell_type": "code",
      "source": [
        "#Number of nodes and links\n",
        "print('Number of nodes:', G.number_of_nodes())\n",
        "print('Number of links:', G.number_of_edges())\n",
        "print('Density:', nx.density(G))"
      ],
      "metadata": {
        "colab": {
          "base_uri": "https://localhost:8080/"
        },
        "id": "fKMT3vtsyXuC",
        "outputId": "4d23fdbf-47b6-46e1-a3e8-f29d5ead52dc"
      },
      "execution_count": null,
      "outputs": [
        {
          "output_type": "stream",
          "name": "stdout",
          "text": [
            "Number of nodes: 231\n",
            "Number of links: 4806\n",
            "Density: 0.09045736871823828\n"
          ]
        }
      ]
    },
    {
      "cell_type": "code",
      "source": [
        "print('Is there any isolated node?', bool(list(nx.isolates(G))))\n",
        "print('\\n')\n",
        "print('Is the graph strongly connected?', nx.is_strongly_connected(G))\n",
        "print('Number of strongly connected components:', nx.number_strongly_connected_components(G))"
      ],
      "metadata": {
        "colab": {
          "base_uri": "https://localhost:8080/"
        },
        "id": "0IUqA5TayaeH",
        "outputId": "c878d777-d0fe-4f8f-d358-101aa8134912"
      },
      "execution_count": null,
      "outputs": [
        {
          "output_type": "stream",
          "name": "stdout",
          "text": [
            "Is there any isolated node? False\n",
            "\n",
            "\n",
            "Is the graph strongly connected? False\n",
            "Number of strongly connected components: 51\n"
          ]
        }
      ]
    },
    {
      "cell_type": "code",
      "source": [
        "print('Is the graph weakly connected?', nx.is_weakly_connected(G))\n",
        "print('Number of weakly connected components:', nx.number_weakly_connected_components(G))"
      ],
      "metadata": {
        "colab": {
          "base_uri": "https://localhost:8080/"
        },
        "id": "C4-kRXInyg7S",
        "outputId": "0ff67f66-77a9-416b-b723-5e7b2c89ccbf"
      },
      "execution_count": null,
      "outputs": [
        {
          "output_type": "stream",
          "name": "stdout",
          "text": [
            "Is the graph weakly connected? True\n",
            "Number of weakly connected components: 1\n"
          ]
        }
      ]
    },
    {
      "cell_type": "code",
      "source": [],
      "metadata": {
        "id": "UqnndMA8ynXX"
      },
      "execution_count": null,
      "outputs": []
    }
  ]
}